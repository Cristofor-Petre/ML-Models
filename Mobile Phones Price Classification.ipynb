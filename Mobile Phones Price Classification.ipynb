{
 "cells": [
  {
   "cell_type": "code",
   "execution_count": 2,
   "metadata": {},
   "outputs": [],
   "source": [
    "%matplotlib inline\n",
    "import numpy as np\n",
    "import pandas as pd\n",
    "import csv\n",
    "import matplotlib.pyplot as plt\n",
    "from sklearn.model_selection import train_test_split\n",
    "from sklearn import svm\n",
    "from sklearn.metrics import confusion_matrix,classification_report, accuracy_score\n",
    "from sklearn.ensemble import RandomForestClassifier\n",
    "from sklearn.preprocessing import StandardScaler\n",
    "from sklearn.model_selection import validation_curve\n",
    "from sklearn.model_selection import GridSearchCV\n",
    "from sklearn.metrics import f1_score\n",
    "import seaborn as sns\n",
    "import warnings\n",
    "sns.set()\n",
    "warnings.filterwarnings(\"ignore\")"
   ]
  },
  {
   "cell_type": "markdown",
   "metadata": {},
   "source": [
    "# 1. Dataset information\n",
    "The Mobile Price Classification dataset contains 2000 samples and 21 features. In this dataset we can find features like :\n",
    "<ul>\n",
    "    <li>fc: front camera pixels</li>\n",
    "    <li>four_g: has 4G or not</li>\n",
    "    <li>int_memory: internal memory in gigabytes</li>\n",
    "    <li>ram: random acces memory in megabytes</li>\n",
    "    <li>n_cores: number of cores of processor</li>\n",
    "    <li>etc.</li>\n",
    "</ul>\n",
    "\n",
    "### The aim of this project is to predict, based on this features, the price range of a mobile phone (0 – low price, 1 – medium price, 2 – high price, 3 – very high price). The dataset can be downloaded from:\n",
    "https://www.kaggle.com/iabhishekofficial/mobile-price-classification"
   ]
  },
  {
   "cell_type": "markdown",
   "metadata": {},
   "source": [
    "## 1.1 Dataset cleaning\n",
    "\n",
    "Before we proceed to data cleaning (imputing missing values, converting columns stored as text into numbers, removing duplicate entries or entries that contain missing values) we must first check if our dataset contains any missing values, duplicate entries or columns stored as text. The dataset doesn’t contain duplicate entries, missing values and all of its features are numeric."
   ]
  },
  {
   "cell_type": "code",
   "execution_count": 4,
   "metadata": {},
   "outputs": [
    {
     "name": "stdout",
     "output_type": "stream",
     "text": [
      "Dataset shape: (2000, 21)\n"
     ]
    }
   ],
   "source": [
    "df = pd.read_csv('your-path/train.csv')\n",
    "print('Dataset shape:' , df.shape)"
   ]
  },
  {
   "cell_type": "code",
   "execution_count": 5,
   "metadata": {},
   "outputs": [
    {
     "name": "stdout",
     "output_type": "stream",
     "text": [
      "Number of duplicate rows: 0\n"
     ]
    },
    {
     "data": {
      "text/html": [
       "<div>\n",
       "<style scoped>\n",
       "    .dataframe tbody tr th:only-of-type {\n",
       "        vertical-align: middle;\n",
       "    }\n",
       "\n",
       "    .dataframe tbody tr th {\n",
       "        vertical-align: top;\n",
       "    }\n",
       "\n",
       "    .dataframe thead th {\n",
       "        text-align: right;\n",
       "    }\n",
       "</style>\n",
       "<table border=\"1\" class=\"dataframe\">\n",
       "  <thead>\n",
       "    <tr style=\"text-align: right;\">\n",
       "      <th></th>\n",
       "      <th>battery_power</th>\n",
       "      <th>blue</th>\n",
       "      <th>clock_speed</th>\n",
       "      <th>dual_sim</th>\n",
       "      <th>fc</th>\n",
       "      <th>four_g</th>\n",
       "      <th>int_memory</th>\n",
       "      <th>m_dep</th>\n",
       "      <th>mobile_wt</th>\n",
       "      <th>n_cores</th>\n",
       "      <th>...</th>\n",
       "      <th>px_height</th>\n",
       "      <th>px_width</th>\n",
       "      <th>ram</th>\n",
       "      <th>sc_h</th>\n",
       "      <th>sc_w</th>\n",
       "      <th>talk_time</th>\n",
       "      <th>three_g</th>\n",
       "      <th>touch_screen</th>\n",
       "      <th>wifi</th>\n",
       "      <th>price_range</th>\n",
       "    </tr>\n",
       "  </thead>\n",
       "  <tbody>\n",
       "    <tr>\n",
       "      <th>0</th>\n",
       "      <td>842</td>\n",
       "      <td>0</td>\n",
       "      <td>2.2</td>\n",
       "      <td>0</td>\n",
       "      <td>1</td>\n",
       "      <td>0</td>\n",
       "      <td>7</td>\n",
       "      <td>0.6</td>\n",
       "      <td>188</td>\n",
       "      <td>2</td>\n",
       "      <td>...</td>\n",
       "      <td>20</td>\n",
       "      <td>756</td>\n",
       "      <td>2549</td>\n",
       "      <td>9</td>\n",
       "      <td>7</td>\n",
       "      <td>19</td>\n",
       "      <td>0</td>\n",
       "      <td>0</td>\n",
       "      <td>1</td>\n",
       "      <td>1</td>\n",
       "    </tr>\n",
       "    <tr>\n",
       "      <th>1</th>\n",
       "      <td>1021</td>\n",
       "      <td>1</td>\n",
       "      <td>0.5</td>\n",
       "      <td>1</td>\n",
       "      <td>0</td>\n",
       "      <td>1</td>\n",
       "      <td>53</td>\n",
       "      <td>0.7</td>\n",
       "      <td>136</td>\n",
       "      <td>3</td>\n",
       "      <td>...</td>\n",
       "      <td>905</td>\n",
       "      <td>1988</td>\n",
       "      <td>2631</td>\n",
       "      <td>17</td>\n",
       "      <td>3</td>\n",
       "      <td>7</td>\n",
       "      <td>1</td>\n",
       "      <td>1</td>\n",
       "      <td>0</td>\n",
       "      <td>2</td>\n",
       "    </tr>\n",
       "    <tr>\n",
       "      <th>2</th>\n",
       "      <td>563</td>\n",
       "      <td>1</td>\n",
       "      <td>0.5</td>\n",
       "      <td>1</td>\n",
       "      <td>2</td>\n",
       "      <td>1</td>\n",
       "      <td>41</td>\n",
       "      <td>0.9</td>\n",
       "      <td>145</td>\n",
       "      <td>5</td>\n",
       "      <td>...</td>\n",
       "      <td>1263</td>\n",
       "      <td>1716</td>\n",
       "      <td>2603</td>\n",
       "      <td>11</td>\n",
       "      <td>2</td>\n",
       "      <td>9</td>\n",
       "      <td>1</td>\n",
       "      <td>1</td>\n",
       "      <td>0</td>\n",
       "      <td>2</td>\n",
       "    </tr>\n",
       "    <tr>\n",
       "      <th>3</th>\n",
       "      <td>615</td>\n",
       "      <td>1</td>\n",
       "      <td>2.5</td>\n",
       "      <td>0</td>\n",
       "      <td>0</td>\n",
       "      <td>0</td>\n",
       "      <td>10</td>\n",
       "      <td>0.8</td>\n",
       "      <td>131</td>\n",
       "      <td>6</td>\n",
       "      <td>...</td>\n",
       "      <td>1216</td>\n",
       "      <td>1786</td>\n",
       "      <td>2769</td>\n",
       "      <td>16</td>\n",
       "      <td>8</td>\n",
       "      <td>11</td>\n",
       "      <td>1</td>\n",
       "      <td>0</td>\n",
       "      <td>0</td>\n",
       "      <td>2</td>\n",
       "    </tr>\n",
       "    <tr>\n",
       "      <th>4</th>\n",
       "      <td>1821</td>\n",
       "      <td>1</td>\n",
       "      <td>1.2</td>\n",
       "      <td>0</td>\n",
       "      <td>13</td>\n",
       "      <td>1</td>\n",
       "      <td>44</td>\n",
       "      <td>0.6</td>\n",
       "      <td>141</td>\n",
       "      <td>2</td>\n",
       "      <td>...</td>\n",
       "      <td>1208</td>\n",
       "      <td>1212</td>\n",
       "      <td>1411</td>\n",
       "      <td>8</td>\n",
       "      <td>2</td>\n",
       "      <td>15</td>\n",
       "      <td>1</td>\n",
       "      <td>1</td>\n",
       "      <td>0</td>\n",
       "      <td>1</td>\n",
       "    </tr>\n",
       "    <tr>\n",
       "      <th>5</th>\n",
       "      <td>1859</td>\n",
       "      <td>0</td>\n",
       "      <td>0.5</td>\n",
       "      <td>1</td>\n",
       "      <td>3</td>\n",
       "      <td>0</td>\n",
       "      <td>22</td>\n",
       "      <td>0.7</td>\n",
       "      <td>164</td>\n",
       "      <td>1</td>\n",
       "      <td>...</td>\n",
       "      <td>1004</td>\n",
       "      <td>1654</td>\n",
       "      <td>1067</td>\n",
       "      <td>17</td>\n",
       "      <td>1</td>\n",
       "      <td>10</td>\n",
       "      <td>1</td>\n",
       "      <td>0</td>\n",
       "      <td>0</td>\n",
       "      <td>1</td>\n",
       "    </tr>\n",
       "    <tr>\n",
       "      <th>6</th>\n",
       "      <td>1821</td>\n",
       "      <td>0</td>\n",
       "      <td>1.7</td>\n",
       "      <td>0</td>\n",
       "      <td>4</td>\n",
       "      <td>1</td>\n",
       "      <td>10</td>\n",
       "      <td>0.8</td>\n",
       "      <td>139</td>\n",
       "      <td>8</td>\n",
       "      <td>...</td>\n",
       "      <td>381</td>\n",
       "      <td>1018</td>\n",
       "      <td>3220</td>\n",
       "      <td>13</td>\n",
       "      <td>8</td>\n",
       "      <td>18</td>\n",
       "      <td>1</td>\n",
       "      <td>0</td>\n",
       "      <td>1</td>\n",
       "      <td>3</td>\n",
       "    </tr>\n",
       "    <tr>\n",
       "      <th>7</th>\n",
       "      <td>1954</td>\n",
       "      <td>0</td>\n",
       "      <td>0.5</td>\n",
       "      <td>1</td>\n",
       "      <td>0</td>\n",
       "      <td>0</td>\n",
       "      <td>24</td>\n",
       "      <td>0.8</td>\n",
       "      <td>187</td>\n",
       "      <td>4</td>\n",
       "      <td>...</td>\n",
       "      <td>512</td>\n",
       "      <td>1149</td>\n",
       "      <td>700</td>\n",
       "      <td>16</td>\n",
       "      <td>3</td>\n",
       "      <td>5</td>\n",
       "      <td>1</td>\n",
       "      <td>1</td>\n",
       "      <td>1</td>\n",
       "      <td>0</td>\n",
       "    </tr>\n",
       "    <tr>\n",
       "      <th>8</th>\n",
       "      <td>1445</td>\n",
       "      <td>1</td>\n",
       "      <td>0.5</td>\n",
       "      <td>0</td>\n",
       "      <td>0</td>\n",
       "      <td>0</td>\n",
       "      <td>53</td>\n",
       "      <td>0.7</td>\n",
       "      <td>174</td>\n",
       "      <td>7</td>\n",
       "      <td>...</td>\n",
       "      <td>386</td>\n",
       "      <td>836</td>\n",
       "      <td>1099</td>\n",
       "      <td>17</td>\n",
       "      <td>1</td>\n",
       "      <td>20</td>\n",
       "      <td>1</td>\n",
       "      <td>0</td>\n",
       "      <td>0</td>\n",
       "      <td>0</td>\n",
       "    </tr>\n",
       "    <tr>\n",
       "      <th>9</th>\n",
       "      <td>509</td>\n",
       "      <td>1</td>\n",
       "      <td>0.6</td>\n",
       "      <td>1</td>\n",
       "      <td>2</td>\n",
       "      <td>1</td>\n",
       "      <td>9</td>\n",
       "      <td>0.1</td>\n",
       "      <td>93</td>\n",
       "      <td>5</td>\n",
       "      <td>...</td>\n",
       "      <td>1137</td>\n",
       "      <td>1224</td>\n",
       "      <td>513</td>\n",
       "      <td>19</td>\n",
       "      <td>10</td>\n",
       "      <td>12</td>\n",
       "      <td>1</td>\n",
       "      <td>0</td>\n",
       "      <td>0</td>\n",
       "      <td>0</td>\n",
       "    </tr>\n",
       "  </tbody>\n",
       "</table>\n",
       "<p>10 rows × 21 columns</p>\n",
       "</div>"
      ],
      "text/plain": [
       "   battery_power  blue  clock_speed  dual_sim  fc  four_g  int_memory  m_dep  \\\n",
       "0            842     0          2.2         0   1       0           7    0.6   \n",
       "1           1021     1          0.5         1   0       1          53    0.7   \n",
       "2            563     1          0.5         1   2       1          41    0.9   \n",
       "3            615     1          2.5         0   0       0          10    0.8   \n",
       "4           1821     1          1.2         0  13       1          44    0.6   \n",
       "5           1859     0          0.5         1   3       0          22    0.7   \n",
       "6           1821     0          1.7         0   4       1          10    0.8   \n",
       "7           1954     0          0.5         1   0       0          24    0.8   \n",
       "8           1445     1          0.5         0   0       0          53    0.7   \n",
       "9            509     1          0.6         1   2       1           9    0.1   \n",
       "\n",
       "   mobile_wt  n_cores     ...       px_height  px_width   ram  sc_h  sc_w  \\\n",
       "0        188        2     ...              20       756  2549     9     7   \n",
       "1        136        3     ...             905      1988  2631    17     3   \n",
       "2        145        5     ...            1263      1716  2603    11     2   \n",
       "3        131        6     ...            1216      1786  2769    16     8   \n",
       "4        141        2     ...            1208      1212  1411     8     2   \n",
       "5        164        1     ...            1004      1654  1067    17     1   \n",
       "6        139        8     ...             381      1018  3220    13     8   \n",
       "7        187        4     ...             512      1149   700    16     3   \n",
       "8        174        7     ...             386       836  1099    17     1   \n",
       "9         93        5     ...            1137      1224   513    19    10   \n",
       "\n",
       "   talk_time  three_g  touch_screen  wifi  price_range  \n",
       "0         19        0             0     1            1  \n",
       "1          7        1             1     0            2  \n",
       "2          9        1             1     0            2  \n",
       "3         11        1             0     0            2  \n",
       "4         15        1             1     0            1  \n",
       "5         10        1             0     0            1  \n",
       "6         18        1             0     1            3  \n",
       "7          5        1             1     1            0  \n",
       "8         20        1             0     0            0  \n",
       "9         12        1             0     0            0  \n",
       "\n",
       "[10 rows x 21 columns]"
      ]
     },
     "execution_count": 5,
     "metadata": {},
     "output_type": "execute_result"
    }
   ],
   "source": [
    "a = np.array(df.duplicated()).astype('int')\n",
    "print('Number of duplicate rows: {}'.format(a.sum()))\n",
    "df.head(10)\n"
   ]
  },
  {
   "cell_type": "markdown",
   "metadata": {},
   "source": [
    "#### Some univariate statistics"
   ]
  },
  {
   "cell_type": "code",
   "execution_count": 6,
   "metadata": {},
   "outputs": [
    {
     "data": {
      "text/html": [
       "<div>\n",
       "<style scoped>\n",
       "    .dataframe tbody tr th:only-of-type {\n",
       "        vertical-align: middle;\n",
       "    }\n",
       "\n",
       "    .dataframe tbody tr th {\n",
       "        vertical-align: top;\n",
       "    }\n",
       "\n",
       "    .dataframe thead th {\n",
       "        text-align: right;\n",
       "    }\n",
       "</style>\n",
       "<table border=\"1\" class=\"dataframe\">\n",
       "  <thead>\n",
       "    <tr style=\"text-align: right;\">\n",
       "      <th></th>\n",
       "      <th>battery_power</th>\n",
       "      <th>blue</th>\n",
       "      <th>clock_speed</th>\n",
       "      <th>dual_sim</th>\n",
       "      <th>fc</th>\n",
       "      <th>four_g</th>\n",
       "      <th>int_memory</th>\n",
       "      <th>m_dep</th>\n",
       "      <th>mobile_wt</th>\n",
       "      <th>n_cores</th>\n",
       "      <th>...</th>\n",
       "      <th>px_height</th>\n",
       "      <th>px_width</th>\n",
       "      <th>ram</th>\n",
       "      <th>sc_h</th>\n",
       "      <th>sc_w</th>\n",
       "      <th>talk_time</th>\n",
       "      <th>three_g</th>\n",
       "      <th>touch_screen</th>\n",
       "      <th>wifi</th>\n",
       "      <th>price_range</th>\n",
       "    </tr>\n",
       "  </thead>\n",
       "  <tbody>\n",
       "    <tr>\n",
       "      <th>count</th>\n",
       "      <td>2000.000000</td>\n",
       "      <td>2000.0000</td>\n",
       "      <td>2000.000000</td>\n",
       "      <td>2000.000000</td>\n",
       "      <td>2000.000000</td>\n",
       "      <td>2000.000000</td>\n",
       "      <td>2000.000000</td>\n",
       "      <td>2000.000000</td>\n",
       "      <td>2000.000000</td>\n",
       "      <td>2000.000000</td>\n",
       "      <td>...</td>\n",
       "      <td>2000.000000</td>\n",
       "      <td>2000.000000</td>\n",
       "      <td>2000.000000</td>\n",
       "      <td>2000.000000</td>\n",
       "      <td>2000.000000</td>\n",
       "      <td>2000.000000</td>\n",
       "      <td>2000.000000</td>\n",
       "      <td>2000.000000</td>\n",
       "      <td>2000.000000</td>\n",
       "      <td>2000.000000</td>\n",
       "    </tr>\n",
       "    <tr>\n",
       "      <th>mean</th>\n",
       "      <td>1238.518500</td>\n",
       "      <td>0.4950</td>\n",
       "      <td>1.522250</td>\n",
       "      <td>0.509500</td>\n",
       "      <td>4.309500</td>\n",
       "      <td>0.521500</td>\n",
       "      <td>32.046500</td>\n",
       "      <td>0.501750</td>\n",
       "      <td>140.249000</td>\n",
       "      <td>4.520500</td>\n",
       "      <td>...</td>\n",
       "      <td>645.108000</td>\n",
       "      <td>1251.515500</td>\n",
       "      <td>2124.213000</td>\n",
       "      <td>12.306500</td>\n",
       "      <td>5.767000</td>\n",
       "      <td>11.011000</td>\n",
       "      <td>0.761500</td>\n",
       "      <td>0.503000</td>\n",
       "      <td>0.507000</td>\n",
       "      <td>1.500000</td>\n",
       "    </tr>\n",
       "    <tr>\n",
       "      <th>std</th>\n",
       "      <td>439.418206</td>\n",
       "      <td>0.5001</td>\n",
       "      <td>0.816004</td>\n",
       "      <td>0.500035</td>\n",
       "      <td>4.341444</td>\n",
       "      <td>0.499662</td>\n",
       "      <td>18.145715</td>\n",
       "      <td>0.288416</td>\n",
       "      <td>35.399655</td>\n",
       "      <td>2.287837</td>\n",
       "      <td>...</td>\n",
       "      <td>443.780811</td>\n",
       "      <td>432.199447</td>\n",
       "      <td>1084.732044</td>\n",
       "      <td>4.213245</td>\n",
       "      <td>4.356398</td>\n",
       "      <td>5.463955</td>\n",
       "      <td>0.426273</td>\n",
       "      <td>0.500116</td>\n",
       "      <td>0.500076</td>\n",
       "      <td>1.118314</td>\n",
       "    </tr>\n",
       "    <tr>\n",
       "      <th>min</th>\n",
       "      <td>501.000000</td>\n",
       "      <td>0.0000</td>\n",
       "      <td>0.500000</td>\n",
       "      <td>0.000000</td>\n",
       "      <td>0.000000</td>\n",
       "      <td>0.000000</td>\n",
       "      <td>2.000000</td>\n",
       "      <td>0.100000</td>\n",
       "      <td>80.000000</td>\n",
       "      <td>1.000000</td>\n",
       "      <td>...</td>\n",
       "      <td>0.000000</td>\n",
       "      <td>500.000000</td>\n",
       "      <td>256.000000</td>\n",
       "      <td>5.000000</td>\n",
       "      <td>0.000000</td>\n",
       "      <td>2.000000</td>\n",
       "      <td>0.000000</td>\n",
       "      <td>0.000000</td>\n",
       "      <td>0.000000</td>\n",
       "      <td>0.000000</td>\n",
       "    </tr>\n",
       "    <tr>\n",
       "      <th>25%</th>\n",
       "      <td>851.750000</td>\n",
       "      <td>0.0000</td>\n",
       "      <td>0.700000</td>\n",
       "      <td>0.000000</td>\n",
       "      <td>1.000000</td>\n",
       "      <td>0.000000</td>\n",
       "      <td>16.000000</td>\n",
       "      <td>0.200000</td>\n",
       "      <td>109.000000</td>\n",
       "      <td>3.000000</td>\n",
       "      <td>...</td>\n",
       "      <td>282.750000</td>\n",
       "      <td>874.750000</td>\n",
       "      <td>1207.500000</td>\n",
       "      <td>9.000000</td>\n",
       "      <td>2.000000</td>\n",
       "      <td>6.000000</td>\n",
       "      <td>1.000000</td>\n",
       "      <td>0.000000</td>\n",
       "      <td>0.000000</td>\n",
       "      <td>0.750000</td>\n",
       "    </tr>\n",
       "    <tr>\n",
       "      <th>50%</th>\n",
       "      <td>1226.000000</td>\n",
       "      <td>0.0000</td>\n",
       "      <td>1.500000</td>\n",
       "      <td>1.000000</td>\n",
       "      <td>3.000000</td>\n",
       "      <td>1.000000</td>\n",
       "      <td>32.000000</td>\n",
       "      <td>0.500000</td>\n",
       "      <td>141.000000</td>\n",
       "      <td>4.000000</td>\n",
       "      <td>...</td>\n",
       "      <td>564.000000</td>\n",
       "      <td>1247.000000</td>\n",
       "      <td>2146.500000</td>\n",
       "      <td>12.000000</td>\n",
       "      <td>5.000000</td>\n",
       "      <td>11.000000</td>\n",
       "      <td>1.000000</td>\n",
       "      <td>1.000000</td>\n",
       "      <td>1.000000</td>\n",
       "      <td>1.500000</td>\n",
       "    </tr>\n",
       "    <tr>\n",
       "      <th>75%</th>\n",
       "      <td>1615.250000</td>\n",
       "      <td>1.0000</td>\n",
       "      <td>2.200000</td>\n",
       "      <td>1.000000</td>\n",
       "      <td>7.000000</td>\n",
       "      <td>1.000000</td>\n",
       "      <td>48.000000</td>\n",
       "      <td>0.800000</td>\n",
       "      <td>170.000000</td>\n",
       "      <td>7.000000</td>\n",
       "      <td>...</td>\n",
       "      <td>947.250000</td>\n",
       "      <td>1633.000000</td>\n",
       "      <td>3064.500000</td>\n",
       "      <td>16.000000</td>\n",
       "      <td>9.000000</td>\n",
       "      <td>16.000000</td>\n",
       "      <td>1.000000</td>\n",
       "      <td>1.000000</td>\n",
       "      <td>1.000000</td>\n",
       "      <td>2.250000</td>\n",
       "    </tr>\n",
       "    <tr>\n",
       "      <th>max</th>\n",
       "      <td>1998.000000</td>\n",
       "      <td>1.0000</td>\n",
       "      <td>3.000000</td>\n",
       "      <td>1.000000</td>\n",
       "      <td>19.000000</td>\n",
       "      <td>1.000000</td>\n",
       "      <td>64.000000</td>\n",
       "      <td>1.000000</td>\n",
       "      <td>200.000000</td>\n",
       "      <td>8.000000</td>\n",
       "      <td>...</td>\n",
       "      <td>1960.000000</td>\n",
       "      <td>1998.000000</td>\n",
       "      <td>3998.000000</td>\n",
       "      <td>19.000000</td>\n",
       "      <td>18.000000</td>\n",
       "      <td>20.000000</td>\n",
       "      <td>1.000000</td>\n",
       "      <td>1.000000</td>\n",
       "      <td>1.000000</td>\n",
       "      <td>3.000000</td>\n",
       "    </tr>\n",
       "  </tbody>\n",
       "</table>\n",
       "<p>8 rows × 21 columns</p>\n",
       "</div>"
      ],
      "text/plain": [
       "       battery_power       blue  clock_speed     dual_sim           fc  \\\n",
       "count    2000.000000  2000.0000  2000.000000  2000.000000  2000.000000   \n",
       "mean     1238.518500     0.4950     1.522250     0.509500     4.309500   \n",
       "std       439.418206     0.5001     0.816004     0.500035     4.341444   \n",
       "min       501.000000     0.0000     0.500000     0.000000     0.000000   \n",
       "25%       851.750000     0.0000     0.700000     0.000000     1.000000   \n",
       "50%      1226.000000     0.0000     1.500000     1.000000     3.000000   \n",
       "75%      1615.250000     1.0000     2.200000     1.000000     7.000000   \n",
       "max      1998.000000     1.0000     3.000000     1.000000    19.000000   \n",
       "\n",
       "            four_g   int_memory        m_dep    mobile_wt      n_cores  \\\n",
       "count  2000.000000  2000.000000  2000.000000  2000.000000  2000.000000   \n",
       "mean      0.521500    32.046500     0.501750   140.249000     4.520500   \n",
       "std       0.499662    18.145715     0.288416    35.399655     2.287837   \n",
       "min       0.000000     2.000000     0.100000    80.000000     1.000000   \n",
       "25%       0.000000    16.000000     0.200000   109.000000     3.000000   \n",
       "50%       1.000000    32.000000     0.500000   141.000000     4.000000   \n",
       "75%       1.000000    48.000000     0.800000   170.000000     7.000000   \n",
       "max       1.000000    64.000000     1.000000   200.000000     8.000000   \n",
       "\n",
       "          ...         px_height     px_width          ram         sc_h  \\\n",
       "count     ...       2000.000000  2000.000000  2000.000000  2000.000000   \n",
       "mean      ...        645.108000  1251.515500  2124.213000    12.306500   \n",
       "std       ...        443.780811   432.199447  1084.732044     4.213245   \n",
       "min       ...          0.000000   500.000000   256.000000     5.000000   \n",
       "25%       ...        282.750000   874.750000  1207.500000     9.000000   \n",
       "50%       ...        564.000000  1247.000000  2146.500000    12.000000   \n",
       "75%       ...        947.250000  1633.000000  3064.500000    16.000000   \n",
       "max       ...       1960.000000  1998.000000  3998.000000    19.000000   \n",
       "\n",
       "              sc_w    talk_time      three_g  touch_screen         wifi  \\\n",
       "count  2000.000000  2000.000000  2000.000000   2000.000000  2000.000000   \n",
       "mean      5.767000    11.011000     0.761500      0.503000     0.507000   \n",
       "std       4.356398     5.463955     0.426273      0.500116     0.500076   \n",
       "min       0.000000     2.000000     0.000000      0.000000     0.000000   \n",
       "25%       2.000000     6.000000     1.000000      0.000000     0.000000   \n",
       "50%       5.000000    11.000000     1.000000      1.000000     1.000000   \n",
       "75%       9.000000    16.000000     1.000000      1.000000     1.000000   \n",
       "max      18.000000    20.000000     1.000000      1.000000     1.000000   \n",
       "\n",
       "       price_range  \n",
       "count  2000.000000  \n",
       "mean      1.500000  \n",
       "std       1.118314  \n",
       "min       0.000000  \n",
       "25%       0.750000  \n",
       "50%       1.500000  \n",
       "75%       2.250000  \n",
       "max       3.000000  \n",
       "\n",
       "[8 rows x 21 columns]"
      ]
     },
     "execution_count": 6,
     "metadata": {},
     "output_type": "execute_result"
    }
   ],
   "source": [
    "df.describe()"
   ]
  },
  {
   "cell_type": "code",
   "execution_count": 7,
   "metadata": {},
   "outputs": [
    {
     "name": "stdout",
     "output_type": "stream",
     "text": [
      "<class 'pandas.core.frame.DataFrame'>\n",
      "RangeIndex: 2000 entries, 0 to 1999\n",
      "Data columns (total 21 columns):\n",
      "battery_power    2000 non-null int64\n",
      "blue             2000 non-null int64\n",
      "clock_speed      2000 non-null float64\n",
      "dual_sim         2000 non-null int64\n",
      "fc               2000 non-null int64\n",
      "four_g           2000 non-null int64\n",
      "int_memory       2000 non-null int64\n",
      "m_dep            2000 non-null float64\n",
      "mobile_wt        2000 non-null int64\n",
      "n_cores          2000 non-null int64\n",
      "pc               2000 non-null int64\n",
      "px_height        2000 non-null int64\n",
      "px_width         2000 non-null int64\n",
      "ram              2000 non-null int64\n",
      "sc_h             2000 non-null int64\n",
      "sc_w             2000 non-null int64\n",
      "talk_time        2000 non-null int64\n",
      "three_g          2000 non-null int64\n",
      "touch_screen     2000 non-null int64\n",
      "wifi             2000 non-null int64\n",
      "price_range      2000 non-null int64\n",
      "dtypes: float64(2), int64(19)\n",
      "memory usage: 328.2 KB\n"
     ]
    }
   ],
   "source": [
    "df.info()"
   ]
  },
  {
   "cell_type": "code",
   "execution_count": 8,
   "metadata": {},
   "outputs": [
    {
     "name": "stdout",
     "output_type": "stream",
     "text": [
      "Column\t\t#NA values\n",
      "\n",
      "battery_power    0\n",
      "blue             0\n",
      "clock_speed      0\n",
      "dual_sim         0\n",
      "fc               0\n",
      "four_g           0\n",
      "int_memory       0\n",
      "m_dep            0\n",
      "mobile_wt        0\n",
      "n_cores          0\n",
      "pc               0\n",
      "px_height        0\n",
      "px_width         0\n",
      "ram              0\n",
      "sc_h             0\n",
      "sc_w             0\n",
      "talk_time        0\n",
      "three_g          0\n",
      "touch_screen     0\n",
      "wifi             0\n",
      "price_range      0\n",
      "dtype: int64 \n",
      "\n",
      "\n",
      "Total NA values: 0 \n",
      "\n",
      "Classes to predict: [1 2 3 0] \n",
      "\n"
     ]
    }
   ],
   "source": [
    "print('Column\\t\\t#NA values\\n')\n",
    "print(df.isna().sum(),'\\n\\n')\n",
    "print(\"Total NA values: {}\".format(df.isna().sum().sum()),'\\n')\n",
    "print(\"Classes to predict: {}\".format(df['price_range'].unique()),'\\n')"
   ]
  },
  {
   "cell_type": "markdown",
   "metadata": {},
   "source": [
    "### Out of 21 features, 13 are numerical and the rest are categorical (including the target variable price_range). As we can observe in the below figure, the dataset is balanced."
   ]
  },
  {
   "cell_type": "code",
   "execution_count": 14,
   "metadata": {},
   "outputs": [
    {
     "data": {
      "image/png": "[encoded data removed]",
      "text/plain": [
       "<Figure size 720x360 with 1 Axes>"
      ]
     },
     "metadata": {
      "needs_background": "light"
     },
     "output_type": "display_data"
    }
   ],
   "source": [
    "f, ax = plt.subplots(figsize=(10,5))\n",
    "ax = sns.countplot(x='price_range', data = df)\n",
    "plt.xlabel('Cost')\n",
    "plt.ylabel('Samples')\n",
    "plt.title('Data distribution')\n",
    "plt.show()"
   ]
  },
  {
   "cell_type": "markdown",
   "metadata": {},
   "source": [
    "## 1.2 Data analysis"
   ]
  },
  {
   "cell_type": "markdown",
   "metadata": {},
   "source": [
    "### 1.2.1 Countplot - shows the counts of observations in each categorical bin using bars\n",
    "\n",
    "Below, there are several countplots for variables such as four_g, wifi, n_cores or bluetooth or touchscreen. The x-axis represents the value of the categorical variable, the y-axis the count for the variable with a certain value, while the color denotes the price range of the variable. The main purpose for using countplots is to demonstrate whether the presence or the absence of some phone's feature (for example whether the phone has 4G or not) indicates predominantly more expensive phones (if the feature is present) or cheaper phones (if the feature is not present) or just observing how the samples are distributed by price range for different values of some variable (for example number of cores).\n",
    "\n",
    "And indeed, in almost all of the countplots (except touchscreen countplot), we observe that mobile phones are distributed as sligthly more expensive when some feature is present."
   ]
  },
  {
   "cell_type": "code",
   "execution_count": 15,
   "metadata": {},
   "outputs": [
    {
     "data": {
      "image/png": "[encoded data removed]",
      "text/plain": [
       "<Figure size 648x432 with 1 Axes>"
      ]
     },
     "metadata": {
      "needs_background": "light"
     },
     "output_type": "display_data"
    }
   ],
   "source": [
    "f, ax = plt.subplots(figsize=(9,6))\n",
    "ax = sns.countplot(x='four_g', hue = 'price_range', data = df)\n",
    "plt.legend(bbox_to_anchor=(1.025,1.025),loc=\"upper right\")\n",
    "plt.subplots_adjust(left=0.1, bottom=0.1, right=1.1)\n",
    "plt.show()"
   ]
  },
  {
   "cell_type": "code",
   "execution_count": 16,
   "metadata": {},
   "outputs": [
    {
     "data": {
      "image/png": "[encoded data removed]",
      "text/plain": [
       "<Figure size 648x432 with 1 Axes>"
      ]
     },
     "metadata": {
      "needs_background": "light"
     },
     "output_type": "display_data"
    }
   ],
   "source": [
    "f, ax = plt.subplots(figsize=(9,6))\n",
    "ax = sns.countplot(x='wifi', hue = 'price_range', data = df)\n",
    "plt.legend(bbox_to_anchor=(1.025,1.025),loc=\"upper right\")\n",
    "plt.subplots_adjust(left=0.1, bottom=0.1, right=1.1)\n",
    "plt.show()"
   ]
  },
  {
   "cell_type": "code",
   "execution_count": 17,
   "metadata": {},
   "outputs": [
    {
     "data": {
      "image/png": "[encoded data removed]",
      "text/plain": [
       "<Figure size 864x432 with 1 Axes>"
      ]
     },
     "metadata": {
      "needs_background": "light"
     },
     "output_type": "display_data"
    }
   ],
   "source": [
    "f, ax = plt.subplots(figsize=(12,6))\n",
    "ax = sns.countplot(x='n_cores', hue = 'price_range', data = df)\n",
    "plt.legend(bbox_to_anchor=(1.025,1.025),loc=\"upper right\")\n",
    "plt.subplots_adjust(left=0.1, bottom=0.1, right=1.1)\n",
    "plt.show()"
   ]
  },
  {
   "cell_type": "code",
   "execution_count": 18,
   "metadata": {},
   "outputs": [
    {
     "data": {
      "image/png": "[encoded data removed]",
      "text/plain": [
       "<Figure size 648x432 with 1 Axes>"
      ]
     },
     "metadata": {
      "needs_background": "light"
     },
     "output_type": "display_data"
    }
   ],
   "source": [
    "f, ax = plt.subplots(figsize=(9,6))\n",
    "ax = sns.countplot(x='blue', hue = 'price_range', data = df)\n",
    "plt.legend(bbox_to_anchor=(1.025,1.025),loc=\"upper right\")\n",
    "plt.subplots_adjust(left=0.1, bottom=0.1, right=1.1)\n",
    "plt.show()"
   ]
  },
  {
   "cell_type": "code",
   "execution_count": 19,
   "metadata": {},
   "outputs": [
    {
     "data": {
      "image/png": "[encoded data removed]",
      "text/plain": [
       "<Figure size 1152x432 with 1 Axes>"
      ]
     },
     "metadata": {
      "needs_background": "light"
     },
     "output_type": "display_data"
    }
   ],
   "source": [
    "f, ax = plt.subplots(figsize=(16,6))\n",
    "ax = sns.countplot(x='touch_screen', hue = 'price_range', data = df)\n",
    "plt.legend(bbox_to_anchor=(1.,1.025),loc=\"upper right\")\n",
    "plt.subplots_adjust(left=0.1, bottom=0.15, right=1.1)\n",
    "plt.show()"
   ]
  },
  {
   "cell_type": "markdown",
   "metadata": {},
   "source": [
    "### 1.2.2 Box plot - shows the distribution of quantitative data in a way that facilitates comparisons between variables or across levels of a categorical variable\n",
    "\n",
    "We can observe in some of the below figures (the boxplots for ram and battery power features) that the price range of mobile phone linearly increases when one of these features also increases (an indicator that these features are good predictors)."
   ]
  },
  {
   "cell_type": "code",
   "execution_count": 28,
   "metadata": {},
   "outputs": [
    {
     "data": {
      "text/plain": [
       "<matplotlib.axes._subplots.AxesSubplot at 0x1387f7be080>"
      ]
     },
     "execution_count": 28,
     "metadata": {},
     "output_type": "execute_result"
    },
    {
     "data": {
      "image/png": "[encoded data removed]",
      "text/plain": [
       "<Figure size 432x288 with 1 Axes>"
      ]
     },
     "metadata": {
      "needs_background": "light"
     },
     "output_type": "display_data"
    }
   ],
   "source": [
    "sns.boxplot(x = 'price_range', y = 'ram', data = df)"
   ]
  },
  {
   "cell_type": "code",
   "execution_count": 29,
   "metadata": {},
   "outputs": [
    {
     "data": {
      "text/plain": [
       "<matplotlib.axes._subplots.AxesSubplot at 0x1387fb12048>"
      ]
     },
     "execution_count": 29,
     "metadata": {},
     "output_type": "execute_result"
    },
    {
     "data": {
      "image/png": "[encoded data removed]",
      "text/plain": [
       "<Figure size 432x288 with 1 Axes>"
      ]
     },
     "metadata": {
      "needs_background": "light"
     },
     "output_type": "display_data"
    }
   ],
   "source": [
    "sns.boxplot(x = 'price_range', y = 'battery_power', data = df)"
   ]
  },
  {
   "cell_type": "code",
   "execution_count": 30,
   "metadata": {},
   "outputs": [
    {
     "data": {
      "text/plain": [
       "<matplotlib.axes._subplots.AxesSubplot at 0x1387fafc860>"
      ]
     },
     "execution_count": 30,
     "metadata": {},
     "output_type": "execute_result"
    },
    {
     "data": {
      "image/png": "[encoded data removed]",
      "text/plain": [
       "<Figure size 432x288 with 1 Axes>"
      ]
     },
     "metadata": {
      "needs_background": "light"
     },
     "output_type": "display_data"
    }
   ],
   "source": [
    "sns.boxplot(x = 'price_range', y = 'int_memory', data = df)"
   ]
  },
  {
   "cell_type": "code",
   "execution_count": 31,
   "metadata": {},
   "outputs": [
    {
     "data": {
      "text/plain": [
       "<matplotlib.axes._subplots.AxesSubplot at 0x1387fb777b8>"
      ]
     },
     "execution_count": 31,
     "metadata": {},
     "output_type": "execute_result"
    },
    {
     "data": {
      "image/png": "[encoded data removed]",
      "text/plain": [
       "<Figure size 432x288 with 1 Axes>"
      ]
     },
     "metadata": {
      "needs_background": "light"
     },
     "output_type": "display_data"
    }
   ],
   "source": [
    "sns.boxplot(x = 'dual_sim', y = 'price_range', data = df)"
   ]
  },
  {
   "cell_type": "code",
   "execution_count": 32,
   "metadata": {},
   "outputs": [
    {
     "data": {
      "text/plain": [
       "<matplotlib.axes._subplots.AxesSubplot at 0x138000170f0>"
      ]
     },
     "execution_count": 32,
     "metadata": {},
     "output_type": "execute_result"
    },
    {
     "data": {
      "image/png": "[encoded data removed]",
      "text/plain": [
       "<Figure size 432x288 with 1 Axes>"
      ]
     },
     "metadata": {
      "needs_background": "light"
     },
     "output_type": "display_data"
    }
   ],
   "source": [
    "sns.boxplot(x = 'wifi', y = 'price_range', data = df)"
   ]
  },
  {
   "cell_type": "code",
   "execution_count": 33,
   "metadata": {},
   "outputs": [
    {
     "data": {
      "text/plain": [
       "<matplotlib.axes._subplots.AxesSubplot at 0x1387f754908>"
      ]
     },
     "execution_count": 33,
     "metadata": {},
     "output_type": "execute_result"
    },
    {
     "data": {
      "image/png": "[encoded data removed]",
      "text/plain": [
       "<Figure size 432x288 with 1 Axes>"
      ]
     },
     "metadata": {
      "needs_background": "light"
     },
     "output_type": "display_data"
    }
   ],
   "source": [
    "sns.boxplot(x = 'price_range', y = 'n_cores', data = df)"
   ]
  },
  {
   "cell_type": "code",
   "execution_count": 34,
   "metadata": {},
   "outputs": [
    {
     "data": {
      "text/plain": [
       "<matplotlib.axes._subplots.AxesSubplot at 0x1387fed5470>"
      ]
     },
     "execution_count": 34,
     "metadata": {},
     "output_type": "execute_result"
    },
    {
     "data": {
      "image/png": "[encoded data removed]",
      "text/plain": [
       "<Figure size 432x288 with 1 Axes>"
      ]
     },
     "metadata": {
      "needs_background": "light"
     },
     "output_type": "display_data"
    }
   ],
   "source": [
    "sns.boxplot(x = 'four_g', y = 'price_range', data = df)"
   ]
  },
  {
   "cell_type": "code",
   "execution_count": 35,
   "metadata": {},
   "outputs": [
    {
     "data": {
      "text/plain": [
       "<matplotlib.axes._subplots.AxesSubplot at 0x1387f5b6668>"
      ]
     },
     "execution_count": 35,
     "metadata": {},
     "output_type": "execute_result"
    },
    {
     "data": {
      "image/png": "[encoded data removed]",
      "text/plain": [
       "<Figure size 432x288 with 1 Axes>"
      ]
     },
     "metadata": {
      "needs_background": "light"
     },
     "output_type": "display_data"
    }
   ],
   "source": [
    "sns.boxplot(x = 'blue', y = 'price_range', data = df)"
   ]
  },
  {
   "cell_type": "markdown",
   "metadata": {},
   "source": [
    "### 1.2.3 Point plot - a point plot represents an estimate of central tendency (mean) for a numeric variable by the position of scatter plot points and provides some indication of the uncertainty around that estimate using error bars.\n",
    "\n",
    "\n",
    "We can clearly see, for the ram point plot that there's a linear relationship between price and ram feature (we also observed this trend in the boxplot graph)"
   ]
  },
  {
   "cell_type": "code",
   "execution_count": 36,
   "metadata": {},
   "outputs": [
    {
     "data": {
      "text/plain": [
       "<matplotlib.axes._subplots.AxesSubplot at 0x1387f7e2048>"
      ]
     },
     "execution_count": 36,
     "metadata": {},
     "output_type": "execute_result"
    },
    {
     "data": {
      "image/png": "[encoded data removed]",
      "text/plain": [
       "<Figure size 432x288 with 1 Axes>"
      ]
     },
     "metadata": {
      "needs_background": "light"
     },
     "output_type": "display_data"
    }
   ],
   "source": [
    "sns.pointplot(df[\"price_range\"], df[\"ram\"])"
   ]
  },
  {
   "cell_type": "markdown",
   "metadata": {},
   "source": [
    "**We can draw more complex pointplots - for example if we want to see the trend of the price range for mobile phones with wifi and a certain internal memory value**"
   ]
  },
  {
   "cell_type": "code",
   "execution_count": 37,
   "metadata": {},
   "outputs": [
    {
     "data": {
      "text/plain": [
       "<matplotlib.axes._subplots.AxesSubplot at 0x1387f5e69b0>"
      ]
     },
     "execution_count": 37,
     "metadata": {},
     "output_type": "execute_result"
    },
    {
     "data": {
      "image/png": "[encoded data removed]",
      "text/plain": [
       "<Figure size 432x288 with 1 Axes>"
      ]
     },
     "metadata": {
      "needs_background": "light"
     },
     "output_type": "display_data"
    }
   ],
   "source": [
    "sns.pointplot(df[\"price_range\"], df[\"int_memory\"], hue = df[\"wifi\"])"
   ]
  },
  {
   "cell_type": "markdown",
   "metadata": {},
   "source": [
    "**The pixel width and height are also a good predictors for the price range**"
   ]
  },
  {
   "cell_type": "code",
   "execution_count": 38,
   "metadata": {},
   "outputs": [
    {
     "data": {
      "text/plain": [
       "<matplotlib.axes._subplots.AxesSubplot at 0x13800055630>"
      ]
     },
     "execution_count": 38,
     "metadata": {},
     "output_type": "execute_result"
    },
    {
     "data": {
      "image/png": "[encoded data removed]",
      "text/plain": [
       "<Figure size 432x288 with 1 Axes>"
      ]
     },
     "metadata": {
      "needs_background": "light"
     },
     "output_type": "display_data"
    }
   ],
   "source": [
    "sns.pointplot(df[\"price_range\"], df[\"px_width\"])"
   ]
  },
  {
   "cell_type": "code",
   "execution_count": 39,
   "metadata": {},
   "outputs": [
    {
     "data": {
      "text/plain": [
       "<matplotlib.axes._subplots.AxesSubplot at 0x138000acc88>"
      ]
     },
     "execution_count": 39,
     "metadata": {},
     "output_type": "execute_result"
    },
    {
     "data": {
      "image/png": "[encoded data removed]",
      "text/plain": [
       "<Figure size 432x288 with 1 Axes>"
      ]
     },
     "metadata": {
      "needs_background": "light"
     },
     "output_type": "display_data"
    }
   ],
   "source": [
    "sns.pointplot(df[\"price_range\"], df[\"px_height\"])"
   ]
  },
  {
   "cell_type": "code",
   "execution_count": 40,
   "metadata": {},
   "outputs": [
    {
     "data": {
      "text/plain": [
       "<matplotlib.axes._subplots.AxesSubplot at 0x13800115a90>"
      ]
     },
     "execution_count": 40,
     "metadata": {},
     "output_type": "execute_result"
    },
    {
     "data": {
      "image/png": "[encoded data removed]",
      "text/plain": [
       "<Figure size 432x288 with 1 Axes>"
      ]
     },
     "metadata": {
      "needs_background": "light"
     },
     "output_type": "display_data"
    }
   ],
   "source": [
    "sns.pointplot(df[\"price_range\"], df[\"fc\"])"
   ]
  },
  {
   "cell_type": "code",
   "execution_count": 41,
   "metadata": {},
   "outputs": [
    {
     "data": {
      "image/png": "[encoded data removed]",
      "text/plain": [
       "<Figure size 445.575x288 with 2 Axes>"
      ]
     },
     "metadata": {
      "needs_background": "light"
     },
     "output_type": "display_data"
    }
   ],
   "source": [
    "g = sns.catplot(x = \"price_range\", y=\"pc\",\n",
    "                 hue=\"wifi\", col=\"four_g\",\n",
    "                 data=df, kind=\"point\",\n",
    "                 dodge=True,\n",
    "                height=4, aspect=.7)"
   ]
  },
  {
   "cell_type": "markdown",
   "metadata": {},
   "source": [
    "## 1.2.4 Correlation Matrix: \n",
    "After computing the correlation matrix we obtained a few pairs of highly correlated features such as (pc, fc), (three_g, four_g), (px_height, px_width) meaning we can drop one feature per pair when fitting the dataset to a model. We also observe a high correlation coefficient between  ram and price range which denotes that ram is a good predictor for classifying the price range."
   ]
  },
  {
   "cell_type": "code",
   "execution_count": 50,
   "metadata": {},
   "outputs": [
    {
     "data": {
      "text/html": [
       "<style  type=\"text/css\" >\n",
       "    #T_3ec93976_36e8_11ea_9651_1831bf72f72frow0_col0 {\n",
       "            background-color:  #b40426;\n",
       "        }    #T_3ec93976_36e8_11ea_9651_1831bf72f72frow0_col1 {\n",
       "            background-color:  #4a63d3;\n",
       "        }    #T_3ec93976_36e8_11ea_9651_1831bf72f72frow0_col2 {\n",
       "            background-color:  #4a63d3;\n",
       "        }    #T_3ec93976_36e8_11ea_9651_1831bf72f72frow0_col3 {\n",
       "            background-color:  #3b4cc0;\n",
       "        }    #T_3ec93976_36e8_11ea_9651_1831bf72f72frow0_col4 {\n",
       "            background-color:  #506bda;\n",
       "        }    #T_3ec93976_36e8_11ea_9651_1831bf72f72frow0_col5 {\n",
       "            background-color:  #4b64d5;\n",
       "        }    #T_3ec93976_36e8_11ea_9651_1831bf72f72frow0_col6 {\n",
       "            background-color:  #455cce;\n",
       "        }    #T_3ec93976_36e8_11ea_9651_1831bf72f72frow0_col7 {\n",
       "            background-color:  #506bda;\n",
       "        }    #T_3ec93976_36e8_11ea_9651_1831bf72f72frow0_col8 {\n",
       "            background-color:  #465ecf;\n",
       "        }    #T_3ec93976_36e8_11ea_9651_1831bf72f72frow0_col9 {\n",
       "            background-color:  #3d50c3;\n",
       "        }    #T_3ec93976_36e8_11ea_9651_1831bf72f72frow0_col10 {\n",
       "            background-color:  #506bda;\n",
       "        }    #T_3ec93976_36e8_11ea_9651_1831bf72f72frow0_col11 {\n",
       "            background-color:  #4a63d3;\n",
       "        }    #T_3ec93976_36e8_11ea_9651_1831bf72f72frow0_col12 {\n",
       "            background-color:  #445acc;\n",
       "        }    #T_3ec93976_36e8_11ea_9651_1831bf72f72frow0_col13 {\n",
       "            background-color:  #465ecf;\n",
       "        }    #T_3ec93976_36e8_11ea_9651_1831bf72f72frow0_col14 {\n",
       "            background-color:  #3d50c3;\n",
       "        }    #T_3ec93976_36e8_11ea_9651_1831bf72f72frow0_col15 {\n",
       "            background-color:  #4055c8;\n",
       "        }    #T_3ec93976_36e8_11ea_9651_1831bf72f72frow0_col16 {\n",
       "            background-color:  #5673e0;\n",
       "        }    #T_3ec93976_36e8_11ea_9651_1831bf72f72frow0_col17 {\n",
       "            background-color:  #4a63d3;\n",
       "        }    #T_3ec93976_36e8_11ea_9651_1831bf72f72frow0_col18 {\n",
       "            background-color:  #4358cb;\n",
       "        }    #T_3ec93976_36e8_11ea_9651_1831bf72f72frow0_col19 {\n",
       "            background-color:  #445acc;\n",
       "        }    #T_3ec93976_36e8_11ea_9651_1831bf72f72frow0_col20 {\n",
       "            background-color:  #86a9fc;\n",
       "        }    #T_3ec93976_36e8_11ea_9651_1831bf72f72frow1_col0 {\n",
       "            background-color:  #4961d2;\n",
       "        }    #T_3ec93976_36e8_11ea_9651_1831bf72f72frow1_col1 {\n",
       "            background-color:  #b40426;\n",
       "        }    #T_3ec93976_36e8_11ea_9651_1831bf72f72frow1_col2 {\n",
       "            background-color:  #4c66d6;\n",
       "        }    #T_3ec93976_36e8_11ea_9651_1831bf72f72frow1_col3 {\n",
       "            background-color:  #506bda;\n",
       "        }    #T_3ec93976_36e8_11ea_9651_1831bf72f72frow1_col4 {\n",
       "            background-color:  #485fd1;\n",
       "        }    #T_3ec93976_36e8_11ea_9651_1831bf72f72frow1_col5 {\n",
       "            background-color:  #4a63d3;\n",
       "        }    #T_3ec93976_36e8_11ea_9651_1831bf72f72frow1_col6 {\n",
       "            background-color:  #536edd;\n",
       "        }    #T_3ec93976_36e8_11ea_9651_1831bf72f72frow1_col7 {\n",
       "            background-color:  #485fd1;\n",
       "        }    #T_3ec93976_36e8_11ea_9651_1831bf72f72frow1_col8 {\n",
       "            background-color:  #445acc;\n",
       "        }    #T_3ec93976_36e8_11ea_9651_1831bf72f72frow1_col9 {\n",
       "            background-color:  #516ddb;\n",
       "        }    #T_3ec93976_36e8_11ea_9651_1831bf72f72frow1_col10 {\n",
       "            background-color:  #4358cb;\n",
       "        }    #T_3ec93976_36e8_11ea_9651_1831bf72f72frow1_col11 {\n",
       "            background-color:  #445acc;\n",
       "        }    #T_3ec93976_36e8_11ea_9651_1831bf72f72frow1_col12 {\n",
       "            background-color:  #3b4cc0;\n",
       "        }    #T_3ec93976_36e8_11ea_9651_1831bf72f72frow1_col13 {\n",
       "            background-color:  #4e68d8;\n",
       "        }    #T_3ec93976_36e8_11ea_9651_1831bf72f72frow1_col14 {\n",
       "            background-color:  #455cce;\n",
       "        }    #T_3ec93976_36e8_11ea_9651_1831bf72f72frow1_col15 {\n",
       "            background-color:  #465ecf;\n",
       "        }    #T_3ec93976_36e8_11ea_9651_1831bf72f72frow1_col16 {\n",
       "            background-color:  #4a63d3;\n",
       "        }    #T_3ec93976_36e8_11ea_9651_1831bf72f72frow1_col17 {\n",
       "            background-color:  #3d50c3;\n",
       "        }    #T_3ec93976_36e8_11ea_9651_1831bf72f72frow1_col18 {\n",
       "            background-color:  #4961d2;\n",
       "        }    #T_3ec93976_36e8_11ea_9651_1831bf72f72frow1_col19 {\n",
       "            background-color:  #3f53c6;\n",
       "        }    #T_3ec93976_36e8_11ea_9651_1831bf72f72frow1_col20 {\n",
       "            background-color:  #4c66d6;\n",
       "        }    #T_3ec93976_36e8_11ea_9651_1831bf72f72frow2_col0 {\n",
       "            background-color:  #4b64d5;\n",
       "        }    #T_3ec93976_36e8_11ea_9651_1831bf72f72frow2_col1 {\n",
       "            background-color:  #4e68d8;\n",
       "        }    #T_3ec93976_36e8_11ea_9651_1831bf72f72frow2_col2 {\n",
       "            background-color:  #b40426;\n",
       "        }    #T_3ec93976_36e8_11ea_9651_1831bf72f72frow2_col3 {\n",
       "            background-color:  #485fd1;\n",
       "        }    #T_3ec93976_36e8_11ea_9651_1831bf72f72frow2_col4 {\n",
       "            background-color:  #485fd1;\n",
       "        }    #T_3ec93976_36e8_11ea_9651_1831bf72f72frow2_col5 {\n",
       "            background-color:  #3b4cc0;\n",
       "        }    #T_3ec93976_36e8_11ea_9651_1831bf72f72frow2_col6 {\n",
       "            background-color:  #4961d2;\n",
       "        }    #T_3ec93976_36e8_11ea_9651_1831bf72f72frow2_col7 {\n",
       "            background-color:  #4358cb;\n",
       "        }    #T_3ec93976_36e8_11ea_9651_1831bf72f72frow2_col8 {\n",
       "            background-color:  #4b64d5;\n",
       "        }    #T_3ec93976_36e8_11ea_9651_1831bf72f72frow2_col9 {\n",
       "            background-color:  #455cce;\n",
       "        }    #T_3ec93976_36e8_11ea_9651_1831bf72f72frow2_col10 {\n",
       "            background-color:  #465ecf;\n",
       "        }    #T_3ec93976_36e8_11ea_9651_1831bf72f72frow2_col11 {\n",
       "            background-color:  #4358cb;\n",
       "        }    #T_3ec93976_36e8_11ea_9651_1831bf72f72frow2_col12 {\n",
       "            background-color:  #455cce;\n",
       "        }    #T_3ec93976_36e8_11ea_9651_1831bf72f72frow2_col13 {\n",
       "            background-color:  #4961d2;\n",
       "        }    #T_3ec93976_36e8_11ea_9651_1831bf72f72frow2_col14 {\n",
       "            background-color:  #3f53c6;\n",
       "        }    #T_3ec93976_36e8_11ea_9651_1831bf72f72frow2_col15 {\n",
       "            background-color:  #455cce;\n",
       "        }    #T_3ec93976_36e8_11ea_9651_1831bf72f72frow2_col16 {\n",
       "            background-color:  #445acc;\n",
       "        }    #T_3ec93976_36e8_11ea_9651_1831bf72f72frow2_col17 {\n",
       "            background-color:  #3b4cc0;\n",
       "        }    #T_3ec93976_36e8_11ea_9651_1831bf72f72frow2_col18 {\n",
       "            background-color:  #4e68d8;\n",
       "        }    #T_3ec93976_36e8_11ea_9651_1831bf72f72frow2_col19 {\n",
       "            background-color:  #4055c8;\n",
       "        }    #T_3ec93976_36e8_11ea_9651_1831bf72f72frow2_col20 {\n",
       "            background-color:  #455cce;\n",
       "        }    #T_3ec93976_36e8_11ea_9651_1831bf72f72frow3_col0 {\n",
       "            background-color:  #3b4cc0;\n",
       "        }    #T_3ec93976_36e8_11ea_9651_1831bf72f72frow3_col1 {\n",
       "            background-color:  #506bda;\n",
       "        }    #T_3ec93976_36e8_11ea_9651_1831bf72f72frow3_col2 {\n",
       "            background-color:  #455cce;\n",
       "        }    #T_3ec93976_36e8_11ea_9651_1831bf72f72frow3_col3 {\n",
       "            background-color:  #b40426;\n",
       "        }    #T_3ec93976_36e8_11ea_9651_1831bf72f72frow3_col4 {\n",
       "            background-color:  #3e51c5;\n",
       "        }    #T_3ec93976_36e8_11ea_9651_1831bf72f72frow3_col5 {\n",
       "            background-color:  #485fd1;\n",
       "        }    #T_3ec93976_36e8_11ea_9651_1831bf72f72frow3_col6 {\n",
       "            background-color:  #4257c9;\n",
       "        }    #T_3ec93976_36e8_11ea_9651_1831bf72f72frow3_col7 {\n",
       "            background-color:  #3f53c6;\n",
       "        }    #T_3ec93976_36e8_11ea_9651_1831bf72f72frow3_col8 {\n",
       "            background-color:  #445acc;\n",
       "        }    #T_3ec93976_36e8_11ea_9651_1831bf72f72frow3_col9 {\n",
       "            background-color:  #3f53c6;\n",
       "        }    #T_3ec93976_36e8_11ea_9651_1831bf72f72frow3_col10 {\n",
       "            background-color:  #4257c9;\n",
       "        }    #T_3ec93976_36e8_11ea_9651_1831bf72f72frow3_col11 {\n",
       "            background-color:  #4055c8;\n",
       "        }    #T_3ec93976_36e8_11ea_9651_1831bf72f72frow3_col12 {\n",
       "            background-color:  #4a63d3;\n",
       "        }    #T_3ec93976_36e8_11ea_9651_1831bf72f72frow3_col13 {\n",
       "            background-color:  #536edd;\n",
       "        }    #T_3ec93976_36e8_11ea_9651_1831bf72f72frow3_col14 {\n",
       "            background-color:  #4358cb;\n",
       "        }    #T_3ec93976_36e8_11ea_9651_1831bf72f72frow3_col15 {\n",
       "            background-color:  #4257c9;\n",
       "        }    #T_3ec93976_36e8_11ea_9651_1831bf72f72frow3_col16 {\n",
       "            background-color:  #3b4cc0;\n",
       "        }    #T_3ec93976_36e8_11ea_9651_1831bf72f72frow3_col17 {\n",
       "            background-color:  #4257c9;\n",
       "        }    #T_3ec93976_36e8_11ea_9651_1831bf72f72frow3_col18 {\n",
       "            background-color:  #4257c9;\n",
       "        }    #T_3ec93976_36e8_11ea_9651_1831bf72f72frow3_col19 {\n",
       "            background-color:  #4c66d6;\n",
       "        }    #T_3ec93976_36e8_11ea_9651_1831bf72f72frow3_col20 {\n",
       "            background-color:  #4b64d5;\n",
       "        }    #T_3ec93976_36e8_11ea_9651_1831bf72f72frow4_col0 {\n",
       "            background-color:  #4c66d6;\n",
       "        }    #T_3ec93976_36e8_11ea_9651_1831bf72f72frow4_col1 {\n",
       "            background-color:  #445acc;\n",
       "        }    #T_3ec93976_36e8_11ea_9651_1831bf72f72frow4_col2 {\n",
       "            background-color:  #4358cb;\n",
       "        }    #T_3ec93976_36e8_11ea_9651_1831bf72f72frow4_col3 {\n",
       "            background-color:  #3b4cc0;\n",
       "        }    #T_3ec93976_36e8_11ea_9651_1831bf72f72frow4_col4 {\n",
       "            background-color:  #b40426;\n",
       "        }    #T_3ec93976_36e8_11ea_9651_1831bf72f72frow4_col5 {\n",
       "            background-color:  #3e51c5;\n",
       "        }    #T_3ec93976_36e8_11ea_9651_1831bf72f72frow4_col6 {\n",
       "            background-color:  #3b4cc0;\n",
       "        }    #T_3ec93976_36e8_11ea_9651_1831bf72f72frow4_col7 {\n",
       "            background-color:  #4257c9;\n",
       "        }    #T_3ec93976_36e8_11ea_9651_1831bf72f72frow4_col8 {\n",
       "            background-color:  #4a63d3;\n",
       "        }    #T_3ec93976_36e8_11ea_9651_1831bf72f72frow4_col9 {\n",
       "            background-color:  #3e51c5;\n",
       "        }    #T_3ec93976_36e8_11ea_9651_1831bf72f72frow4_col10 {\n",
       "            background-color:  #f7bca1;\n",
       "        }    #T_3ec93976_36e8_11ea_9651_1831bf72f72frow4_col11 {\n",
       "            background-color:  #3f53c6;\n",
       "        }    #T_3ec93976_36e8_11ea_9651_1831bf72f72frow4_col12 {\n",
       "            background-color:  #4055c8;\n",
       "        }    #T_3ec93976_36e8_11ea_9651_1831bf72f72frow4_col13 {\n",
       "            background-color:  #485fd1;\n",
       "        }    #T_3ec93976_36e8_11ea_9651_1831bf72f72frow4_col14 {\n",
       "            background-color:  #3f53c6;\n",
       "        }    #T_3ec93976_36e8_11ea_9651_1831bf72f72frow4_col15 {\n",
       "            background-color:  #3f53c6;\n",
       "        }    #T_3ec93976_36e8_11ea_9651_1831bf72f72frow4_col16 {\n",
       "            background-color:  #4055c8;\n",
       "        }    #T_3ec93976_36e8_11ea_9651_1831bf72f72frow4_col17 {\n",
       "            background-color:  #4358cb;\n",
       "        }    #T_3ec93976_36e8_11ea_9651_1831bf72f72frow4_col18 {\n",
       "            background-color:  #3e51c5;\n",
       "        }    #T_3ec93976_36e8_11ea_9651_1831bf72f72frow4_col19 {\n",
       "            background-color:  #4961d2;\n",
       "        }    #T_3ec93976_36e8_11ea_9651_1831bf72f72frow4_col20 {\n",
       "            background-color:  #4961d2;\n",
       "        }    #T_3ec93976_36e8_11ea_9651_1831bf72f72frow5_col0 {\n",
       "            background-color:  #4c66d6;\n",
       "        }    #T_3ec93976_36e8_11ea_9651_1831bf72f72frow5_col1 {\n",
       "            background-color:  #4b64d5;\n",
       "        }    #T_3ec93976_36e8_11ea_9651_1831bf72f72frow5_col2 {\n",
       "            background-color:  #3b4cc0;\n",
       "        }    #T_3ec93976_36e8_11ea_9651_1831bf72f72frow5_col3 {\n",
       "            background-color:  #4961d2;\n",
       "        }    #T_3ec93976_36e8_11ea_9651_1831bf72f72frow5_col4 {\n",
       "            background-color:  #4358cb;\n",
       "        }    #T_3ec93976_36e8_11ea_9651_1831bf72f72frow5_col5 {\n",
       "            background-color:  #b40426;\n",
       "        }    #T_3ec93976_36e8_11ea_9651_1831bf72f72frow5_col6 {\n",
       "            background-color:  #4a63d3;\n",
       "        }    #T_3ec93976_36e8_11ea_9651_1831bf72f72frow5_col7 {\n",
       "            background-color:  #465ecf;\n",
       "        }    #T_3ec93976_36e8_11ea_9651_1831bf72f72frow5_col8 {\n",
       "            background-color:  #4358cb;\n",
       "        }    #T_3ec93976_36e8_11ea_9651_1831bf72f72frow5_col9 {\n",
       "            background-color:  #3f53c6;\n",
       "        }    #T_3ec93976_36e8_11ea_9651_1831bf72f72frow5_col10 {\n",
       "            background-color:  #465ecf;\n",
       "        }    #T_3ec93976_36e8_11ea_9651_1831bf72f72frow5_col11 {\n",
       "            background-color:  #4257c9;\n",
       "        }    #T_3ec93976_36e8_11ea_9651_1831bf72f72frow5_col12 {\n",
       "            background-color:  #4a63d3;\n",
       "        }    #T_3ec93976_36e8_11ea_9651_1831bf72f72frow5_col13 {\n",
       "            background-color:  #4a63d3;\n",
       "        }    #T_3ec93976_36e8_11ea_9651_1831bf72f72frow5_col14 {\n",
       "            background-color:  #506bda;\n",
       "        }    #T_3ec93976_36e8_11ea_9651_1831bf72f72frow5_col15 {\n",
       "            background-color:  #536edd;\n",
       "        }    #T_3ec93976_36e8_11ea_9651_1831bf72f72frow5_col16 {\n",
       "            background-color:  #3b4cc0;\n",
       "        }    #T_3ec93976_36e8_11ea_9651_1831bf72f72frow5_col17 {\n",
       "            background-color:  #f2cab5;\n",
       "        }    #T_3ec93976_36e8_11ea_9651_1831bf72f72frow5_col18 {\n",
       "            background-color:  #4c66d6;\n",
       "        }    #T_3ec93976_36e8_11ea_9651_1831bf72f72frow5_col19 {\n",
       "            background-color:  #4358cb;\n",
       "        }    #T_3ec93976_36e8_11ea_9651_1831bf72f72frow5_col20 {\n",
       "            background-color:  #4c66d6;\n",
       "        }    #T_3ec93976_36e8_11ea_9651_1831bf72f72frow6_col0 {\n",
       "            background-color:  #4358cb;\n",
       "        }    #T_3ec93976_36e8_11ea_9651_1831bf72f72frow6_col1 {\n",
       "            background-color:  #506bda;\n",
       "        }    #T_3ec93976_36e8_11ea_9651_1831bf72f72frow6_col2 {\n",
       "            background-color:  #465ecf;\n",
       "        }    #T_3ec93976_36e8_11ea_9651_1831bf72f72frow6_col3 {\n",
       "            background-color:  #3f53c6;\n",
       "        }    #T_3ec93976_36e8_11ea_9651_1831bf72f72frow6_col4 {\n",
       "            background-color:  #3c4ec2;\n",
       "        }    #T_3ec93976_36e8_11ea_9651_1831bf72f72frow6_col5 {\n",
       "            background-color:  #465ecf;\n",
       "        }    #T_3ec93976_36e8_11ea_9651_1831bf72f72frow6_col6 {\n",
       "            background-color:  #b40426;\n",
       "        }    #T_3ec93976_36e8_11ea_9651_1831bf72f72frow6_col7 {\n",
       "            background-color:  #465ecf;\n",
       "        }    #T_3ec93976_36e8_11ea_9651_1831bf72f72frow6_col8 {\n",
       "            background-color:  #3b4cc0;\n",
       "        }    #T_3ec93976_36e8_11ea_9651_1831bf72f72frow6_col9 {\n",
       "            background-color:  #3c4ec2;\n",
       "        }    #T_3ec93976_36e8_11ea_9651_1831bf72f72frow6_col10 {\n",
       "            background-color:  #3b4cc0;\n",
       "        }    #T_3ec93976_36e8_11ea_9651_1831bf72f72frow6_col11 {\n",
       "            background-color:  #485fd1;\n",
       "        }    #T_3ec93976_36e8_11ea_9651_1831bf72f72frow6_col12 {\n",
       "            background-color:  #4257c9;\n",
       "        }    #T_3ec93976_36e8_11ea_9651_1831bf72f72frow6_col13 {\n",
       "            background-color:  #4e68d8;\n",
       "        }    #T_3ec93976_36e8_11ea_9651_1831bf72f72frow6_col14 {\n",
       "            background-color:  #4f69d9;\n",
       "        }    #T_3ec93976_36e8_11ea_9651_1831bf72f72frow6_col15 {\n",
       "            background-color:  #485fd1;\n",
       "        }    #T_3ec93976_36e8_11ea_9651_1831bf72f72frow6_col16 {\n",
       "            background-color:  #4358cb;\n",
       "        }    #T_3ec93976_36e8_11ea_9651_1831bf72f72frow6_col17 {\n",
       "            background-color:  #4257c9;\n",
       "        }    #T_3ec93976_36e8_11ea_9651_1831bf72f72frow6_col18 {\n",
       "            background-color:  #3c4ec2;\n",
       "        }    #T_3ec93976_36e8_11ea_9651_1831bf72f72frow6_col19 {\n",
       "            background-color:  #465ecf;\n",
       "        }    #T_3ec93976_36e8_11ea_9651_1831bf72f72frow6_col20 {\n",
       "            background-color:  #516ddb;\n",
       "        }    #T_3ec93976_36e8_11ea_9651_1831bf72f72frow7_col0 {\n",
       "            background-color:  #4c66d6;\n",
       "        }    #T_3ec93976_36e8_11ea_9651_1831bf72f72frow7_col1 {\n",
       "            background-color:  #445acc;\n",
       "        }    #T_3ec93976_36e8_11ea_9651_1831bf72f72frow7_col2 {\n",
       "            background-color:  #3e51c5;\n",
       "        }    #T_3ec93976_36e8_11ea_9651_1831bf72f72frow7_col3 {\n",
       "            background-color:  #3c4ec2;\n",
       "        }    #T_3ec93976_36e8_11ea_9651_1831bf72f72frow7_col4 {\n",
       "            background-color:  #4257c9;\n",
       "        }    #T_3ec93976_36e8_11ea_9651_1831bf72f72frow7_col5 {\n",
       "            background-color:  #4257c9;\n",
       "        }    #T_3ec93976_36e8_11ea_9651_1831bf72f72frow7_col6 {\n",
       "            background-color:  #445acc;\n",
       "        }    #T_3ec93976_36e8_11ea_9651_1831bf72f72frow7_col7 {\n",
       "            background-color:  #b40426;\n",
       "        }    #T_3ec93976_36e8_11ea_9651_1831bf72f72frow7_col8 {\n",
       "            background-color:  #4961d2;\n",
       "        }    #T_3ec93976_36e8_11ea_9651_1831bf72f72frow7_col9 {\n",
       "            background-color:  #4257c9;\n",
       "        }    #T_3ec93976_36e8_11ea_9651_1831bf72f72frow7_col10 {\n",
       "            background-color:  #4a63d3;\n",
       "        }    #T_3ec93976_36e8_11ea_9651_1831bf72f72frow7_col11 {\n",
       "            background-color:  #4a63d3;\n",
       "        }    #T_3ec93976_36e8_11ea_9651_1831bf72f72frow7_col12 {\n",
       "            background-color:  #4961d2;\n",
       "        }    #T_3ec93976_36e8_11ea_9651_1831bf72f72frow7_col13 {\n",
       "            background-color:  #3f53c6;\n",
       "        }    #T_3ec93976_36e8_11ea_9651_1831bf72f72frow7_col14 {\n",
       "            background-color:  #3b4cc0;\n",
       "        }    #T_3ec93976_36e8_11ea_9651_1831bf72f72frow7_col15 {\n",
       "            background-color:  #3d50c3;\n",
       "        }    #T_3ec93976_36e8_11ea_9651_1831bf72f72frow7_col16 {\n",
       "            background-color:  #485fd1;\n",
       "        }    #T_3ec93976_36e8_11ea_9651_1831bf72f72frow7_col17 {\n",
       "            background-color:  #3f53c6;\n",
       "        }    #T_3ec93976_36e8_11ea_9651_1831bf72f72frow7_col18 {\n",
       "            background-color:  #4257c9;\n",
       "        }    #T_3ec93976_36e8_11ea_9651_1831bf72f72frow7_col19 {\n",
       "            background-color:  #3b4cc0;\n",
       "        }    #T_3ec93976_36e8_11ea_9651_1831bf72f72frow7_col20 {\n",
       "            background-color:  #4358cb;\n",
       "        }    #T_3ec93976_36e8_11ea_9651_1831bf72f72frow8_col0 {\n",
       "            background-color:  #445acc;\n",
       "        }    #T_3ec93976_36e8_11ea_9651_1831bf72f72frow8_col1 {\n",
       "            background-color:  #4257c9;\n",
       "        }    #T_3ec93976_36e8_11ea_9651_1831bf72f72frow8_col2 {\n",
       "            background-color:  #485fd1;\n",
       "        }    #T_3ec93976_36e8_11ea_9651_1831bf72f72frow8_col3 {\n",
       "            background-color:  #4257c9;\n",
       "        }    #T_3ec93976_36e8_11ea_9651_1831bf72f72frow8_col4 {\n",
       "            background-color:  #4b64d5;\n",
       "        }    #T_3ec93976_36e8_11ea_9651_1831bf72f72frow8_col5 {\n",
       "            background-color:  #3f53c6;\n",
       "        }    #T_3ec93976_36e8_11ea_9651_1831bf72f72frow8_col6 {\n",
       "            background-color:  #3b4cc0;\n",
       "        }    #T_3ec93976_36e8_11ea_9651_1831bf72f72frow8_col7 {\n",
       "            background-color:  #4a63d3;\n",
       "        }    #T_3ec93976_36e8_11ea_9651_1831bf72f72frow8_col8 {\n",
       "            background-color:  #b40426;\n",
       "        }    #T_3ec93976_36e8_11ea_9651_1831bf72f72frow8_col9 {\n",
       "            background-color:  #3e51c5;\n",
       "        }    #T_3ec93976_36e8_11ea_9651_1831bf72f72frow8_col10 {\n",
       "            background-color:  #4a63d3;\n",
       "        }    #T_3ec93976_36e8_11ea_9651_1831bf72f72frow8_col11 {\n",
       "            background-color:  #445acc;\n",
       "        }    #T_3ec93976_36e8_11ea_9651_1831bf72f72frow8_col12 {\n",
       "            background-color:  #445acc;\n",
       "        }    #T_3ec93976_36e8_11ea_9651_1831bf72f72frow8_col13 {\n",
       "            background-color:  #4358cb;\n",
       "        }    #T_3ec93976_36e8_11ea_9651_1831bf72f72frow8_col14 {\n",
       "            background-color:  #3b4cc0;\n",
       "        }    #T_3ec93976_36e8_11ea_9651_1831bf72f72frow8_col15 {\n",
       "            background-color:  #3e51c5;\n",
       "        }    #T_3ec93976_36e8_11ea_9651_1831bf72f72frow8_col16 {\n",
       "            background-color:  #465ecf;\n",
       "        }    #T_3ec93976_36e8_11ea_9651_1831bf72f72frow8_col17 {\n",
       "            background-color:  #445acc;\n",
       "        }    #T_3ec93976_36e8_11ea_9651_1831bf72f72frow8_col18 {\n",
       "            background-color:  #3f53c6;\n",
       "        }    #T_3ec93976_36e8_11ea_9651_1831bf72f72frow8_col19 {\n",
       "            background-color:  #445acc;\n",
       "        }    #T_3ec93976_36e8_11ea_9651_1831bf72f72frow8_col20 {\n",
       "            background-color:  #3b4cc0;\n",
       "        }    #T_3ec93976_36e8_11ea_9651_1831bf72f72frow9_col0 {\n",
       "            background-color:  #3b4cc0;\n",
       "        }    #T_3ec93976_36e8_11ea_9651_1831bf72f72frow9_col1 {\n",
       "            background-color:  #4e68d8;\n",
       "        }    #T_3ec93976_36e8_11ea_9651_1831bf72f72frow9_col2 {\n",
       "            background-color:  #4055c8;\n",
       "        }    #T_3ec93976_36e8_11ea_9651_1831bf72f72frow9_col3 {\n",
       "            background-color:  #3c4ec2;\n",
       "        }    #T_3ec93976_36e8_11ea_9651_1831bf72f72frow9_col4 {\n",
       "            background-color:  #3f53c6;\n",
       "        }    #T_3ec93976_36e8_11ea_9651_1831bf72f72frow9_col5 {\n",
       "            background-color:  #3b4cc0;\n",
       "        }    #T_3ec93976_36e8_11ea_9651_1831bf72f72frow9_col6 {\n",
       "            background-color:  #3b4cc0;\n",
       "        }    #T_3ec93976_36e8_11ea_9651_1831bf72f72frow9_col7 {\n",
       "            background-color:  #4257c9;\n",
       "        }    #T_3ec93976_36e8_11ea_9651_1831bf72f72frow9_col8 {\n",
       "            background-color:  #3d50c3;\n",
       "        }    #T_3ec93976_36e8_11ea_9651_1831bf72f72frow9_col9 {\n",
       "            background-color:  #b40426;\n",
       "        }    #T_3ec93976_36e8_11ea_9651_1831bf72f72frow9_col10 {\n",
       "            background-color:  #4358cb;\n",
       "        }    #T_3ec93976_36e8_11ea_9651_1831bf72f72frow9_col11 {\n",
       "            background-color:  #4055c8;\n",
       "        }    #T_3ec93976_36e8_11ea_9651_1831bf72f72frow9_col12 {\n",
       "            background-color:  #4a63d3;\n",
       "        }    #T_3ec93976_36e8_11ea_9651_1831bf72f72frow9_col13 {\n",
       "            background-color:  #445acc;\n",
       "        }    #T_3ec93976_36e8_11ea_9651_1831bf72f72frow9_col14 {\n",
       "            background-color:  #4358cb;\n",
       "        }    #T_3ec93976_36e8_11ea_9651_1831bf72f72frow9_col15 {\n",
       "            background-color:  #4a63d3;\n",
       "        }    #T_3ec93976_36e8_11ea_9651_1831bf72f72frow9_col16 {\n",
       "            background-color:  #465ecf;\n",
       "        }    #T_3ec93976_36e8_11ea_9651_1831bf72f72frow9_col17 {\n",
       "            background-color:  #3e51c5;\n",
       "        }    #T_3ec93976_36e8_11ea_9651_1831bf72f72frow9_col18 {\n",
       "            background-color:  #4a63d3;\n",
       "        }    #T_3ec93976_36e8_11ea_9651_1831bf72f72frow9_col19 {\n",
       "            background-color:  #3f53c6;\n",
       "        }    #T_3ec93976_36e8_11ea_9651_1831bf72f72frow9_col20 {\n",
       "            background-color:  #445acc;\n",
       "        }    #T_3ec93976_36e8_11ea_9651_1831bf72f72frow10_col0 {\n",
       "            background-color:  #4e68d8;\n",
       "        }    #T_3ec93976_36e8_11ea_9651_1831bf72f72frow10_col1 {\n",
       "            background-color:  #4055c8;\n",
       "        }    #T_3ec93976_36e8_11ea_9651_1831bf72f72frow10_col2 {\n",
       "            background-color:  #4257c9;\n",
       "        }    #T_3ec93976_36e8_11ea_9651_1831bf72f72frow10_col3 {\n",
       "            background-color:  #3e51c5;\n",
       "        }    #T_3ec93976_36e8_11ea_9651_1831bf72f72frow10_col4 {\n",
       "            background-color:  #f7bca1;\n",
       "        }    #T_3ec93976_36e8_11ea_9651_1831bf72f72frow10_col5 {\n",
       "            background-color:  #4257c9;\n",
       "        }    #T_3ec93976_36e8_11ea_9651_1831bf72f72frow10_col6 {\n",
       "            background-color:  #3b4cc0;\n",
       "        }    #T_3ec93976_36e8_11ea_9651_1831bf72f72frow10_col7 {\n",
       "            background-color:  #4b64d5;\n",
       "        }    #T_3ec93976_36e8_11ea_9651_1831bf72f72frow10_col8 {\n",
       "            background-color:  #4961d2;\n",
       "        }    #T_3ec93976_36e8_11ea_9651_1831bf72f72frow10_col9 {\n",
       "            background-color:  #4358cb;\n",
       "        }    #T_3ec93976_36e8_11ea_9651_1831bf72f72frow10_col10 {\n",
       "            background-color:  #b40426;\n",
       "        }    #T_3ec93976_36e8_11ea_9651_1831bf72f72frow10_col11 {\n",
       "            background-color:  #3e51c5;\n",
       "        }    #T_3ec93976_36e8_11ea_9651_1831bf72f72frow10_col12 {\n",
       "            background-color:  #455cce;\n",
       "        }    #T_3ec93976_36e8_11ea_9651_1831bf72f72frow10_col13 {\n",
       "            background-color:  #4c66d6;\n",
       "        }    #T_3ec93976_36e8_11ea_9651_1831bf72f72frow10_col14 {\n",
       "            background-color:  #455cce;\n",
       "        }    #T_3ec93976_36e8_11ea_9651_1831bf72f72frow10_col15 {\n",
       "            background-color:  #3d50c3;\n",
       "        }    #T_3ec93976_36e8_11ea_9651_1831bf72f72frow10_col16 {\n",
       "            background-color:  #485fd1;\n",
       "        }    #T_3ec93976_36e8_11ea_9651_1831bf72f72frow10_col17 {\n",
       "            background-color:  #4358cb;\n",
       "        }    #T_3ec93976_36e8_11ea_9651_1831bf72f72frow10_col18 {\n",
       "            background-color:  #4257c9;\n",
       "        }    #T_3ec93976_36e8_11ea_9651_1831bf72f72frow10_col19 {\n",
       "            background-color:  #455cce;\n",
       "        }    #T_3ec93976_36e8_11ea_9651_1831bf72f72frow10_col20 {\n",
       "            background-color:  #4e68d8;\n",
       "        }    #T_3ec93976_36e8_11ea_9651_1831bf72f72frow11_col0 {\n",
       "            background-color:  #485fd1;\n",
       "        }    #T_3ec93976_36e8_11ea_9651_1831bf72f72frow11_col1 {\n",
       "            background-color:  #4257c9;\n",
       "        }    #T_3ec93976_36e8_11ea_9651_1831bf72f72frow11_col2 {\n",
       "            background-color:  #3f53c6;\n",
       "        }    #T_3ec93976_36e8_11ea_9651_1831bf72f72frow11_col3 {\n",
       "            background-color:  #3d50c3;\n",
       "        }    #T_3ec93976_36e8_11ea_9651_1831bf72f72frow11_col4 {\n",
       "            background-color:  #4055c8;\n",
       "        }    #T_3ec93976_36e8_11ea_9651_1831bf72f72frow11_col5 {\n",
       "            background-color:  #3d50c3;\n",
       "        }    #T_3ec93976_36e8_11ea_9651_1831bf72f72frow11_col6 {\n",
       "            background-color:  #465ecf;\n",
       "        }    #T_3ec93976_36e8_11ea_9651_1831bf72f72frow11_col7 {\n",
       "            background-color:  #4b64d5;\n",
       "        }    #T_3ec93976_36e8_11ea_9651_1831bf72f72frow11_col8 {\n",
       "            background-color:  #4358cb;\n",
       "        }    #T_3ec93976_36e8_11ea_9651_1831bf72f72frow11_col9 {\n",
       "            background-color:  #4257c9;\n",
       "        }    #T_3ec93976_36e8_11ea_9651_1831bf72f72frow11_col10 {\n",
       "            background-color:  #3e51c5;\n",
       "        }    #T_3ec93976_36e8_11ea_9651_1831bf72f72frow11_col11 {\n",
       "            background-color:  #b40426;\n",
       "        }    #T_3ec93976_36e8_11ea_9651_1831bf72f72frow11_col12 {\n",
       "            background-color:  #e3d9d3;\n",
       "        }    #T_3ec93976_36e8_11ea_9651_1831bf72f72frow11_col13 {\n",
       "            background-color:  #3d50c3;\n",
       "        }    #T_3ec93976_36e8_11ea_9651_1831bf72f72frow11_col14 {\n",
       "            background-color:  #5572df;\n",
       "        }    #T_3ec93976_36e8_11ea_9651_1831bf72f72frow11_col15 {\n",
       "            background-color:  #506bda;\n",
       "        }    #T_3ec93976_36e8_11ea_9651_1831bf72f72frow11_col16 {\n",
       "            background-color:  #4055c8;\n",
       "        }    #T_3ec93976_36e8_11ea_9651_1831bf72f72frow11_col17 {\n",
       "            background-color:  #3b4cc0;\n",
       "        }    #T_3ec93976_36e8_11ea_9651_1831bf72f72frow11_col18 {\n",
       "            background-color:  #4a63d3;\n",
       "        }    #T_3ec93976_36e8_11ea_9651_1831bf72f72frow11_col19 {\n",
       "            background-color:  #536edd;\n",
       "        }    #T_3ec93976_36e8_11ea_9651_1831bf72f72frow11_col20 {\n",
       "            background-color:  #7295f4;\n",
       "        }    #T_3ec93976_36e8_11ea_9651_1831bf72f72frow12_col0 {\n",
       "            background-color:  #445acc;\n",
       "        }    #T_3ec93976_36e8_11ea_9651_1831bf72f72frow12_col1 {\n",
       "            background-color:  #3b4cc0;\n",
       "        }    #T_3ec93976_36e8_11ea_9651_1831bf72f72frow12_col2 {\n",
       "            background-color:  #4358cb;\n",
       "        }    #T_3ec93976_36e8_11ea_9651_1831bf72f72frow12_col3 {\n",
       "            background-color:  #4a63d3;\n",
       "        }    #T_3ec93976_36e8_11ea_9651_1831bf72f72frow12_col4 {\n",
       "            background-color:  #445acc;\n",
       "        }    #T_3ec93976_36e8_11ea_9651_1831bf72f72frow12_col5 {\n",
       "            background-color:  #4961d2;\n",
       "        }    #T_3ec93976_36e8_11ea_9651_1831bf72f72frow12_col6 {\n",
       "            background-color:  #445acc;\n",
       "        }    #T_3ec93976_36e8_11ea_9651_1831bf72f72frow12_col7 {\n",
       "            background-color:  #4e68d8;\n",
       "        }    #T_3ec93976_36e8_11ea_9651_1831bf72f72frow12_col8 {\n",
       "            background-color:  #465ecf;\n",
       "        }    #T_3ec93976_36e8_11ea_9651_1831bf72f72frow12_col9 {\n",
       "            background-color:  #4e68d8;\n",
       "        }    #T_3ec93976_36e8_11ea_9651_1831bf72f72frow12_col10 {\n",
       "            background-color:  #485fd1;\n",
       "        }    #T_3ec93976_36e8_11ea_9651_1831bf72f72frow12_col11 {\n",
       "            background-color:  #e4d9d2;\n",
       "        }    #T_3ec93976_36e8_11ea_9651_1831bf72f72frow12_col12 {\n",
       "            background-color:  #b40426;\n",
       "        }    #T_3ec93976_36e8_11ea_9651_1831bf72f72frow12_col13 {\n",
       "            background-color:  #485fd1;\n",
       "        }    #T_3ec93976_36e8_11ea_9651_1831bf72f72frow12_col14 {\n",
       "            background-color:  #4c66d6;\n",
       "        }    #T_3ec93976_36e8_11ea_9651_1831bf72f72frow12_col15 {\n",
       "            background-color:  #506bda;\n",
       "        }    #T_3ec93976_36e8_11ea_9651_1831bf72f72frow12_col16 {\n",
       "            background-color:  #485fd1;\n",
       "        }    #T_3ec93976_36e8_11ea_9651_1831bf72f72frow12_col17 {\n",
       "            background-color:  #465ecf;\n",
       "        }    #T_3ec93976_36e8_11ea_9651_1831bf72f72frow12_col18 {\n",
       "            background-color:  #455cce;\n",
       "        }    #T_3ec93976_36e8_11ea_9651_1831bf72f72frow12_col19 {\n",
       "            background-color:  #4f69d9;\n",
       "        }    #T_3ec93976_36e8_11ea_9651_1831bf72f72frow12_col20 {\n",
       "            background-color:  #7a9df8;\n",
       "        }    #T_3ec93976_36e8_11ea_9651_1831bf72f72frow13_col0 {\n",
       "            background-color:  #4358cb;\n",
       "        }    #T_3ec93976_36e8_11ea_9651_1831bf72f72frow13_col1 {\n",
       "            background-color:  #4b64d5;\n",
       "        }    #T_3ec93976_36e8_11ea_9651_1831bf72f72frow13_col2 {\n",
       "            background-color:  #445acc;\n",
       "        }    #T_3ec93976_36e8_11ea_9651_1831bf72f72frow13_col3 {\n",
       "            background-color:  #4f69d9;\n",
       "        }    #T_3ec93976_36e8_11ea_9651_1831bf72f72frow13_col4 {\n",
       "            background-color:  #485fd1;\n",
       "        }    #T_3ec93976_36e8_11ea_9651_1831bf72f72frow13_col5 {\n",
       "            background-color:  #455cce;\n",
       "        }    #T_3ec93976_36e8_11ea_9651_1831bf72f72frow13_col6 {\n",
       "            background-color:  #4c66d6;\n",
       "        }    #T_3ec93976_36e8_11ea_9651_1831bf72f72frow13_col7 {\n",
       "            background-color:  #4055c8;\n",
       "        }    #T_3ec93976_36e8_11ea_9651_1831bf72f72frow13_col8 {\n",
       "            background-color:  #4257c9;\n",
       "        }    #T_3ec93976_36e8_11ea_9651_1831bf72f72frow13_col9 {\n",
       "            background-color:  #445acc;\n",
       "        }    #T_3ec93976_36e8_11ea_9651_1831bf72f72frow13_col10 {\n",
       "            background-color:  #4b64d5;\n",
       "        }    #T_3ec93976_36e8_11ea_9651_1831bf72f72frow13_col11 {\n",
       "            background-color:  #3d50c3;\n",
       "        }    #T_3ec93976_36e8_11ea_9651_1831bf72f72frow13_col12 {\n",
       "            background-color:  #445acc;\n",
       "        }    #T_3ec93976_36e8_11ea_9651_1831bf72f72frow13_col13 {\n",
       "            background-color:  #b40426;\n",
       "        }    #T_3ec93976_36e8_11ea_9651_1831bf72f72frow13_col14 {\n",
       "            background-color:  #485fd1;\n",
       "        }    #T_3ec93976_36e8_11ea_9651_1831bf72f72frow13_col15 {\n",
       "            background-color:  #4e68d8;\n",
       "        }    #T_3ec93976_36e8_11ea_9651_1831bf72f72frow13_col16 {\n",
       "            background-color:  #465ecf;\n",
       "        }    #T_3ec93976_36e8_11ea_9651_1831bf72f72frow13_col17 {\n",
       "            background-color:  #485fd1;\n",
       "        }    #T_3ec93976_36e8_11ea_9651_1831bf72f72frow13_col18 {\n",
       "            background-color:  #3b4cc0;\n",
       "        }    #T_3ec93976_36e8_11ea_9651_1831bf72f72frow13_col19 {\n",
       "            background-color:  #4a63d3;\n",
       "        }    #T_3ec93976_36e8_11ea_9651_1831bf72f72frow13_col20 {\n",
       "            background-color:  #d0473d;\n",
       "        }    #T_3ec93976_36e8_11ea_9651_1831bf72f72frow14_col0 {\n",
       "            background-color:  #3b4cc0;\n",
       "        }    #T_3ec93976_36e8_11ea_9651_1831bf72f72frow14_col1 {\n",
       "            background-color:  #4358cb;\n",
       "        }    #T_3ec93976_36e8_11ea_9651_1831bf72f72frow14_col2 {\n",
       "            background-color:  #3c4ec2;\n",
       "        }    #T_3ec93976_36e8_11ea_9651_1831bf72f72frow14_col3 {\n",
       "            background-color:  #4055c8;\n",
       "        }    #T_3ec93976_36e8_11ea_9651_1831bf72f72frow14_col4 {\n",
       "            background-color:  #4055c8;\n",
       "        }    #T_3ec93976_36e8_11ea_9651_1831bf72f72frow14_col5 {\n",
       "            background-color:  #4c66d6;\n",
       "        }    #T_3ec93976_36e8_11ea_9651_1831bf72f72frow14_col6 {\n",
       "            background-color:  #4f69d9;\n",
       "        }    #T_3ec93976_36e8_11ea_9651_1831bf72f72frow14_col7 {\n",
       "            background-color:  #3d50c3;\n",
       "        }    #T_3ec93976_36e8_11ea_9651_1831bf72f72frow14_col8 {\n",
       "            background-color:  #3b4cc0;\n",
       "        }    #T_3ec93976_36e8_11ea_9651_1831bf72f72frow14_col9 {\n",
       "            background-color:  #445acc;\n",
       "        }    #T_3ec93976_36e8_11ea_9651_1831bf72f72frow14_col10 {\n",
       "            background-color:  #455cce;\n",
       "        }    #T_3ec93976_36e8_11ea_9651_1831bf72f72frow14_col11 {\n",
       "            background-color:  #5673e0;\n",
       "        }    #T_3ec93976_36e8_11ea_9651_1831bf72f72frow14_col12 {\n",
       "            background-color:  #4a63d3;\n",
       "        }    #T_3ec93976_36e8_11ea_9651_1831bf72f72frow14_col13 {\n",
       "            background-color:  #4961d2;\n",
       "        }    #T_3ec93976_36e8_11ea_9651_1831bf72f72frow14_col14 {\n",
       "            background-color:  #b40426;\n",
       "        }    #T_3ec93976_36e8_11ea_9651_1831bf72f72frow14_col15 {\n",
       "            background-color:  #e2dad5;\n",
       "        }    #T_3ec93976_36e8_11ea_9651_1831bf72f72frow14_col16 {\n",
       "            background-color:  #3f53c6;\n",
       "        }    #T_3ec93976_36e8_11ea_9651_1831bf72f72frow14_col17 {\n",
       "            background-color:  #485fd1;\n",
       "        }    #T_3ec93976_36e8_11ea_9651_1831bf72f72frow14_col18 {\n",
       "            background-color:  #3e51c5;\n",
       "        }    #T_3ec93976_36e8_11ea_9651_1831bf72f72frow14_col19 {\n",
       "            background-color:  #4b64d5;\n",
       "        }    #T_3ec93976_36e8_11ea_9651_1831bf72f72frow14_col20 {\n",
       "            background-color:  #4b64d5;\n",
       "        }    #T_3ec93976_36e8_11ea_9651_1831bf72f72frow15_col0 {\n",
       "            background-color:  #3b4cc0;\n",
       "        }    #T_3ec93976_36e8_11ea_9651_1831bf72f72frow15_col1 {\n",
       "            background-color:  #4257c9;\n",
       "        }    #T_3ec93976_36e8_11ea_9651_1831bf72f72frow15_col2 {\n",
       "            background-color:  #3f53c6;\n",
       "        }    #T_3ec93976_36e8_11ea_9651_1831bf72f72frow15_col3 {\n",
       "            background-color:  #3c4ec2;\n",
       "        }    #T_3ec93976_36e8_11ea_9651_1831bf72f72frow15_col4 {\n",
       "            background-color:  #3d50c3;\n",
       "        }    #T_3ec93976_36e8_11ea_9651_1831bf72f72frow15_col5 {\n",
       "            background-color:  #4c66d6;\n",
       "        }    #T_3ec93976_36e8_11ea_9651_1831bf72f72frow15_col6 {\n",
       "            background-color:  #445acc;\n",
       "        }    #T_3ec93976_36e8_11ea_9651_1831bf72f72frow15_col7 {\n",
       "            background-color:  #3c4ec2;\n",
       "        }    #T_3ec93976_36e8_11ea_9651_1831bf72f72frow15_col8 {\n",
       "            background-color:  #3b4cc0;\n",
       "        }    #T_3ec93976_36e8_11ea_9651_1831bf72f72frow15_col9 {\n",
       "            background-color:  #4961d2;\n",
       "        }    #T_3ec93976_36e8_11ea_9651_1831bf72f72frow15_col10 {\n",
       "            background-color:  #3b4cc0;\n",
       "        }    #T_3ec93976_36e8_11ea_9651_1831bf72f72frow15_col11 {\n",
       "            background-color:  #4e68d8;\n",
       "        }    #T_3ec93976_36e8_11ea_9651_1831bf72f72frow15_col12 {\n",
       "            background-color:  #4b64d5;\n",
       "        }    #T_3ec93976_36e8_11ea_9651_1831bf72f72frow15_col13 {\n",
       "            background-color:  #4b64d5;\n",
       "        }    #T_3ec93976_36e8_11ea_9651_1831bf72f72frow15_col14 {\n",
       "            background-color:  #e1dad6;\n",
       "        }    #T_3ec93976_36e8_11ea_9651_1831bf72f72frow15_col15 {\n",
       "            background-color:  #b40426;\n",
       "        }    #T_3ec93976_36e8_11ea_9651_1831bf72f72frow15_col16 {\n",
       "            background-color:  #3b4cc0;\n",
       "        }    #T_3ec93976_36e8_11ea_9651_1831bf72f72frow15_col17 {\n",
       "            background-color:  #4a63d3;\n",
       "        }    #T_3ec93976_36e8_11ea_9651_1831bf72f72frow15_col18 {\n",
       "            background-color:  #455cce;\n",
       "        }    #T_3ec93976_36e8_11ea_9651_1831bf72f72frow15_col19 {\n",
       "            background-color:  #4b64d5;\n",
       "        }    #T_3ec93976_36e8_11ea_9651_1831bf72f72frow15_col20 {\n",
       "            background-color:  #4c66d6;\n",
       "        }    #T_3ec93976_36e8_11ea_9651_1831bf72f72frow16_col0 {\n",
       "            background-color:  #5875e1;\n",
       "        }    #T_3ec93976_36e8_11ea_9651_1831bf72f72frow16_col1 {\n",
       "            background-color:  #4b64d5;\n",
       "        }    #T_3ec93976_36e8_11ea_9651_1831bf72f72frow16_col2 {\n",
       "            background-color:  #445acc;\n",
       "        }    #T_3ec93976_36e8_11ea_9651_1831bf72f72frow16_col3 {\n",
       "            background-color:  #3c4ec2;\n",
       "        }    #T_3ec93976_36e8_11ea_9651_1831bf72f72frow16_col4 {\n",
       "            background-color:  #455cce;\n",
       "        }    #T_3ec93976_36e8_11ea_9651_1831bf72f72frow16_col5 {\n",
       "            background-color:  #3b4cc0;\n",
       "        }    #T_3ec93976_36e8_11ea_9651_1831bf72f72frow16_col6 {\n",
       "            background-color:  #465ecf;\n",
       "        }    #T_3ec93976_36e8_11ea_9651_1831bf72f72frow16_col7 {\n",
       "            background-color:  #4c66d6;\n",
       "        }    #T_3ec93976_36e8_11ea_9651_1831bf72f72frow16_col8 {\n",
       "            background-color:  #4961d2;\n",
       "        }    #T_3ec93976_36e8_11ea_9651_1831bf72f72frow16_col9 {\n",
       "            background-color:  #4b64d5;\n",
       "        }    #T_3ec93976_36e8_11ea_9651_1831bf72f72frow16_col10 {\n",
       "            background-color:  #4b64d5;\n",
       "        }    #T_3ec93976_36e8_11ea_9651_1831bf72f72frow16_col11 {\n",
       "            background-color:  #445acc;\n",
       "        }    #T_3ec93976_36e8_11ea_9651_1831bf72f72frow16_col12 {\n",
       "            background-color:  #4a63d3;\n",
       "        }    #T_3ec93976_36e8_11ea_9651_1831bf72f72frow16_col13 {\n",
       "            background-color:  #4b64d5;\n",
       "        }    #T_3ec93976_36e8_11ea_9651_1831bf72f72frow16_col14 {\n",
       "            background-color:  #4358cb;\n",
       "        }    #T_3ec93976_36e8_11ea_9651_1831bf72f72frow16_col15 {\n",
       "            background-color:  #4055c8;\n",
       "        }    #T_3ec93976_36e8_11ea_9651_1831bf72f72frow16_col16 {\n",
       "            background-color:  #b40426;\n",
       "        }    #T_3ec93976_36e8_11ea_9651_1831bf72f72frow16_col17 {\n",
       "            background-color:  #3b4cc0;\n",
       "        }    #T_3ec93976_36e8_11ea_9651_1831bf72f72frow16_col18 {\n",
       "            background-color:  #4c66d6;\n",
       "        }    #T_3ec93976_36e8_11ea_9651_1831bf72f72frow16_col19 {\n",
       "            background-color:  #3f53c6;\n",
       "        }    #T_3ec93976_36e8_11ea_9651_1831bf72f72frow16_col20 {\n",
       "            background-color:  #4e68d8;\n",
       "        }    #T_3ec93976_36e8_11ea_9651_1831bf72f72frow17_col0 {\n",
       "            background-color:  #4b64d5;\n",
       "        }    #T_3ec93976_36e8_11ea_9651_1831bf72f72frow17_col1 {\n",
       "            background-color:  #3e51c5;\n",
       "        }    #T_3ec93976_36e8_11ea_9651_1831bf72f72frow17_col2 {\n",
       "            background-color:  #3b4cc0;\n",
       "        }    #T_3ec93976_36e8_11ea_9651_1831bf72f72frow17_col3 {\n",
       "            background-color:  #4358cb;\n",
       "        }    #T_3ec93976_36e8_11ea_9651_1831bf72f72frow17_col4 {\n",
       "            background-color:  #485fd1;\n",
       "        }    #T_3ec93976_36e8_11ea_9651_1831bf72f72frow17_col5 {\n",
       "            background-color:  #f2cab5;\n",
       "        }    #T_3ec93976_36e8_11ea_9651_1831bf72f72frow17_col6 {\n",
       "            background-color:  #455cce;\n",
       "        }    #T_3ec93976_36e8_11ea_9651_1831bf72f72frow17_col7 {\n",
       "            background-color:  #445acc;\n",
       "        }    #T_3ec93976_36e8_11ea_9651_1831bf72f72frow17_col8 {\n",
       "            background-color:  #485fd1;\n",
       "        }    #T_3ec93976_36e8_11ea_9651_1831bf72f72frow17_col9 {\n",
       "            background-color:  #4358cb;\n",
       "        }    #T_3ec93976_36e8_11ea_9651_1831bf72f72frow17_col10 {\n",
       "            background-color:  #485fd1;\n",
       "        }    #T_3ec93976_36e8_11ea_9651_1831bf72f72frow17_col11 {\n",
       "            background-color:  #3e51c5;\n",
       "        }    #T_3ec93976_36e8_11ea_9651_1831bf72f72frow17_col12 {\n",
       "            background-color:  #485fd1;\n",
       "        }    #T_3ec93976_36e8_11ea_9651_1831bf72f72frow17_col13 {\n",
       "            background-color:  #4c66d6;\n",
       "        }    #T_3ec93976_36e8_11ea_9651_1831bf72f72frow17_col14 {\n",
       "            background-color:  #4b64d5;\n",
       "        }    #T_3ec93976_36e8_11ea_9651_1831bf72f72frow17_col15 {\n",
       "            background-color:  #506bda;\n",
       "        }    #T_3ec93976_36e8_11ea_9651_1831bf72f72frow17_col16 {\n",
       "            background-color:  #3b4cc0;\n",
       "        }    #T_3ec93976_36e8_11ea_9651_1831bf72f72frow17_col17 {\n",
       "            background-color:  #b40426;\n",
       "        }    #T_3ec93976_36e8_11ea_9651_1831bf72f72frow17_col18 {\n",
       "            background-color:  #4b64d5;\n",
       "        }    #T_3ec93976_36e8_11ea_9651_1831bf72f72frow17_col19 {\n",
       "            background-color:  #4961d2;\n",
       "        }    #T_3ec93976_36e8_11ea_9651_1831bf72f72frow17_col20 {\n",
       "            background-color:  #4f69d9;\n",
       "        }    #T_3ec93976_36e8_11ea_9651_1831bf72f72frow18_col0 {\n",
       "            background-color:  #3f53c6;\n",
       "        }    #T_3ec93976_36e8_11ea_9651_1831bf72f72frow18_col1 {\n",
       "            background-color:  #465ecf;\n",
       "        }    #T_3ec93976_36e8_11ea_9651_1831bf72f72frow18_col2 {\n",
       "            background-color:  #4961d2;\n",
       "        }    #T_3ec93976_36e8_11ea_9651_1831bf72f72frow18_col3 {\n",
       "            background-color:  #3e51c5;\n",
       "        }    #T_3ec93976_36e8_11ea_9651_1831bf72f72frow18_col4 {\n",
       "            background-color:  #3e51c5;\n",
       "        }    #T_3ec93976_36e8_11ea_9651_1831bf72f72frow18_col5 {\n",
       "            background-color:  #485fd1;\n",
       "        }    #T_3ec93976_36e8_11ea_9651_1831bf72f72frow18_col6 {\n",
       "            background-color:  #3b4cc0;\n",
       "        }    #T_3ec93976_36e8_11ea_9651_1831bf72f72frow18_col7 {\n",
       "            background-color:  #4257c9;\n",
       "        }    #T_3ec93976_36e8_11ea_9651_1831bf72f72frow18_col8 {\n",
       "            background-color:  #3e51c5;\n",
       "        }    #T_3ec93976_36e8_11ea_9651_1831bf72f72frow18_col9 {\n",
       "            background-color:  #4a63d3;\n",
       "        }    #T_3ec93976_36e8_11ea_9651_1831bf72f72frow18_col10 {\n",
       "            background-color:  #4055c8;\n",
       "        }    #T_3ec93976_36e8_11ea_9651_1831bf72f72frow18_col11 {\n",
       "            background-color:  #4a63d3;\n",
       "        }    #T_3ec93976_36e8_11ea_9651_1831bf72f72frow18_col12 {\n",
       "            background-color:  #4358cb;\n",
       "        }    #T_3ec93976_36e8_11ea_9651_1831bf72f72frow18_col13 {\n",
       "            background-color:  #3b4cc0;\n",
       "        }    #T_3ec93976_36e8_11ea_9651_1831bf72f72frow18_col14 {\n",
       "            background-color:  #3d50c3;\n",
       "        }    #T_3ec93976_36e8_11ea_9651_1831bf72f72frow18_col15 {\n",
       "            background-color:  #465ecf;\n",
       "        }    #T_3ec93976_36e8_11ea_9651_1831bf72f72frow18_col16 {\n",
       "            background-color:  #485fd1;\n",
       "        }    #T_3ec93976_36e8_11ea_9651_1831bf72f72frow18_col17 {\n",
       "            background-color:  #485fd1;\n",
       "        }    #T_3ec93976_36e8_11ea_9651_1831bf72f72frow18_col18 {\n",
       "            background-color:  #b40426;\n",
       "        }    #T_3ec93976_36e8_11ea_9651_1831bf72f72frow18_col19 {\n",
       "            background-color:  #465ecf;\n",
       "        }    #T_3ec93976_36e8_11ea_9651_1831bf72f72frow18_col20 {\n",
       "            background-color:  #3b4cc0;\n",
       "        }    #T_3ec93976_36e8_11ea_9651_1831bf72f72frow19_col0 {\n",
       "            background-color:  #4055c8;\n",
       "        }    #T_3ec93976_36e8_11ea_9651_1831bf72f72frow19_col1 {\n",
       "            background-color:  #3c4ec2;\n",
       "        }    #T_3ec93976_36e8_11ea_9651_1831bf72f72frow19_col2 {\n",
       "            background-color:  #3c4ec2;\n",
       "        }    #T_3ec93976_36e8_11ea_9651_1831bf72f72frow19_col3 {\n",
       "            background-color:  #4961d2;\n",
       "        }    #T_3ec93976_36e8_11ea_9651_1831bf72f72frow19_col4 {\n",
       "            background-color:  #4961d2;\n",
       "        }    #T_3ec93976_36e8_11ea_9651_1831bf72f72frow19_col5 {\n",
       "            background-color:  #3d50c3;\n",
       "        }    #T_3ec93976_36e8_11ea_9651_1831bf72f72frow19_col6 {\n",
       "            background-color:  #455cce;\n",
       "        }    #T_3ec93976_36e8_11ea_9651_1831bf72f72frow19_col7 {\n",
       "            background-color:  #3b4cc0;\n",
       "        }    #T_3ec93976_36e8_11ea_9651_1831bf72f72frow19_col8 {\n",
       "            background-color:  #4358cb;\n",
       "        }    #T_3ec93976_36e8_11ea_9651_1831bf72f72frow19_col9 {\n",
       "            background-color:  #3f53c6;\n",
       "        }    #T_3ec93976_36e8_11ea_9651_1831bf72f72frow19_col10 {\n",
       "            background-color:  #445acc;\n",
       "        }    #T_3ec93976_36e8_11ea_9651_1831bf72f72frow19_col11 {\n",
       "            background-color:  #536edd;\n",
       "        }    #T_3ec93976_36e8_11ea_9651_1831bf72f72frow19_col12 {\n",
       "            background-color:  #4b64d5;\n",
       "        }    #T_3ec93976_36e8_11ea_9651_1831bf72f72frow19_col13 {\n",
       "            background-color:  #4961d2;\n",
       "        }    #T_3ec93976_36e8_11ea_9651_1831bf72f72frow19_col14 {\n",
       "            background-color:  #4a63d3;\n",
       "        }    #T_3ec93976_36e8_11ea_9651_1831bf72f72frow19_col15 {\n",
       "            background-color:  #4e68d8;\n",
       "        }    #T_3ec93976_36e8_11ea_9651_1831bf72f72frow19_col16 {\n",
       "            background-color:  #3b4cc0;\n",
       "        }    #T_3ec93976_36e8_11ea_9651_1831bf72f72frow19_col17 {\n",
       "            background-color:  #445acc;\n",
       "        }    #T_3ec93976_36e8_11ea_9651_1831bf72f72frow19_col18 {\n",
       "            background-color:  #465ecf;\n",
       "        }    #T_3ec93976_36e8_11ea_9651_1831bf72f72frow19_col19 {\n",
       "            background-color:  #b40426;\n",
       "        }    #T_3ec93976_36e8_11ea_9651_1831bf72f72frow19_col20 {\n",
       "            background-color:  #4961d2;\n",
       "        }    #T_3ec93976_36e8_11ea_9651_1831bf72f72frow20_col0 {\n",
       "            background-color:  #84a7fc;\n",
       "        }    #T_3ec93976_36e8_11ea_9651_1831bf72f72frow20_col1 {\n",
       "            background-color:  #4961d2;\n",
       "        }    #T_3ec93976_36e8_11ea_9651_1831bf72f72frow20_col2 {\n",
       "            background-color:  #4055c8;\n",
       "        }    #T_3ec93976_36e8_11ea_9651_1831bf72f72frow20_col3 {\n",
       "            background-color:  #485fd1;\n",
       "        }    #T_3ec93976_36e8_11ea_9651_1831bf72f72frow20_col4 {\n",
       "            background-color:  #4a63d3;\n",
       "        }    #T_3ec93976_36e8_11ea_9651_1831bf72f72frow20_col5 {\n",
       "            background-color:  #485fd1;\n",
       "        }    #T_3ec93976_36e8_11ea_9651_1831bf72f72frow20_col6 {\n",
       "            background-color:  #506bda;\n",
       "        }    #T_3ec93976_36e8_11ea_9651_1831bf72f72frow20_col7 {\n",
       "            background-color:  #4358cb;\n",
       "        }    #T_3ec93976_36e8_11ea_9651_1831bf72f72frow20_col8 {\n",
       "            background-color:  #3b4cc0;\n",
       "        }    #T_3ec93976_36e8_11ea_9651_1831bf72f72frow20_col9 {\n",
       "            background-color:  #445acc;\n",
       "        }    #T_3ec93976_36e8_11ea_9651_1831bf72f72frow20_col10 {\n",
       "            background-color:  #4c66d6;\n",
       "        }    #T_3ec93976_36e8_11ea_9651_1831bf72f72frow20_col11 {\n",
       "            background-color:  #7295f4;\n",
       "        }    #T_3ec93976_36e8_11ea_9651_1831bf72f72frow20_col12 {\n",
       "            background-color:  #779af7;\n",
       "        }    #T_3ec93976_36e8_11ea_9651_1831bf72f72frow20_col13 {\n",
       "            background-color:  #d0473d;\n",
       "        }    #T_3ec93976_36e8_11ea_9651_1831bf72f72frow20_col14 {\n",
       "            background-color:  #4a63d3;\n",
       "        }    #T_3ec93976_36e8_11ea_9651_1831bf72f72frow20_col15 {\n",
       "            background-color:  #4f69d9;\n",
       "        }    #T_3ec93976_36e8_11ea_9651_1831bf72f72frow20_col16 {\n",
       "            background-color:  #4961d2;\n",
       "        }    #T_3ec93976_36e8_11ea_9651_1831bf72f72frow20_col17 {\n",
       "            background-color:  #4a63d3;\n",
       "        }    #T_3ec93976_36e8_11ea_9651_1831bf72f72frow20_col18 {\n",
       "            background-color:  #3b4cc0;\n",
       "        }    #T_3ec93976_36e8_11ea_9651_1831bf72f72frow20_col19 {\n",
       "            background-color:  #4961d2;\n",
       "        }    #T_3ec93976_36e8_11ea_9651_1831bf72f72frow20_col20 {\n",
       "            background-color:  #b40426;\n",
       "        }</style>  \n",
       "<table id=\"T_3ec93976_36e8_11ea_9651_1831bf72f72f\" > \n",
       "<thead>    <tr> \n",
       "        <th class=\"blank level0\" ></th> \n",
       "        <th class=\"col_heading level0 col0\" >battery_power</th> \n",
       "        <th class=\"col_heading level0 col1\" >blue</th> \n",
       "        <th class=\"col_heading level0 col2\" >clock_speed</th> \n",
       "        <th class=\"col_heading level0 col3\" >dual_sim</th> \n",
       "        <th class=\"col_heading level0 col4\" >fc</th> \n",
       "        <th class=\"col_heading level0 col5\" >four_g</th> \n",
       "        <th class=\"col_heading level0 col6\" >int_memory</th> \n",
       "        <th class=\"col_heading level0 col7\" >m_dep</th> \n",
       "        <th class=\"col_heading level0 col8\" >mobile_wt</th> \n",
       "        <th class=\"col_heading level0 col9\" >n_cores</th> \n",
       "        <th class=\"col_heading level0 col10\" >pc</th> \n",
       "        <th class=\"col_heading level0 col11\" >px_height</th> \n",
       "        <th class=\"col_heading level0 col12\" >px_width</th> \n",
       "        <th class=\"col_heading level0 col13\" >ram</th> \n",
       "        <th class=\"col_heading level0 col14\" >sc_h</th> \n",
       "        <th class=\"col_heading level0 col15\" >sc_w</th> \n",
       "        <th class=\"col_heading level0 col16\" >talk_time</th> \n",
       "        <th class=\"col_heading level0 col17\" >three_g</th> \n",
       "        <th class=\"col_heading level0 col18\" >touch_screen</th> \n",
       "        <th class=\"col_heading level0 col19\" >wifi</th> \n",
       "        <th class=\"col_heading level0 col20\" >price_range</th> \n",
       "    </tr></thead> \n",
       "<tbody>    <tr> \n",
       "        <th id=\"T_3ec93976_36e8_11ea_9651_1831bf72f72flevel0_row0\" class=\"row_heading level0 row0\" >battery_power</th> \n",
       "        <td id=\"T_3ec93976_36e8_11ea_9651_1831bf72f72frow0_col0\" class=\"data row0 col0\" >1.0</td> \n",
       "        <td id=\"T_3ec93976_36e8_11ea_9651_1831bf72f72frow0_col1\" class=\"data row0 col1\" >0.011</td> \n",
       "        <td id=\"T_3ec93976_36e8_11ea_9651_1831bf72f72frow0_col2\" class=\"data row0 col2\" >0.011</td> \n",
       "        <td id=\"T_3ec93976_36e8_11ea_9651_1831bf72f72frow0_col3\" class=\"data row0 col3\" >-0.042</td> \n",
       "        <td id=\"T_3ec93976_36e8_11ea_9651_1831bf72f72frow0_col4\" class=\"data row0 col4\" >0.033</td> \n",
       "        <td id=\"T_3ec93976_36e8_11ea_9651_1831bf72f72frow0_col5\" class=\"data row0 col5\" >0.016</td> \n",
       "        <td id=\"T_3ec93976_36e8_11ea_9651_1831bf72f72frow0_col6\" class=\"data row0 col6\" >-0.004</td> \n",
       "        <td id=\"T_3ec93976_36e8_11ea_9651_1831bf72f72frow0_col7\" class=\"data row0 col7\" >0.034</td> \n",
       "        <td id=\"T_3ec93976_36e8_11ea_9651_1831bf72f72frow0_col8\" class=\"data row0 col8\" >0.0018</td> \n",
       "        <td id=\"T_3ec93976_36e8_11ea_9651_1831bf72f72frow0_col9\" class=\"data row0 col9\" >-0.03</td> \n",
       "        <td id=\"T_3ec93976_36e8_11ea_9651_1831bf72f72frow0_col10\" class=\"data row0 col10\" >0.031</td> \n",
       "        <td id=\"T_3ec93976_36e8_11ea_9651_1831bf72f72frow0_col11\" class=\"data row0 col11\" >0.015</td> \n",
       "        <td id=\"T_3ec93976_36e8_11ea_9651_1831bf72f72frow0_col12\" class=\"data row0 col12\" >-0.0084</td> \n",
       "        <td id=\"T_3ec93976_36e8_11ea_9651_1831bf72f72frow0_col13\" class=\"data row0 col13\" >-0.00065</td> \n",
       "        <td id=\"T_3ec93976_36e8_11ea_9651_1831bf72f72frow0_col14\" class=\"data row0 col14\" >-0.03</td> \n",
       "        <td id=\"T_3ec93976_36e8_11ea_9651_1831bf72f72frow0_col15\" class=\"data row0 col15\" >-0.021</td> \n",
       "        <td id=\"T_3ec93976_36e8_11ea_9651_1831bf72f72frow0_col16\" class=\"data row0 col16\" >0.053</td> \n",
       "        <td id=\"T_3ec93976_36e8_11ea_9651_1831bf72f72frow0_col17\" class=\"data row0 col17\" >0.012</td> \n",
       "        <td id=\"T_3ec93976_36e8_11ea_9651_1831bf72f72frow0_col18\" class=\"data row0 col18\" >-0.011</td> \n",
       "        <td id=\"T_3ec93976_36e8_11ea_9651_1831bf72f72frow0_col19\" class=\"data row0 col19\" >-0.0083</td> \n",
       "        <td id=\"T_3ec93976_36e8_11ea_9651_1831bf72f72frow0_col20\" class=\"data row0 col20\" >0.2</td> \n",
       "    </tr>    <tr> \n",
       "        <th id=\"T_3ec93976_36e8_11ea_9651_1831bf72f72flevel0_row1\" class=\"row_heading level0 row1\" >blue</th> \n",
       "        <td id=\"T_3ec93976_36e8_11ea_9651_1831bf72f72frow1_col0\" class=\"data row1 col0\" >0.011</td> \n",
       "        <td id=\"T_3ec93976_36e8_11ea_9651_1831bf72f72frow1_col1\" class=\"data row1 col1\" >1.0</td> \n",
       "        <td id=\"T_3ec93976_36e8_11ea_9651_1831bf72f72frow1_col2\" class=\"data row1 col2\" >0.021</td> \n",
       "        <td id=\"T_3ec93976_36e8_11ea_9651_1831bf72f72frow1_col3\" class=\"data row1 col3\" >0.035</td> \n",
       "        <td id=\"T_3ec93976_36e8_11ea_9651_1831bf72f72frow1_col4\" class=\"data row1 col4\" >0.0036</td> \n",
       "        <td id=\"T_3ec93976_36e8_11ea_9651_1831bf72f72frow1_col5\" class=\"data row1 col5\" >0.013</td> \n",
       "        <td id=\"T_3ec93976_36e8_11ea_9651_1831bf72f72frow1_col6\" class=\"data row1 col6\" >0.041</td> \n",
       "        <td id=\"T_3ec93976_36e8_11ea_9651_1831bf72f72frow1_col7\" class=\"data row1 col7\" >0.004</td> \n",
       "        <td id=\"T_3ec93976_36e8_11ea_9651_1831bf72f72frow1_col8\" class=\"data row1 col8\" >-0.0086</td> \n",
       "        <td id=\"T_3ec93976_36e8_11ea_9651_1831bf72f72frow1_col9\" class=\"data row1 col9\" >0.036</td> \n",
       "        <td id=\"T_3ec93976_36e8_11ea_9651_1831bf72f72frow1_col10\" class=\"data row1 col10\" >-0.01</td> \n",
       "        <td id=\"T_3ec93976_36e8_11ea_9651_1831bf72f72frow1_col11\" class=\"data row1 col11\" >-0.0069</td> \n",
       "        <td id=\"T_3ec93976_36e8_11ea_9651_1831bf72f72frow1_col12\" class=\"data row1 col12\" >-0.042</td> \n",
       "        <td id=\"T_3ec93976_36e8_11ea_9651_1831bf72f72frow1_col13\" class=\"data row1 col13\" >0.026</td> \n",
       "        <td id=\"T_3ec93976_36e8_11ea_9651_1831bf72f72frow1_col14\" class=\"data row1 col14\" >-0.003</td> \n",
       "        <td id=\"T_3ec93976_36e8_11ea_9651_1831bf72f72frow1_col15\" class=\"data row1 col15\" >0.00061</td> \n",
       "        <td id=\"T_3ec93976_36e8_11ea_9651_1831bf72f72frow1_col16\" class=\"data row1 col16\" >0.014</td> \n",
       "        <td id=\"T_3ec93976_36e8_11ea_9651_1831bf72f72frow1_col17\" class=\"data row1 col17\" >-0.03</td> \n",
       "        <td id=\"T_3ec93976_36e8_11ea_9651_1831bf72f72frow1_col18\" class=\"data row1 col18\" >0.01</td> \n",
       "        <td id=\"T_3ec93976_36e8_11ea_9651_1831bf72f72frow1_col19\" class=\"data row1 col19\" >-0.022</td> \n",
       "        <td id=\"T_3ec93976_36e8_11ea_9651_1831bf72f72frow1_col20\" class=\"data row1 col20\" >0.021</td> \n",
       "    </tr>    <tr> \n",
       "        <th id=\"T_3ec93976_36e8_11ea_9651_1831bf72f72flevel0_row2\" class=\"row_heading level0 row2\" >clock_speed</th> \n",
       "        <td id=\"T_3ec93976_36e8_11ea_9651_1831bf72f72frow2_col0\" class=\"data row2 col0\" >0.011</td> \n",
       "        <td id=\"T_3ec93976_36e8_11ea_9651_1831bf72f72frow2_col1\" class=\"data row2 col1\" >0.021</td> \n",
       "        <td id=\"T_3ec93976_36e8_11ea_9651_1831bf72f72frow2_col2\" class=\"data row2 col2\" >1.0</td> \n",
       "        <td id=\"T_3ec93976_36e8_11ea_9651_1831bf72f72frow2_col3\" class=\"data row2 col3\" >-0.0013</td> \n",
       "        <td id=\"T_3ec93976_36e8_11ea_9651_1831bf72f72frow2_col4\" class=\"data row2 col4\" >-0.00043</td> \n",
       "        <td id=\"T_3ec93976_36e8_11ea_9651_1831bf72f72frow2_col5\" class=\"data row2 col5\" >-0.043</td> \n",
       "        <td id=\"T_3ec93976_36e8_11ea_9651_1831bf72f72frow2_col6\" class=\"data row2 col6\" >0.0065</td> \n",
       "        <td id=\"T_3ec93976_36e8_11ea_9651_1831bf72f72frow2_col7\" class=\"data row2 col7\" >-0.014</td> \n",
       "        <td id=\"T_3ec93976_36e8_11ea_9651_1831bf72f72frow2_col8\" class=\"data row2 col8\" >0.012</td> \n",
       "        <td id=\"T_3ec93976_36e8_11ea_9651_1831bf72f72frow2_col9\" class=\"data row2 col9\" >-0.0057</td> \n",
       "        <td id=\"T_3ec93976_36e8_11ea_9651_1831bf72f72frow2_col10\" class=\"data row2 col10\" >-0.0052</td> \n",
       "        <td id=\"T_3ec93976_36e8_11ea_9651_1831bf72f72frow2_col11\" class=\"data row2 col11\" >-0.015</td> \n",
       "        <td id=\"T_3ec93976_36e8_11ea_9651_1831bf72f72frow2_col12\" class=\"data row2 col12\" >-0.0095</td> \n",
       "        <td id=\"T_3ec93976_36e8_11ea_9651_1831bf72f72frow2_col13\" class=\"data row2 col13\" >0.0034</td> \n",
       "        <td id=\"T_3ec93976_36e8_11ea_9651_1831bf72f72frow2_col14\" class=\"data row2 col14\" >-0.029</td> \n",
       "        <td id=\"T_3ec93976_36e8_11ea_9651_1831bf72f72frow2_col15\" class=\"data row2 col15\" >-0.0074</td> \n",
       "        <td id=\"T_3ec93976_36e8_11ea_9651_1831bf72f72frow2_col16\" class=\"data row2 col16\" >-0.011</td> \n",
       "        <td id=\"T_3ec93976_36e8_11ea_9651_1831bf72f72frow2_col17\" class=\"data row2 col17\" >-0.046</td> \n",
       "        <td id=\"T_3ec93976_36e8_11ea_9651_1831bf72f72frow2_col18\" class=\"data row2 col18\" >0.02</td> \n",
       "        <td id=\"T_3ec93976_36e8_11ea_9651_1831bf72f72frow2_col19\" class=\"data row2 col19\" >-0.024</td> \n",
       "        <td id=\"T_3ec93976_36e8_11ea_9651_1831bf72f72frow2_col20\" class=\"data row2 col20\" >-0.0066</td> \n",
       "    </tr>    <tr> \n",
       "        <th id=\"T_3ec93976_36e8_11ea_9651_1831bf72f72flevel0_row3\" class=\"row_heading level0 row3\" >dual_sim</th> \n",
       "        <td id=\"T_3ec93976_36e8_11ea_9651_1831bf72f72frow3_col0\" class=\"data row3 col0\" >-0.042</td> \n",
       "        <td id=\"T_3ec93976_36e8_11ea_9651_1831bf72f72frow3_col1\" class=\"data row3 col1\" >0.035</td> \n",
       "        <td id=\"T_3ec93976_36e8_11ea_9651_1831bf72f72frow3_col2\" class=\"data row3 col2\" >-0.0013</td> \n",
       "        <td id=\"T_3ec93976_36e8_11ea_9651_1831bf72f72frow3_col3\" class=\"data row3 col3\" >1.0</td> \n",
       "        <td id=\"T_3ec93976_36e8_11ea_9651_1831bf72f72frow3_col4\" class=\"data row3 col4\" >-0.029</td> \n",
       "        <td id=\"T_3ec93976_36e8_11ea_9651_1831bf72f72frow3_col5\" class=\"data row3 col5\" >0.0032</td> \n",
       "        <td id=\"T_3ec93976_36e8_11ea_9651_1831bf72f72frow3_col6\" class=\"data row3 col6\" >-0.016</td> \n",
       "        <td id=\"T_3ec93976_36e8_11ea_9651_1831bf72f72frow3_col7\" class=\"data row3 col7\" >-0.022</td> \n",
       "        <td id=\"T_3ec93976_36e8_11ea_9651_1831bf72f72frow3_col8\" class=\"data row3 col8\" >-0.009</td> \n",
       "        <td id=\"T_3ec93976_36e8_11ea_9651_1831bf72f72frow3_col9\" class=\"data row3 col9\" >-0.025</td> \n",
       "        <td id=\"T_3ec93976_36e8_11ea_9651_1831bf72f72frow3_col10\" class=\"data row3 col10\" >-0.017</td> \n",
       "        <td id=\"T_3ec93976_36e8_11ea_9651_1831bf72f72frow3_col11\" class=\"data row3 col11\" >-0.021</td> \n",
       "        <td id=\"T_3ec93976_36e8_11ea_9651_1831bf72f72frow3_col12\" class=\"data row3 col12\" >0.014</td> \n",
       "        <td id=\"T_3ec93976_36e8_11ea_9651_1831bf72f72frow3_col13\" class=\"data row3 col13\" >0.041</td> \n",
       "        <td id=\"T_3ec93976_36e8_11ea_9651_1831bf72f72frow3_col14\" class=\"data row3 col14\" >-0.012</td> \n",
       "        <td id=\"T_3ec93976_36e8_11ea_9651_1831bf72f72frow3_col15\" class=\"data row3 col15\" >-0.017</td> \n",
       "        <td id=\"T_3ec93976_36e8_11ea_9651_1831bf72f72frow3_col16\" class=\"data row3 col16\" >-0.039</td> \n",
       "        <td id=\"T_3ec93976_36e8_11ea_9651_1831bf72f72frow3_col17\" class=\"data row3 col17\" >-0.014</td> \n",
       "        <td id=\"T_3ec93976_36e8_11ea_9651_1831bf72f72frow3_col18\" class=\"data row3 col18\" >-0.017</td> \n",
       "        <td id=\"T_3ec93976_36e8_11ea_9651_1831bf72f72frow3_col19\" class=\"data row3 col19\" >0.023</td> \n",
       "        <td id=\"T_3ec93976_36e8_11ea_9651_1831bf72f72frow3_col20\" class=\"data row3 col20\" >0.017</td> \n",
       "    </tr>    <tr> \n",
       "        <th id=\"T_3ec93976_36e8_11ea_9651_1831bf72f72flevel0_row4\" class=\"row_heading level0 row4\" >fc</th> \n",
       "        <td id=\"T_3ec93976_36e8_11ea_9651_1831bf72f72frow4_col0\" class=\"data row4 col0\" >0.033</td> \n",
       "        <td id=\"T_3ec93976_36e8_11ea_9651_1831bf72f72frow4_col1\" class=\"data row4 col1\" >0.0036</td> \n",
       "        <td id=\"T_3ec93976_36e8_11ea_9651_1831bf72f72frow4_col2\" class=\"data row4 col2\" >-0.00043</td> \n",
       "        <td id=\"T_3ec93976_36e8_11ea_9651_1831bf72f72frow4_col3\" class=\"data row4 col3\" >-0.029</td> \n",
       "        <td id=\"T_3ec93976_36e8_11ea_9651_1831bf72f72frow4_col4\" class=\"data row4 col4\" >1.0</td> \n",
       "        <td id=\"T_3ec93976_36e8_11ea_9651_1831bf72f72frow4_col5\" class=\"data row4 col5\" >-0.017</td> \n",
       "        <td id=\"T_3ec93976_36e8_11ea_9651_1831bf72f72frow4_col6\" class=\"data row4 col6\" >-0.029</td> \n",
       "        <td id=\"T_3ec93976_36e8_11ea_9651_1831bf72f72frow4_col7\" class=\"data row4 col7\" >-0.0018</td> \n",
       "        <td id=\"T_3ec93976_36e8_11ea_9651_1831bf72f72frow4_col8\" class=\"data row4 col8\" >0.024</td> \n",
       "        <td id=\"T_3ec93976_36e8_11ea_9651_1831bf72f72frow4_col9\" class=\"data row4 col9\" >-0.013</td> \n",
       "        <td id=\"T_3ec93976_36e8_11ea_9651_1831bf72f72frow4_col10\" class=\"data row4 col10\" >0.64</td> \n",
       "        <td id=\"T_3ec93976_36e8_11ea_9651_1831bf72f72frow4_col11\" class=\"data row4 col11\" >-0.01</td> \n",
       "        <td id=\"T_3ec93976_36e8_11ea_9651_1831bf72f72frow4_col12\" class=\"data row4 col12\" >-0.0052</td> \n",
       "        <td id=\"T_3ec93976_36e8_11ea_9651_1831bf72f72frow4_col13\" class=\"data row4 col13\" >0.015</td> \n",
       "        <td id=\"T_3ec93976_36e8_11ea_9651_1831bf72f72frow4_col14\" class=\"data row4 col14\" >-0.011</td> \n",
       "        <td id=\"T_3ec93976_36e8_11ea_9651_1831bf72f72frow4_col15\" class=\"data row4 col15\" >-0.012</td> \n",
       "        <td id=\"T_3ec93976_36e8_11ea_9651_1831bf72f72frow4_col16\" class=\"data row4 col16\" >-0.0068</td> \n",
       "        <td id=\"T_3ec93976_36e8_11ea_9651_1831bf72f72frow4_col17\" class=\"data row4 col17\" >0.0018</td> \n",
       "        <td id=\"T_3ec93976_36e8_11ea_9651_1831bf72f72frow4_col18\" class=\"data row4 col18\" >-0.015</td> \n",
       "        <td id=\"T_3ec93976_36e8_11ea_9651_1831bf72f72frow4_col19\" class=\"data row4 col19\" >0.02</td> \n",
       "        <td id=\"T_3ec93976_36e8_11ea_9651_1831bf72f72frow4_col20\" class=\"data row4 col20\" >0.022</td> \n",
       "    </tr>    <tr> \n",
       "        <th id=\"T_3ec93976_36e8_11ea_9651_1831bf72f72flevel0_row5\" class=\"row_heading level0 row5\" >four_g</th> \n",
       "        <td id=\"T_3ec93976_36e8_11ea_9651_1831bf72f72frow5_col0\" class=\"data row5 col0\" >0.016</td> \n",
       "        <td id=\"T_3ec93976_36e8_11ea_9651_1831bf72f72frow5_col1\" class=\"data row5 col1\" >0.013</td> \n",
       "        <td id=\"T_3ec93976_36e8_11ea_9651_1831bf72f72frow5_col2\" class=\"data row5 col2\" >-0.043</td> \n",
       "        <td id=\"T_3ec93976_36e8_11ea_9651_1831bf72f72frow5_col3\" class=\"data row5 col3\" >0.0032</td> \n",
       "        <td id=\"T_3ec93976_36e8_11ea_9651_1831bf72f72frow5_col4\" class=\"data row5 col4\" >-0.017</td> \n",
       "        <td id=\"T_3ec93976_36e8_11ea_9651_1831bf72f72frow5_col5\" class=\"data row5 col5\" >1.0</td> \n",
       "        <td id=\"T_3ec93976_36e8_11ea_9651_1831bf72f72frow5_col6\" class=\"data row5 col6\" >0.0087</td> \n",
       "        <td id=\"T_3ec93976_36e8_11ea_9651_1831bf72f72frow5_col7\" class=\"data row5 col7\" >-0.0018</td> \n",
       "        <td id=\"T_3ec93976_36e8_11ea_9651_1831bf72f72frow5_col8\" class=\"data row5 col8\" >-0.017</td> \n",
       "        <td id=\"T_3ec93976_36e8_11ea_9651_1831bf72f72frow5_col9\" class=\"data row5 col9\" >-0.03</td> \n",
       "        <td id=\"T_3ec93976_36e8_11ea_9651_1831bf72f72frow5_col10\" class=\"data row5 col10\" >-0.0056</td> \n",
       "        <td id=\"T_3ec93976_36e8_11ea_9651_1831bf72f72frow5_col11\" class=\"data row5 col11\" >-0.019</td> \n",
       "        <td id=\"T_3ec93976_36e8_11ea_9651_1831bf72f72frow5_col12\" class=\"data row5 col12\" >0.0074</td> \n",
       "        <td id=\"T_3ec93976_36e8_11ea_9651_1831bf72f72frow5_col13\" class=\"data row5 col13\" >0.0073</td> \n",
       "        <td id=\"T_3ec93976_36e8_11ea_9651_1831bf72f72frow5_col14\" class=\"data row5 col14\" >0.027</td> \n",
       "        <td id=\"T_3ec93976_36e8_11ea_9651_1831bf72f72frow5_col15\" class=\"data row5 col15\" >0.037</td> \n",
       "        <td id=\"T_3ec93976_36e8_11ea_9651_1831bf72f72frow5_col16\" class=\"data row5 col16\" >-0.047</td> \n",
       "        <td id=\"T_3ec93976_36e8_11ea_9651_1831bf72f72frow5_col17\" class=\"data row5 col17\" >0.58</td> \n",
       "        <td id=\"T_3ec93976_36e8_11ea_9651_1831bf72f72frow5_col18\" class=\"data row5 col18\" >0.017</td> \n",
       "        <td id=\"T_3ec93976_36e8_11ea_9651_1831bf72f72frow5_col19\" class=\"data row5 col19\" >-0.018</td> \n",
       "        <td id=\"T_3ec93976_36e8_11ea_9651_1831bf72f72frow5_col20\" class=\"data row5 col20\" >0.015</td> \n",
       "    </tr>    <tr> \n",
       "        <th id=\"T_3ec93976_36e8_11ea_9651_1831bf72f72flevel0_row6\" class=\"row_heading level0 row6\" >int_memory</th> \n",
       "        <td id=\"T_3ec93976_36e8_11ea_9651_1831bf72f72frow6_col0\" class=\"data row6 col0\" >-0.004</td> \n",
       "        <td id=\"T_3ec93976_36e8_11ea_9651_1831bf72f72frow6_col1\" class=\"data row6 col1\" >0.041</td> \n",
       "        <td id=\"T_3ec93976_36e8_11ea_9651_1831bf72f72frow6_col2\" class=\"data row6 col2\" >0.0065</td> \n",
       "        <td id=\"T_3ec93976_36e8_11ea_9651_1831bf72f72frow6_col3\" class=\"data row6 col3\" >-0.016</td> \n",
       "        <td id=\"T_3ec93976_36e8_11ea_9651_1831bf72f72frow6_col4\" class=\"data row6 col4\" >-0.029</td> \n",
       "        <td id=\"T_3ec93976_36e8_11ea_9651_1831bf72f72frow6_col5\" class=\"data row6 col5\" >0.0087</td> \n",
       "        <td id=\"T_3ec93976_36e8_11ea_9651_1831bf72f72frow6_col6\" class=\"data row6 col6\" >1.0</td> \n",
       "        <td id=\"T_3ec93976_36e8_11ea_9651_1831bf72f72frow6_col7\" class=\"data row6 col7\" >0.0069</td> \n",
       "        <td id=\"T_3ec93976_36e8_11ea_9651_1831bf72f72frow6_col8\" class=\"data row6 col8\" >-0.034</td> \n",
       "        <td id=\"T_3ec93976_36e8_11ea_9651_1831bf72f72frow6_col9\" class=\"data row6 col9\" >-0.028</td> \n",
       "        <td id=\"T_3ec93976_36e8_11ea_9651_1831bf72f72frow6_col10\" class=\"data row6 col10\" >-0.033</td> \n",
       "        <td id=\"T_3ec93976_36e8_11ea_9651_1831bf72f72frow6_col11\" class=\"data row6 col11\" >0.01</td> \n",
       "        <td id=\"T_3ec93976_36e8_11ea_9651_1831bf72f72frow6_col12\" class=\"data row6 col12\" >-0.0083</td> \n",
       "        <td id=\"T_3ec93976_36e8_11ea_9651_1831bf72f72frow6_col13\" class=\"data row6 col13\" >0.033</td> \n",
       "        <td id=\"T_3ec93976_36e8_11ea_9651_1831bf72f72frow6_col14\" class=\"data row6 col14\" >0.038</td> \n",
       "        <td id=\"T_3ec93976_36e8_11ea_9651_1831bf72f72frow6_col15\" class=\"data row6 col15\" >0.012</td> \n",
       "        <td id=\"T_3ec93976_36e8_11ea_9651_1831bf72f72frow6_col16\" class=\"data row6 col16\" >-0.0028</td> \n",
       "        <td id=\"T_3ec93976_36e8_11ea_9651_1831bf72f72frow6_col17\" class=\"data row6 col17\" >-0.0094</td> \n",
       "        <td id=\"T_3ec93976_36e8_11ea_9651_1831bf72f72frow6_col18\" class=\"data row6 col18\" >-0.027</td> \n",
       "        <td id=\"T_3ec93976_36e8_11ea_9651_1831bf72f72frow6_col19\" class=\"data row6 col19\" >0.007</td> \n",
       "        <td id=\"T_3ec93976_36e8_11ea_9651_1831bf72f72frow6_col20\" class=\"data row6 col20\" >0.044</td> \n",
       "    </tr>    <tr> \n",
       "        <th id=\"T_3ec93976_36e8_11ea_9651_1831bf72f72flevel0_row7\" class=\"row_heading level0 row7\" >m_dep</th> \n",
       "        <td id=\"T_3ec93976_36e8_11ea_9651_1831bf72f72frow7_col0\" class=\"data row7 col0\" >0.034</td> \n",
       "        <td id=\"T_3ec93976_36e8_11ea_9651_1831bf72f72frow7_col1\" class=\"data row7 col1\" >0.004</td> \n",
       "        <td id=\"T_3ec93976_36e8_11ea_9651_1831bf72f72frow7_col2\" class=\"data row7 col2\" >-0.014</td> \n",
       "        <td id=\"T_3ec93976_36e8_11ea_9651_1831bf72f72frow7_col3\" class=\"data row7 col3\" >-0.022</td> \n",
       "        <td id=\"T_3ec93976_36e8_11ea_9651_1831bf72f72frow7_col4\" class=\"data row7 col4\" >-0.0018</td> \n",
       "        <td id=\"T_3ec93976_36e8_11ea_9651_1831bf72f72frow7_col5\" class=\"data row7 col5\" >-0.0018</td> \n",
       "        <td id=\"T_3ec93976_36e8_11ea_9651_1831bf72f72frow7_col6\" class=\"data row7 col6\" >0.0069</td> \n",
       "        <td id=\"T_3ec93976_36e8_11ea_9651_1831bf72f72frow7_col7\" class=\"data row7 col7\" >1.0</td> \n",
       "        <td id=\"T_3ec93976_36e8_11ea_9651_1831bf72f72frow7_col8\" class=\"data row7 col8\" >0.022</td> \n",
       "        <td id=\"T_3ec93976_36e8_11ea_9651_1831bf72f72frow7_col9\" class=\"data row7 col9\" >-0.0035</td> \n",
       "        <td id=\"T_3ec93976_36e8_11ea_9651_1831bf72f72frow7_col10\" class=\"data row7 col10\" >0.026</td> \n",
       "        <td id=\"T_3ec93976_36e8_11ea_9651_1831bf72f72frow7_col11\" class=\"data row7 col11\" >0.025</td> \n",
       "        <td id=\"T_3ec93976_36e8_11ea_9651_1831bf72f72frow7_col12\" class=\"data row7 col12\" >0.024</td> \n",
       "        <td id=\"T_3ec93976_36e8_11ea_9651_1831bf72f72frow7_col13\" class=\"data row7 col13\" >-0.0094</td> \n",
       "        <td id=\"T_3ec93976_36e8_11ea_9651_1831bf72f72frow7_col14\" class=\"data row7 col14\" >-0.025</td> \n",
       "        <td id=\"T_3ec93976_36e8_11ea_9651_1831bf72f72frow7_col15\" class=\"data row7 col15\" >-0.018</td> \n",
       "        <td id=\"T_3ec93976_36e8_11ea_9651_1831bf72f72frow7_col16\" class=\"data row7 col16\" >0.017</td> \n",
       "        <td id=\"T_3ec93976_36e8_11ea_9651_1831bf72f72frow7_col17\" class=\"data row7 col17\" >-0.012</td> \n",
       "        <td id=\"T_3ec93976_36e8_11ea_9651_1831bf72f72frow7_col18\" class=\"data row7 col18\" >-0.0026</td> \n",
       "        <td id=\"T_3ec93976_36e8_11ea_9651_1831bf72f72frow7_col19\" class=\"data row7 col19\" >-0.028</td> \n",
       "        <td id=\"T_3ec93976_36e8_11ea_9651_1831bf72f72frow7_col20\" class=\"data row7 col20\" >0.00085</td> \n",
       "    </tr>    <tr> \n",
       "        <th id=\"T_3ec93976_36e8_11ea_9651_1831bf72f72flevel0_row8\" class=\"row_heading level0 row8\" >mobile_wt</th> \n",
       "        <td id=\"T_3ec93976_36e8_11ea_9651_1831bf72f72frow8_col0\" class=\"data row8 col0\" >0.0018</td> \n",
       "        <td id=\"T_3ec93976_36e8_11ea_9651_1831bf72f72frow8_col1\" class=\"data row8 col1\" >-0.0086</td> \n",
       "        <td id=\"T_3ec93976_36e8_11ea_9651_1831bf72f72frow8_col2\" class=\"data row8 col2\" >0.012</td> \n",
       "        <td id=\"T_3ec93976_36e8_11ea_9651_1831bf72f72frow8_col3\" class=\"data row8 col3\" >-0.009</td> \n",
       "        <td id=\"T_3ec93976_36e8_11ea_9651_1831bf72f72frow8_col4\" class=\"data row8 col4\" >0.024</td> \n",
       "        <td id=\"T_3ec93976_36e8_11ea_9651_1831bf72f72frow8_col5\" class=\"data row8 col5\" >-0.017</td> \n",
       "        <td id=\"T_3ec93976_36e8_11ea_9651_1831bf72f72frow8_col6\" class=\"data row8 col6\" >-0.034</td> \n",
       "        <td id=\"T_3ec93976_36e8_11ea_9651_1831bf72f72frow8_col7\" class=\"data row8 col7\" >0.022</td> \n",
       "        <td id=\"T_3ec93976_36e8_11ea_9651_1831bf72f72frow8_col8\" class=\"data row8 col8\" >1.0</td> \n",
       "        <td id=\"T_3ec93976_36e8_11ea_9651_1831bf72f72frow8_col9\" class=\"data row8 col9\" >-0.019</td> \n",
       "        <td id=\"T_3ec93976_36e8_11ea_9651_1831bf72f72frow8_col10\" class=\"data row8 col10\" >0.019</td> \n",
       "        <td id=\"T_3ec93976_36e8_11ea_9651_1831bf72f72frow8_col11\" class=\"data row8 col11\" >0.00094</td> \n",
       "        <td id=\"T_3ec93976_36e8_11ea_9651_1831bf72f72frow8_col12\" class=\"data row8 col12\" >9e-05</td> \n",
       "        <td id=\"T_3ec93976_36e8_11ea_9651_1831bf72f72frow8_col13\" class=\"data row8 col13\" >-0.0026</td> \n",
       "        <td id=\"T_3ec93976_36e8_11ea_9651_1831bf72f72frow8_col14\" class=\"data row8 col14\" >-0.034</td> \n",
       "        <td id=\"T_3ec93976_36e8_11ea_9651_1831bf72f72frow8_col15\" class=\"data row8 col15\" >-0.021</td> \n",
       "        <td id=\"T_3ec93976_36e8_11ea_9651_1831bf72f72frow8_col16\" class=\"data row8 col16\" >0.0062</td> \n",
       "        <td id=\"T_3ec93976_36e8_11ea_9651_1831bf72f72frow8_col17\" class=\"data row8 col17\" >0.0016</td> \n",
       "        <td id=\"T_3ec93976_36e8_11ea_9651_1831bf72f72frow8_col18\" class=\"data row8 col18\" >-0.014</td> \n",
       "        <td id=\"T_3ec93976_36e8_11ea_9651_1831bf72f72frow8_col19\" class=\"data row8 col19\" >-0.00041</td> \n",
       "        <td id=\"T_3ec93976_36e8_11ea_9651_1831bf72f72frow8_col20\" class=\"data row8 col20\" >-0.03</td> \n",
       "    </tr>    <tr> \n",
       "        <th id=\"T_3ec93976_36e8_11ea_9651_1831bf72f72flevel0_row9\" class=\"row_heading level0 row9\" >n_cores</th> \n",
       "        <td id=\"T_3ec93976_36e8_11ea_9651_1831bf72f72frow9_col0\" class=\"data row9 col0\" >-0.03</td> \n",
       "        <td id=\"T_3ec93976_36e8_11ea_9651_1831bf72f72frow9_col1\" class=\"data row9 col1\" >0.036</td> \n",
       "        <td id=\"T_3ec93976_36e8_11ea_9651_1831bf72f72frow9_col2\" class=\"data row9 col2\" >-0.0057</td> \n",
       "        <td id=\"T_3ec93976_36e8_11ea_9651_1831bf72f72frow9_col3\" class=\"data row9 col3\" >-0.025</td> \n",
       "        <td id=\"T_3ec93976_36e8_11ea_9651_1831bf72f72frow9_col4\" class=\"data row9 col4\" >-0.013</td> \n",
       "        <td id=\"T_3ec93976_36e8_11ea_9651_1831bf72f72frow9_col5\" class=\"data row9 col5\" >-0.03</td> \n",
       "        <td id=\"T_3ec93976_36e8_11ea_9651_1831bf72f72frow9_col6\" class=\"data row9 col6\" >-0.028</td> \n",
       "        <td id=\"T_3ec93976_36e8_11ea_9651_1831bf72f72frow9_col7\" class=\"data row9 col7\" >-0.0035</td> \n",
       "        <td id=\"T_3ec93976_36e8_11ea_9651_1831bf72f72frow9_col8\" class=\"data row9 col8\" >-0.019</td> \n",
       "        <td id=\"T_3ec93976_36e8_11ea_9651_1831bf72f72frow9_col9\" class=\"data row9 col9\" >1.0</td> \n",
       "        <td id=\"T_3ec93976_36e8_11ea_9651_1831bf72f72frow9_col10\" class=\"data row9 col10\" >-0.0012</td> \n",
       "        <td id=\"T_3ec93976_36e8_11ea_9651_1831bf72f72frow9_col11\" class=\"data row9 col11\" >-0.0069</td> \n",
       "        <td id=\"T_3ec93976_36e8_11ea_9651_1831bf72f72frow9_col12\" class=\"data row9 col12\" >0.024</td> \n",
       "        <td id=\"T_3ec93976_36e8_11ea_9651_1831bf72f72frow9_col13\" class=\"data row9 col13\" >0.0049</td> \n",
       "        <td id=\"T_3ec93976_36e8_11ea_9651_1831bf72f72frow9_col14\" class=\"data row9 col14\" >-0.00031</td> \n",
       "        <td id=\"T_3ec93976_36e8_11ea_9651_1831bf72f72frow9_col15\" class=\"data row9 col15\" >0.026</td> \n",
       "        <td id=\"T_3ec93976_36e8_11ea_9651_1831bf72f72frow9_col16\" class=\"data row9 col16\" >0.013</td> \n",
       "        <td id=\"T_3ec93976_36e8_11ea_9651_1831bf72f72frow9_col17\" class=\"data row9 col17\" >-0.015</td> \n",
       "        <td id=\"T_3ec93976_36e8_11ea_9651_1831bf72f72frow9_col18\" class=\"data row9 col18\" >0.024</td> \n",
       "        <td id=\"T_3ec93976_36e8_11ea_9651_1831bf72f72frow9_col19\" class=\"data row9 col19\" >-0.01</td> \n",
       "        <td id=\"T_3ec93976_36e8_11ea_9651_1831bf72f72frow9_col20\" class=\"data row9 col20\" >0.0044</td> \n",
       "    </tr>    <tr> \n",
       "        <th id=\"T_3ec93976_36e8_11ea_9651_1831bf72f72flevel0_row10\" class=\"row_heading level0 row10\" >pc</th> \n",
       "        <td id=\"T_3ec93976_36e8_11ea_9651_1831bf72f72frow10_col0\" class=\"data row10 col0\" >0.031</td> \n",
       "        <td id=\"T_3ec93976_36e8_11ea_9651_1831bf72f72frow10_col1\" class=\"data row10 col1\" >-0.01</td> \n",
       "        <td id=\"T_3ec93976_36e8_11ea_9651_1831bf72f72frow10_col2\" class=\"data row10 col2\" >-0.0052</td> \n",
       "        <td id=\"T_3ec93976_36e8_11ea_9651_1831bf72f72frow10_col3\" class=\"data row10 col3\" >-0.017</td> \n",
       "        <td id=\"T_3ec93976_36e8_11ea_9651_1831bf72f72frow10_col4\" class=\"data row10 col4\" >0.64</td> \n",
       "        <td id=\"T_3ec93976_36e8_11ea_9651_1831bf72f72frow10_col5\" class=\"data row10 col5\" >-0.0056</td> \n",
       "        <td id=\"T_3ec93976_36e8_11ea_9651_1831bf72f72frow10_col6\" class=\"data row10 col6\" >-0.033</td> \n",
       "        <td id=\"T_3ec93976_36e8_11ea_9651_1831bf72f72frow10_col7\" class=\"data row10 col7\" >0.026</td> \n",
       "        <td id=\"T_3ec93976_36e8_11ea_9651_1831bf72f72frow10_col8\" class=\"data row10 col8\" >0.019</td> \n",
       "        <td id=\"T_3ec93976_36e8_11ea_9651_1831bf72f72frow10_col9\" class=\"data row10 col9\" >-0.0012</td> \n",
       "        <td id=\"T_3ec93976_36e8_11ea_9651_1831bf72f72frow10_col10\" class=\"data row10 col10\" >1.0</td> \n",
       "        <td id=\"T_3ec93976_36e8_11ea_9651_1831bf72f72frow10_col11\" class=\"data row10 col11\" >-0.018</td> \n",
       "        <td id=\"T_3ec93976_36e8_11ea_9651_1831bf72f72frow10_col12\" class=\"data row10 col12\" >0.0042</td> \n",
       "        <td id=\"T_3ec93976_36e8_11ea_9651_1831bf72f72frow10_col13\" class=\"data row10 col13\" >0.029</td> \n",
       "        <td id=\"T_3ec93976_36e8_11ea_9651_1831bf72f72frow10_col14\" class=\"data row10 col14\" >0.0049</td> \n",
       "        <td id=\"T_3ec93976_36e8_11ea_9651_1831bf72f72frow10_col15\" class=\"data row10 col15\" >-0.024</td> \n",
       "        <td id=\"T_3ec93976_36e8_11ea_9651_1831bf72f72frow10_col16\" class=\"data row10 col16\" >0.015</td> \n",
       "        <td id=\"T_3ec93976_36e8_11ea_9651_1831bf72f72frow10_col17\" class=\"data row10 col17\" >-0.0013</td> \n",
       "        <td id=\"T_3ec93976_36e8_11ea_9651_1831bf72f72frow10_col18\" class=\"data row10 col18\" >-0.0087</td> \n",
       "        <td id=\"T_3ec93976_36e8_11ea_9651_1831bf72f72frow10_col19\" class=\"data row10 col19\" >0.0054</td> \n",
       "        <td id=\"T_3ec93976_36e8_11ea_9651_1831bf72f72frow10_col20\" class=\"data row10 col20\" >0.034</td> \n",
       "    </tr>    <tr> \n",
       "        <th id=\"T_3ec93976_36e8_11ea_9651_1831bf72f72flevel0_row11\" class=\"row_heading level0 row11\" >px_height</th> \n",
       "        <td id=\"T_3ec93976_36e8_11ea_9651_1831bf72f72frow11_col0\" class=\"data row11 col0\" >0.015</td> \n",
       "        <td id=\"T_3ec93976_36e8_11ea_9651_1831bf72f72frow11_col1\" class=\"data row11 col1\" >-0.0069</td> \n",
       "        <td id=\"T_3ec93976_36e8_11ea_9651_1831bf72f72frow11_col2\" class=\"data row11 col2\" >-0.015</td> \n",
       "        <td id=\"T_3ec93976_36e8_11ea_9651_1831bf72f72frow11_col3\" class=\"data row11 col3\" >-0.021</td> \n",
       "        <td id=\"T_3ec93976_36e8_11ea_9651_1831bf72f72frow11_col4\" class=\"data row11 col4\" >-0.01</td> \n",
       "        <td id=\"T_3ec93976_36e8_11ea_9651_1831bf72f72frow11_col5\" class=\"data row11 col5\" >-0.019</td> \n",
       "        <td id=\"T_3ec93976_36e8_11ea_9651_1831bf72f72frow11_col6\" class=\"data row11 col6\" >0.01</td> \n",
       "        <td id=\"T_3ec93976_36e8_11ea_9651_1831bf72f72frow11_col7\" class=\"data row11 col7\" >0.025</td> \n",
       "        <td id=\"T_3ec93976_36e8_11ea_9651_1831bf72f72frow11_col8\" class=\"data row11 col8\" >0.00094</td> \n",
       "        <td id=\"T_3ec93976_36e8_11ea_9651_1831bf72f72frow11_col9\" class=\"data row11 col9\" >-0.0069</td> \n",
       "        <td id=\"T_3ec93976_36e8_11ea_9651_1831bf72f72frow11_col10\" class=\"data row11 col10\" >-0.018</td> \n",
       "        <td id=\"T_3ec93976_36e8_11ea_9651_1831bf72f72frow11_col11\" class=\"data row11 col11\" >1.0</td> \n",
       "        <td id=\"T_3ec93976_36e8_11ea_9651_1831bf72f72frow11_col12\" class=\"data row11 col12\" >0.51</td> \n",
       "        <td id=\"T_3ec93976_36e8_11ea_9651_1831bf72f72frow11_col13\" class=\"data row11 col13\" >-0.02</td> \n",
       "        <td id=\"T_3ec93976_36e8_11ea_9651_1831bf72f72frow11_col14\" class=\"data row11 col14\" >0.06</td> \n",
       "        <td id=\"T_3ec93976_36e8_11ea_9651_1831bf72f72frow11_col15\" class=\"data row11 col15\" >0.043</td> \n",
       "        <td id=\"T_3ec93976_36e8_11ea_9651_1831bf72f72frow11_col16\" class=\"data row11 col16\" >-0.011</td> \n",
       "        <td id=\"T_3ec93976_36e8_11ea_9651_1831bf72f72frow11_col17\" class=\"data row11 col17\" >-0.031</td> \n",
       "        <td id=\"T_3ec93976_36e8_11ea_9651_1831bf72f72frow11_col18\" class=\"data row11 col18\" >0.022</td> \n",
       "        <td id=\"T_3ec93976_36e8_11ea_9651_1831bf72f72frow11_col19\" class=\"data row11 col19\" >0.052</td> \n",
       "        <td id=\"T_3ec93976_36e8_11ea_9651_1831bf72f72frow11_col20\" class=\"data row11 col20\" >0.15</td> \n",
       "    </tr>    <tr> \n",
       "        <th id=\"T_3ec93976_36e8_11ea_9651_1831bf72f72flevel0_row12\" class=\"row_heading level0 row12\" >px_width</th> \n",
       "        <td id=\"T_3ec93976_36e8_11ea_9651_1831bf72f72frow12_col0\" class=\"data row12 col0\" >-0.0084</td> \n",
       "        <td id=\"T_3ec93976_36e8_11ea_9651_1831bf72f72frow12_col1\" class=\"data row12 col1\" >-0.042</td> \n",
       "        <td id=\"T_3ec93976_36e8_11ea_9651_1831bf72f72frow12_col2\" class=\"data row12 col2\" >-0.0095</td> \n",
       "        <td id=\"T_3ec93976_36e8_11ea_9651_1831bf72f72frow12_col3\" class=\"data row12 col3\" >0.014</td> \n",
       "        <td id=\"T_3ec93976_36e8_11ea_9651_1831bf72f72frow12_col4\" class=\"data row12 col4\" >-0.0052</td> \n",
       "        <td id=\"T_3ec93976_36e8_11ea_9651_1831bf72f72frow12_col5\" class=\"data row12 col5\" >0.0074</td> \n",
       "        <td id=\"T_3ec93976_36e8_11ea_9651_1831bf72f72frow12_col6\" class=\"data row12 col6\" >-0.0083</td> \n",
       "        <td id=\"T_3ec93976_36e8_11ea_9651_1831bf72f72frow12_col7\" class=\"data row12 col7\" >0.024</td> \n",
       "        <td id=\"T_3ec93976_36e8_11ea_9651_1831bf72f72frow12_col8\" class=\"data row12 col8\" >9e-05</td> \n",
       "        <td id=\"T_3ec93976_36e8_11ea_9651_1831bf72f72frow12_col9\" class=\"data row12 col9\" >0.024</td> \n",
       "        <td id=\"T_3ec93976_36e8_11ea_9651_1831bf72f72frow12_col10\" class=\"data row12 col10\" >0.0042</td> \n",
       "        <td id=\"T_3ec93976_36e8_11ea_9651_1831bf72f72frow12_col11\" class=\"data row12 col11\" >0.51</td> \n",
       "        <td id=\"T_3ec93976_36e8_11ea_9651_1831bf72f72frow12_col12\" class=\"data row12 col12\" >1.0</td> \n",
       "        <td id=\"T_3ec93976_36e8_11ea_9651_1831bf72f72frow12_col13\" class=\"data row12 col13\" >0.0041</td> \n",
       "        <td id=\"T_3ec93976_36e8_11ea_9651_1831bf72f72frow12_col14\" class=\"data row12 col14\" >0.022</td> \n",
       "        <td id=\"T_3ec93976_36e8_11ea_9651_1831bf72f72frow12_col15\" class=\"data row12 col15\" >0.035</td> \n",
       "        <td id=\"T_3ec93976_36e8_11ea_9651_1831bf72f72frow12_col16\" class=\"data row12 col16\" >0.0067</td> \n",
       "        <td id=\"T_3ec93976_36e8_11ea_9651_1831bf72f72frow12_col17\" class=\"data row12 col17\" >0.00035</td> \n",
       "        <td id=\"T_3ec93976_36e8_11ea_9651_1831bf72f72frow12_col18\" class=\"data row12 col18\" >-0.0016</td> \n",
       "        <td id=\"T_3ec93976_36e8_11ea_9651_1831bf72f72frow12_col19\" class=\"data row12 col19\" >0.03</td> \n",
       "        <td id=\"T_3ec93976_36e8_11ea_9651_1831bf72f72frow12_col20\" class=\"data row12 col20\" >0.17</td> \n",
       "    </tr>    <tr> \n",
       "        <th id=\"T_3ec93976_36e8_11ea_9651_1831bf72f72flevel0_row13\" class=\"row_heading level0 row13\" >ram</th> \n",
       "        <td id=\"T_3ec93976_36e8_11ea_9651_1831bf72f72frow13_col0\" class=\"data row13 col0\" >-0.00065</td> \n",
       "        <td id=\"T_3ec93976_36e8_11ea_9651_1831bf72f72frow13_col1\" class=\"data row13 col1\" >0.026</td> \n",
       "        <td id=\"T_3ec93976_36e8_11ea_9651_1831bf72f72frow13_col2\" class=\"data row13 col2\" >0.0034</td> \n",
       "        <td id=\"T_3ec93976_36e8_11ea_9651_1831bf72f72frow13_col3\" class=\"data row13 col3\" >0.041</td> \n",
       "        <td id=\"T_3ec93976_36e8_11ea_9651_1831bf72f72frow13_col4\" class=\"data row13 col4\" >0.015</td> \n",
       "        <td id=\"T_3ec93976_36e8_11ea_9651_1831bf72f72frow13_col5\" class=\"data row13 col5\" >0.0073</td> \n",
       "        <td id=\"T_3ec93976_36e8_11ea_9651_1831bf72f72frow13_col6\" class=\"data row13 col6\" >0.033</td> \n",
       "        <td id=\"T_3ec93976_36e8_11ea_9651_1831bf72f72frow13_col7\" class=\"data row13 col7\" >-0.0094</td> \n",
       "        <td id=\"T_3ec93976_36e8_11ea_9651_1831bf72f72frow13_col8\" class=\"data row13 col8\" >-0.0026</td> \n",
       "        <td id=\"T_3ec93976_36e8_11ea_9651_1831bf72f72frow13_col9\" class=\"data row13 col9\" >0.0049</td> \n",
       "        <td id=\"T_3ec93976_36e8_11ea_9651_1831bf72f72frow13_col10\" class=\"data row13 col10\" >0.029</td> \n",
       "        <td id=\"T_3ec93976_36e8_11ea_9651_1831bf72f72frow13_col11\" class=\"data row13 col11\" >-0.02</td> \n",
       "        <td id=\"T_3ec93976_36e8_11ea_9651_1831bf72f72frow13_col12\" class=\"data row13 col12\" >0.0041</td> \n",
       "        <td id=\"T_3ec93976_36e8_11ea_9651_1831bf72f72frow13_col13\" class=\"data row13 col13\" >1.0</td> \n",
       "        <td id=\"T_3ec93976_36e8_11ea_9651_1831bf72f72frow13_col14\" class=\"data row13 col14\" >0.016</td> \n",
       "        <td id=\"T_3ec93976_36e8_11ea_9651_1831bf72f72frow13_col15\" class=\"data row13 col15\" >0.036</td> \n",
       "        <td id=\"T_3ec93976_36e8_11ea_9651_1831bf72f72frow13_col16\" class=\"data row13 col16\" >0.011</td> \n",
       "        <td id=\"T_3ec93976_36e8_11ea_9651_1831bf72f72frow13_col17\" class=\"data row13 col17\" >0.016</td> \n",
       "        <td id=\"T_3ec93976_36e8_11ea_9651_1831bf72f72frow13_col18\" class=\"data row13 col18\" >-0.03</td> \n",
       "        <td id=\"T_3ec93976_36e8_11ea_9651_1831bf72f72frow13_col19\" class=\"data row13 col19\" >0.023</td> \n",
       "        <td id=\"T_3ec93976_36e8_11ea_9651_1831bf72f72frow13_col20\" class=\"data row13 col20\" >0.92</td> \n",
       "    </tr>    <tr> \n",
       "        <th id=\"T_3ec93976_36e8_11ea_9651_1831bf72f72flevel0_row14\" class=\"row_heading level0 row14\" >sc_h</th> \n",
       "        <td id=\"T_3ec93976_36e8_11ea_9651_1831bf72f72frow14_col0\" class=\"data row14 col0\" >-0.03</td> \n",
       "        <td id=\"T_3ec93976_36e8_11ea_9651_1831bf72f72frow14_col1\" class=\"data row14 col1\" >-0.003</td> \n",
       "        <td id=\"T_3ec93976_36e8_11ea_9651_1831bf72f72frow14_col2\" class=\"data row14 col2\" >-0.029</td> \n",
       "        <td id=\"T_3ec93976_36e8_11ea_9651_1831bf72f72frow14_col3\" class=\"data row14 col3\" >-0.012</td> \n",
       "        <td id=\"T_3ec93976_36e8_11ea_9651_1831bf72f72frow14_col4\" class=\"data row14 col4\" >-0.011</td> \n",
       "        <td id=\"T_3ec93976_36e8_11ea_9651_1831bf72f72frow14_col5\" class=\"data row14 col5\" >0.027</td> \n",
       "        <td id=\"T_3ec93976_36e8_11ea_9651_1831bf72f72frow14_col6\" class=\"data row14 col6\" >0.038</td> \n",
       "        <td id=\"T_3ec93976_36e8_11ea_9651_1831bf72f72frow14_col7\" class=\"data row14 col7\" >-0.025</td> \n",
       "        <td id=\"T_3ec93976_36e8_11ea_9651_1831bf72f72frow14_col8\" class=\"data row14 col8\" >-0.034</td> \n",
       "        <td id=\"T_3ec93976_36e8_11ea_9651_1831bf72f72frow14_col9\" class=\"data row14 col9\" >-0.00031</td> \n",
       "        <td id=\"T_3ec93976_36e8_11ea_9651_1831bf72f72frow14_col10\" class=\"data row14 col10\" >0.0049</td> \n",
       "        <td id=\"T_3ec93976_36e8_11ea_9651_1831bf72f72frow14_col11\" class=\"data row14 col11\" >0.06</td> \n",
       "        <td id=\"T_3ec93976_36e8_11ea_9651_1831bf72f72frow14_col12\" class=\"data row14 col12\" >0.022</td> \n",
       "        <td id=\"T_3ec93976_36e8_11ea_9651_1831bf72f72frow14_col13\" class=\"data row14 col13\" >0.016</td> \n",
       "        <td id=\"T_3ec93976_36e8_11ea_9651_1831bf72f72frow14_col14\" class=\"data row14 col14\" >1.0</td> \n",
       "        <td id=\"T_3ec93976_36e8_11ea_9651_1831bf72f72frow14_col15\" class=\"data row14 col15\" >0.51</td> \n",
       "        <td id=\"T_3ec93976_36e8_11ea_9651_1831bf72f72frow14_col16\" class=\"data row14 col16\" >-0.017</td> \n",
       "        <td id=\"T_3ec93976_36e8_11ea_9651_1831bf72f72frow14_col17\" class=\"data row14 col17\" >0.012</td> \n",
       "        <td id=\"T_3ec93976_36e8_11ea_9651_1831bf72f72frow14_col18\" class=\"data row14 col18\" >-0.02</td> \n",
       "        <td id=\"T_3ec93976_36e8_11ea_9651_1831bf72f72frow14_col19\" class=\"data row14 col19\" >0.026</td> \n",
       "        <td id=\"T_3ec93976_36e8_11ea_9651_1831bf72f72frow14_col20\" class=\"data row14 col20\" >0.023</td> \n",
       "    </tr>    <tr> \n",
       "        <th id=\"T_3ec93976_36e8_11ea_9651_1831bf72f72flevel0_row15\" class=\"row_heading level0 row15\" >sc_w</th> \n",
       "        <td id=\"T_3ec93976_36e8_11ea_9651_1831bf72f72frow15_col0\" class=\"data row15 col0\" >-0.021</td> \n",
       "        <td id=\"T_3ec93976_36e8_11ea_9651_1831bf72f72frow15_col1\" class=\"data row15 col1\" >0.00061</td> \n",
       "        <td id=\"T_3ec93976_36e8_11ea_9651_1831bf72f72frow15_col2\" class=\"data row15 col2\" >-0.0074</td> \n",
       "        <td id=\"T_3ec93976_36e8_11ea_9651_1831bf72f72frow15_col3\" class=\"data row15 col3\" >-0.017</td> \n",
       "        <td id=\"T_3ec93976_36e8_11ea_9651_1831bf72f72frow15_col4\" class=\"data row15 col4\" >-0.012</td> \n",
       "        <td id=\"T_3ec93976_36e8_11ea_9651_1831bf72f72frow15_col5\" class=\"data row15 col5\" >0.037</td> \n",
       "        <td id=\"T_3ec93976_36e8_11ea_9651_1831bf72f72frow15_col6\" class=\"data row15 col6\" >0.012</td> \n",
       "        <td id=\"T_3ec93976_36e8_11ea_9651_1831bf72f72frow15_col7\" class=\"data row15 col7\" >-0.018</td> \n",
       "        <td id=\"T_3ec93976_36e8_11ea_9651_1831bf72f72frow15_col8\" class=\"data row15 col8\" >-0.021</td> \n",
       "        <td id=\"T_3ec93976_36e8_11ea_9651_1831bf72f72frow15_col9\" class=\"data row15 col9\" >0.026</td> \n",
       "        <td id=\"T_3ec93976_36e8_11ea_9651_1831bf72f72frow15_col10\" class=\"data row15 col10\" >-0.024</td> \n",
       "        <td id=\"T_3ec93976_36e8_11ea_9651_1831bf72f72frow15_col11\" class=\"data row15 col11\" >0.043</td> \n",
       "        <td id=\"T_3ec93976_36e8_11ea_9651_1831bf72f72frow15_col12\" class=\"data row15 col12\" >0.035</td> \n",
       "        <td id=\"T_3ec93976_36e8_11ea_9651_1831bf72f72frow15_col13\" class=\"data row15 col13\" >0.036</td> \n",
       "        <td id=\"T_3ec93976_36e8_11ea_9651_1831bf72f72frow15_col14\" class=\"data row15 col14\" >0.51</td> \n",
       "        <td id=\"T_3ec93976_36e8_11ea_9651_1831bf72f72frow15_col15\" class=\"data row15 col15\" >1.0</td> \n",
       "        <td id=\"T_3ec93976_36e8_11ea_9651_1831bf72f72frow15_col16\" class=\"data row15 col16\" >-0.023</td> \n",
       "        <td id=\"T_3ec93976_36e8_11ea_9651_1831bf72f72frow15_col17\" class=\"data row15 col17\" >0.031</td> \n",
       "        <td id=\"T_3ec93976_36e8_11ea_9651_1831bf72f72frow15_col18\" class=\"data row15 col18\" >0.013</td> \n",
       "        <td id=\"T_3ec93976_36e8_11ea_9651_1831bf72f72frow15_col19\" class=\"data row15 col19\" >0.035</td> \n",
       "        <td id=\"T_3ec93976_36e8_11ea_9651_1831bf72f72frow15_col20\" class=\"data row15 col20\" >0.039</td> \n",
       "    </tr>    <tr> \n",
       "        <th id=\"T_3ec93976_36e8_11ea_9651_1831bf72f72flevel0_row16\" class=\"row_heading level0 row16\" >talk_time</th> \n",
       "        <td id=\"T_3ec93976_36e8_11ea_9651_1831bf72f72frow16_col0\" class=\"data row16 col0\" >0.053</td> \n",
       "        <td id=\"T_3ec93976_36e8_11ea_9651_1831bf72f72frow16_col1\" class=\"data row16 col1\" >0.014</td> \n",
       "        <td id=\"T_3ec93976_36e8_11ea_9651_1831bf72f72frow16_col2\" class=\"data row16 col2\" >-0.011</td> \n",
       "        <td id=\"T_3ec93976_36e8_11ea_9651_1831bf72f72frow16_col3\" class=\"data row16 col3\" >-0.039</td> \n",
       "        <td id=\"T_3ec93976_36e8_11ea_9651_1831bf72f72frow16_col4\" class=\"data row16 col4\" >-0.0068</td> \n",
       "        <td id=\"T_3ec93976_36e8_11ea_9651_1831bf72f72frow16_col5\" class=\"data row16 col5\" >-0.047</td> \n",
       "        <td id=\"T_3ec93976_36e8_11ea_9651_1831bf72f72frow16_col6\" class=\"data row16 col6\" >-0.0028</td> \n",
       "        <td id=\"T_3ec93976_36e8_11ea_9651_1831bf72f72frow16_col7\" class=\"data row16 col7\" >0.017</td> \n",
       "        <td id=\"T_3ec93976_36e8_11ea_9651_1831bf72f72frow16_col8\" class=\"data row16 col8\" >0.0062</td> \n",
       "        <td id=\"T_3ec93976_36e8_11ea_9651_1831bf72f72frow16_col9\" class=\"data row16 col9\" >0.013</td> \n",
       "        <td id=\"T_3ec93976_36e8_11ea_9651_1831bf72f72frow16_col10\" class=\"data row16 col10\" >0.015</td> \n",
       "        <td id=\"T_3ec93976_36e8_11ea_9651_1831bf72f72frow16_col11\" class=\"data row16 col11\" >-0.011</td> \n",
       "        <td id=\"T_3ec93976_36e8_11ea_9651_1831bf72f72frow16_col12\" class=\"data row16 col12\" >0.0067</td> \n",
       "        <td id=\"T_3ec93976_36e8_11ea_9651_1831bf72f72frow16_col13\" class=\"data row16 col13\" >0.011</td> \n",
       "        <td id=\"T_3ec93976_36e8_11ea_9651_1831bf72f72frow16_col14\" class=\"data row16 col14\" >-0.017</td> \n",
       "        <td id=\"T_3ec93976_36e8_11ea_9651_1831bf72f72frow16_col15\" class=\"data row16 col15\" >-0.023</td> \n",
       "        <td id=\"T_3ec93976_36e8_11ea_9651_1831bf72f72frow16_col16\" class=\"data row16 col16\" >1.0</td> \n",
       "        <td id=\"T_3ec93976_36e8_11ea_9651_1831bf72f72frow16_col17\" class=\"data row16 col17\" >-0.043</td> \n",
       "        <td id=\"T_3ec93976_36e8_11ea_9651_1831bf72f72frow16_col18\" class=\"data row16 col18\" >0.017</td> \n",
       "        <td id=\"T_3ec93976_36e8_11ea_9651_1831bf72f72frow16_col19\" class=\"data row16 col19\" >-0.03</td> \n",
       "        <td id=\"T_3ec93976_36e8_11ea_9651_1831bf72f72frow16_col20\" class=\"data row16 col20\" >0.022</td> \n",
       "    </tr>    <tr> \n",
       "        <th id=\"T_3ec93976_36e8_11ea_9651_1831bf72f72flevel0_row17\" class=\"row_heading level0 row17\" >three_g</th> \n",
       "        <td id=\"T_3ec93976_36e8_11ea_9651_1831bf72f72frow17_col0\" class=\"data row17 col0\" >0.012</td> \n",
       "        <td id=\"T_3ec93976_36e8_11ea_9651_1831bf72f72frow17_col1\" class=\"data row17 col1\" >-0.03</td> \n",
       "        <td id=\"T_3ec93976_36e8_11ea_9651_1831bf72f72frow17_col2\" class=\"data row17 col2\" >-0.046</td> \n",
       "        <td id=\"T_3ec93976_36e8_11ea_9651_1831bf72f72frow17_col3\" class=\"data row17 col3\" >-0.014</td> \n",
       "        <td id=\"T_3ec93976_36e8_11ea_9651_1831bf72f72frow17_col4\" class=\"data row17 col4\" >0.0018</td> \n",
       "        <td id=\"T_3ec93976_36e8_11ea_9651_1831bf72f72frow17_col5\" class=\"data row17 col5\" >0.58</td> \n",
       "        <td id=\"T_3ec93976_36e8_11ea_9651_1831bf72f72frow17_col6\" class=\"data row17 col6\" >-0.0094</td> \n",
       "        <td id=\"T_3ec93976_36e8_11ea_9651_1831bf72f72frow17_col7\" class=\"data row17 col7\" >-0.012</td> \n",
       "        <td id=\"T_3ec93976_36e8_11ea_9651_1831bf72f72frow17_col8\" class=\"data row17 col8\" >0.0016</td> \n",
       "        <td id=\"T_3ec93976_36e8_11ea_9651_1831bf72f72frow17_col9\" class=\"data row17 col9\" >-0.015</td> \n",
       "        <td id=\"T_3ec93976_36e8_11ea_9651_1831bf72f72frow17_col10\" class=\"data row17 col10\" >-0.0013</td> \n",
       "        <td id=\"T_3ec93976_36e8_11ea_9651_1831bf72f72frow17_col11\" class=\"data row17 col11\" >-0.031</td> \n",
       "        <td id=\"T_3ec93976_36e8_11ea_9651_1831bf72f72frow17_col12\" class=\"data row17 col12\" >0.00035</td> \n",
       "        <td id=\"T_3ec93976_36e8_11ea_9651_1831bf72f72frow17_col13\" class=\"data row17 col13\" >0.016</td> \n",
       "        <td id=\"T_3ec93976_36e8_11ea_9651_1831bf72f72frow17_col14\" class=\"data row17 col14\" >0.012</td> \n",
       "        <td id=\"T_3ec93976_36e8_11ea_9651_1831bf72f72frow17_col15\" class=\"data row17 col15\" >0.031</td> \n",
       "        <td id=\"T_3ec93976_36e8_11ea_9651_1831bf72f72frow17_col16\" class=\"data row17 col16\" >-0.043</td> \n",
       "        <td id=\"T_3ec93976_36e8_11ea_9651_1831bf72f72frow17_col17\" class=\"data row17 col17\" >1.0</td> \n",
       "        <td id=\"T_3ec93976_36e8_11ea_9651_1831bf72f72frow17_col18\" class=\"data row17 col18\" >0.014</td> \n",
       "        <td id=\"T_3ec93976_36e8_11ea_9651_1831bf72f72frow17_col19\" class=\"data row17 col19\" >0.0043</td> \n",
       "        <td id=\"T_3ec93976_36e8_11ea_9651_1831bf72f72frow17_col20\" class=\"data row17 col20\" >0.024</td> \n",
       "    </tr>    <tr> \n",
       "        <th id=\"T_3ec93976_36e8_11ea_9651_1831bf72f72flevel0_row18\" class=\"row_heading level0 row18\" >touch_screen</th> \n",
       "        <td id=\"T_3ec93976_36e8_11ea_9651_1831bf72f72frow18_col0\" class=\"data row18 col0\" >-0.011</td> \n",
       "        <td id=\"T_3ec93976_36e8_11ea_9651_1831bf72f72frow18_col1\" class=\"data row18 col1\" >0.01</td> \n",
       "        <td id=\"T_3ec93976_36e8_11ea_9651_1831bf72f72frow18_col2\" class=\"data row18 col2\" >0.02</td> \n",
       "        <td id=\"T_3ec93976_36e8_11ea_9651_1831bf72f72frow18_col3\" class=\"data row18 col3\" >-0.017</td> \n",
       "        <td id=\"T_3ec93976_36e8_11ea_9651_1831bf72f72frow18_col4\" class=\"data row18 col4\" >-0.015</td> \n",
       "        <td id=\"T_3ec93976_36e8_11ea_9651_1831bf72f72frow18_col5\" class=\"data row18 col5\" >0.017</td> \n",
       "        <td id=\"T_3ec93976_36e8_11ea_9651_1831bf72f72frow18_col6\" class=\"data row18 col6\" >-0.027</td> \n",
       "        <td id=\"T_3ec93976_36e8_11ea_9651_1831bf72f72frow18_col7\" class=\"data row18 col7\" >-0.0026</td> \n",
       "        <td id=\"T_3ec93976_36e8_11ea_9651_1831bf72f72frow18_col8\" class=\"data row18 col8\" >-0.014</td> \n",
       "        <td id=\"T_3ec93976_36e8_11ea_9651_1831bf72f72frow18_col9\" class=\"data row18 col9\" >0.024</td> \n",
       "        <td id=\"T_3ec93976_36e8_11ea_9651_1831bf72f72frow18_col10\" class=\"data row18 col10\" >-0.0087</td> \n",
       "        <td id=\"T_3ec93976_36e8_11ea_9651_1831bf72f72frow18_col11\" class=\"data row18 col11\" >0.022</td> \n",
       "        <td id=\"T_3ec93976_36e8_11ea_9651_1831bf72f72frow18_col12\" class=\"data row18 col12\" >-0.0016</td> \n",
       "        <td id=\"T_3ec93976_36e8_11ea_9651_1831bf72f72frow18_col13\" class=\"data row18 col13\" >-0.03</td> \n",
       "        <td id=\"T_3ec93976_36e8_11ea_9651_1831bf72f72frow18_col14\" class=\"data row18 col14\" >-0.02</td> \n",
       "        <td id=\"T_3ec93976_36e8_11ea_9651_1831bf72f72frow18_col15\" class=\"data row18 col15\" >0.013</td> \n",
       "        <td id=\"T_3ec93976_36e8_11ea_9651_1831bf72f72frow18_col16\" class=\"data row18 col16\" >0.017</td> \n",
       "        <td id=\"T_3ec93976_36e8_11ea_9651_1831bf72f72frow18_col17\" class=\"data row18 col17\" >0.014</td> \n",
       "        <td id=\"T_3ec93976_36e8_11ea_9651_1831bf72f72frow18_col18\" class=\"data row18 col18\" >1.0</td> \n",
       "        <td id=\"T_3ec93976_36e8_11ea_9651_1831bf72f72frow18_col19\" class=\"data row18 col19\" >0.012</td> \n",
       "        <td id=\"T_3ec93976_36e8_11ea_9651_1831bf72f72frow18_col20\" class=\"data row18 col20\" >-0.03</td> \n",
       "    </tr>    <tr> \n",
       "        <th id=\"T_3ec93976_36e8_11ea_9651_1831bf72f72flevel0_row19\" class=\"row_heading level0 row19\" >wifi</th> \n",
       "        <td id=\"T_3ec93976_36e8_11ea_9651_1831bf72f72frow19_col0\" class=\"data row19 col0\" >-0.0083</td> \n",
       "        <td id=\"T_3ec93976_36e8_11ea_9651_1831bf72f72frow19_col1\" class=\"data row19 col1\" >-0.022</td> \n",
       "        <td id=\"T_3ec93976_36e8_11ea_9651_1831bf72f72frow19_col2\" class=\"data row19 col2\" >-0.024</td> \n",
       "        <td id=\"T_3ec93976_36e8_11ea_9651_1831bf72f72frow19_col3\" class=\"data row19 col3\" >0.023</td> \n",
       "        <td id=\"T_3ec93976_36e8_11ea_9651_1831bf72f72frow19_col4\" class=\"data row19 col4\" >0.02</td> \n",
       "        <td id=\"T_3ec93976_36e8_11ea_9651_1831bf72f72frow19_col5\" class=\"data row19 col5\" >-0.018</td> \n",
       "        <td id=\"T_3ec93976_36e8_11ea_9651_1831bf72f72frow19_col6\" class=\"data row19 col6\" >0.007</td> \n",
       "        <td id=\"T_3ec93976_36e8_11ea_9651_1831bf72f72frow19_col7\" class=\"data row19 col7\" >-0.028</td> \n",
       "        <td id=\"T_3ec93976_36e8_11ea_9651_1831bf72f72frow19_col8\" class=\"data row19 col8\" >-0.00041</td> \n",
       "        <td id=\"T_3ec93976_36e8_11ea_9651_1831bf72f72frow19_col9\" class=\"data row19 col9\" >-0.01</td> \n",
       "        <td id=\"T_3ec93976_36e8_11ea_9651_1831bf72f72frow19_col10\" class=\"data row19 col10\" >0.0054</td> \n",
       "        <td id=\"T_3ec93976_36e8_11ea_9651_1831bf72f72frow19_col11\" class=\"data row19 col11\" >0.052</td> \n",
       "        <td id=\"T_3ec93976_36e8_11ea_9651_1831bf72f72frow19_col12\" class=\"data row19 col12\" >0.03</td> \n",
       "        <td id=\"T_3ec93976_36e8_11ea_9651_1831bf72f72frow19_col13\" class=\"data row19 col13\" >0.023</td> \n",
       "        <td id=\"T_3ec93976_36e8_11ea_9651_1831bf72f72frow19_col14\" class=\"data row19 col14\" >0.026</td> \n",
       "        <td id=\"T_3ec93976_36e8_11ea_9651_1831bf72f72frow19_col15\" class=\"data row19 col15\" >0.035</td> \n",
       "        <td id=\"T_3ec93976_36e8_11ea_9651_1831bf72f72frow19_col16\" class=\"data row19 col16\" >-0.03</td> \n",
       "        <td id=\"T_3ec93976_36e8_11ea_9651_1831bf72f72frow19_col17\" class=\"data row19 col17\" >0.0043</td> \n",
       "        <td id=\"T_3ec93976_36e8_11ea_9651_1831bf72f72frow19_col18\" class=\"data row19 col18\" >0.012</td> \n",
       "        <td id=\"T_3ec93976_36e8_11ea_9651_1831bf72f72frow19_col19\" class=\"data row19 col19\" >1.0</td> \n",
       "        <td id=\"T_3ec93976_36e8_11ea_9651_1831bf72f72frow19_col20\" class=\"data row19 col20\" >0.019</td> \n",
       "    </tr>    <tr> \n",
       "        <th id=\"T_3ec93976_36e8_11ea_9651_1831bf72f72flevel0_row20\" class=\"row_heading level0 row20\" >price_range</th> \n",
       "        <td id=\"T_3ec93976_36e8_11ea_9651_1831bf72f72frow20_col0\" class=\"data row20 col0\" >0.2</td> \n",
       "        <td id=\"T_3ec93976_36e8_11ea_9651_1831bf72f72frow20_col1\" class=\"data row20 col1\" >0.021</td> \n",
       "        <td id=\"T_3ec93976_36e8_11ea_9651_1831bf72f72frow20_col2\" class=\"data row20 col2\" >-0.0066</td> \n",
       "        <td id=\"T_3ec93976_36e8_11ea_9651_1831bf72f72frow20_col3\" class=\"data row20 col3\" >0.017</td> \n",
       "        <td id=\"T_3ec93976_36e8_11ea_9651_1831bf72f72frow20_col4\" class=\"data row20 col4\" >0.022</td> \n",
       "        <td id=\"T_3ec93976_36e8_11ea_9651_1831bf72f72frow20_col5\" class=\"data row20 col5\" >0.015</td> \n",
       "        <td id=\"T_3ec93976_36e8_11ea_9651_1831bf72f72frow20_col6\" class=\"data row20 col6\" >0.044</td> \n",
       "        <td id=\"T_3ec93976_36e8_11ea_9651_1831bf72f72frow20_col7\" class=\"data row20 col7\" >0.00085</td> \n",
       "        <td id=\"T_3ec93976_36e8_11ea_9651_1831bf72f72frow20_col8\" class=\"data row20 col8\" >-0.03</td> \n",
       "        <td id=\"T_3ec93976_36e8_11ea_9651_1831bf72f72frow20_col9\" class=\"data row20 col9\" >0.0044</td> \n",
       "        <td id=\"T_3ec93976_36e8_11ea_9651_1831bf72f72frow20_col10\" class=\"data row20 col10\" >0.034</td> \n",
       "        <td id=\"T_3ec93976_36e8_11ea_9651_1831bf72f72frow20_col11\" class=\"data row20 col11\" >0.15</td> \n",
       "        <td id=\"T_3ec93976_36e8_11ea_9651_1831bf72f72frow20_col12\" class=\"data row20 col12\" >0.17</td> \n",
       "        <td id=\"T_3ec93976_36e8_11ea_9651_1831bf72f72frow20_col13\" class=\"data row20 col13\" >0.92</td> \n",
       "        <td id=\"T_3ec93976_36e8_11ea_9651_1831bf72f72frow20_col14\" class=\"data row20 col14\" >0.023</td> \n",
       "        <td id=\"T_3ec93976_36e8_11ea_9651_1831bf72f72frow20_col15\" class=\"data row20 col15\" >0.039</td> \n",
       "        <td id=\"T_3ec93976_36e8_11ea_9651_1831bf72f72frow20_col16\" class=\"data row20 col16\" >0.022</td> \n",
       "        <td id=\"T_3ec93976_36e8_11ea_9651_1831bf72f72frow20_col17\" class=\"data row20 col17\" >0.024</td> \n",
       "        <td id=\"T_3ec93976_36e8_11ea_9651_1831bf72f72frow20_col18\" class=\"data row20 col18\" >-0.03</td> \n",
       "        <td id=\"T_3ec93976_36e8_11ea_9651_1831bf72f72frow20_col19\" class=\"data row20 col19\" >0.019</td> \n",
       "        <td id=\"T_3ec93976_36e8_11ea_9651_1831bf72f72frow20_col20\" class=\"data row20 col20\" >1.0</td> \n",
       "    </tr></tbody> \n",
       "</table> "
      ],
      "text/plain": [
       "<pandas.io.formats.style.Styler at 0x1ece860d9e8>"
      ]
     },
     "execution_count": 50,
     "metadata": {},
     "output_type": "execute_result"
    }
   ],
   "source": [
    "df.corr().style.format(\"{:.2}\").background_gradient(cmap=plt.get_cmap('coolwarm'), axis=1)"
   ]
  },
  {
   "cell_type": "markdown",
   "metadata": {},
   "source": [
    "# 2. Choosing the best model\n",
    "The best way to choose the hyper parameters that maximize the model’s score is to use a **grid search**, but it is sometimes useful to plot the influence of a single hyper parameter on training or test data to determine if the model is underfitting or overfitting under the influence of that hyper parameter’s values. \n",
    "In order to determine that influence, we are going to use a **validation curve**. The validation curve explores the relation between a range of values for a given hyper parameter and the model’s score combined with k split cross validation. Before fitting the data to a model, we split it into a training and a testing set keeping 80% of the original data into training and the rest for testing. We also standardize the data to have mean 0 and variance 1"
   ]
  },
  {
   "cell_type": "code",
   "execution_count": 10,
   "metadata": {},
   "outputs": [],
   "source": [
    "x = df.drop('price_range', axis = 1).drop('three_g', axis = 1).drop('pc', axis = 1)\n",
    "y = df['price_range']\n",
    "x_train, x_test, y_train, y_test = train_test_split(x, y, test_size = 0.2)\n",
    "\n",
    "scaler = StandardScaler()\n",
    "x_train = scaler.fit_transform(x_train)\n",
    "x_test = scaler.transform(x_test)"
   ]
  },
  {
   "cell_type": "markdown",
   "metadata": {},
   "source": [
    "# 2.1 Random Forests\n",
    "\n",
    "Random forests is a learning method used for classification and/or regression that operates by building multiple decision trees at training time and outputs the majority class (classification) or mean prediction (regression) of each individual tree. This method uses two key concepts:\n",
    "\n",
    "    \n",
    "**1. Random sampling of training examples when building trees**\n",
    "\n",
    "\n",
    "\n",
    "    \n",
    "**2. Random subsets of features considered when building nodes**\n",
    "\n",
    "There are a few important hyper parameters that need to be tuned in order to obtain good results: number of estimators (the number of trees in the forest), the maximum depth of the tree, the minimum number of samples required to split a node, the number of features to consider when building nodes, the minimum samples required to be a leaf node or the criterion (gini impurity or information gain). In the below figures we can observe the validation curves for the number of estimators, the maximum depth, the minimum samples split and the minimum samples required to be a leaf node with a 10 split cross validation for each parameter"
   ]
  },
  {
   "cell_type": "markdown",
   "metadata": {},
   "source": [
    "### 2.1.1 Validation curve for max_depth parameter"
   ]
  },
  {
   "cell_type": "code",
   "execution_count": 12,
   "metadata": {},
   "outputs": [
    {
     "name": "stdout",
     "output_type": "stream",
     "text": [
      "Mean Train scores:  [0.86763921 0.98833265 0.99576374 0.99645852]\n",
      "Mean Validation scores:  [0.77005751 0.81443585 0.81817421 0.8119277 ]\n"
     ]
    },
    {
     "data": {
      "image/png": "[encoded data removed]",
      "text/plain": [
       "<Figure size 432x288 with 1 Axes>"
      ]
     },
     "metadata": {
      "needs_background": "light"
     },
     "output_type": "display_data"
    }
   ],
   "source": [
    "\n",
    "max_depth = (5,10,15,20)\n",
    "\n",
    "\n",
    "rfc = RandomForestClassifier(random_state = 0, bootstrap = True)\n",
    "\n",
    "train_scores, test_scores = validation_curve(\n",
    "    rfc, x_train, y_train, param_name=\"max_depth\", param_range=max_depth,cv = 10,\n",
    "    scoring=\"accuracy\", n_jobs=2)\n",
    "\n",
    "train_scores_mean = np.mean(train_scores, axis=1)\n",
    "print('Mean Train scores: ',train_scores_mean)\n",
    "test_scores_mean = np.mean(test_scores, axis=1)\n",
    "print('Mean Validation scores: ',test_scores_mean)\n",
    "\n",
    "plt.title(\"Validation Curve with Random Forests\")\n",
    "plt.xlabel(\"max_depth\")\n",
    "plt.ylabel(\"Score\")\n",
    "plt.ylim(0.0, 1.1)\n",
    "\n",
    "lw = 2\n",
    "\n",
    "plt.semilogx(max_depth, train_scores_mean, label=\"Training score\",\n",
    "             color=\"darkorange\", lw=lw)\n",
    "\n",
    "plt.semilogx(max_depth, test_scores_mean, label=\"Cross-validation score\",\n",
    "             color=\"navy\", lw=lw)\n",
    "\n",
    "plt.legend(loc=\"best\")\n",
    "plt.show()\n"
   ]
  },
  {
   "cell_type": "markdown",
   "metadata": {},
   "source": [
    "### 2.1.2 Validation curve for n_estimators parameter"
   ]
  },
  {
   "cell_type": "code",
   "execution_count": 13,
   "metadata": {},
   "outputs": [
    {
     "name": "stdout",
     "output_type": "stream",
     "text": [
      "Train scores:  [0.99625019 0.99972227 1.         1.        ]\n",
      "Validation scores:  [0.81007585 0.84766771 0.84945376 0.85759871]\n"
     ]
    },
    {
     "data": {
      "image/png": "[encoded data removed]",
      "text/plain": [
       "<Figure size 432x288 with 1 Axes>"
      ]
     },
     "metadata": {
      "needs_background": "light"
     },
     "output_type": "display_data"
    }
   ],
   "source": [
    "n_estimators = (10,20,30,40)\n",
    "train_scores, test_scores = validation_curve(\n",
    "    rfc, x_train, y_train, param_name=\"n_estimators\", param_range=n_estimators,cv = 10,\n",
    "    scoring=\"accuracy\", n_jobs=1)\n",
    "train_scores_mean = np.mean(train_scores, axis=1)\n",
    "print('Train scores: ',train_scores_mean)\n",
    "train_scores_std = np.std(train_scores, axis=1)\n",
    "test_scores_mean = np.mean(test_scores, axis=1)\n",
    "print('Validation scores: ',test_scores_mean)\n",
    "test_scores_std = np.std(test_scores, axis=1)\n",
    "\n",
    "plt.title(\"Validation Curve with Random Forests\")\n",
    "plt.xlabel(\"n_estimators\")\n",
    "plt.ylabel(\"Score\")\n",
    "plt.ylim(0.0, 1.1)\n",
    "lw = 2\n",
    "plt.semilogx(n_estimators, train_scores_mean, label=\"Training score\",\n",
    "             color=\"darkorange\", lw=lw)\n",
    "\n",
    "plt.semilogx(n_estimators, test_scores_mean, label=\"Cross-validation score\",\n",
    "             color=\"navy\", lw=lw)\n",
    "\n",
    "plt.legend(loc=\"best\")\n",
    "plt.show()"
   ]
  },
  {
   "cell_type": "markdown",
   "metadata": {},
   "source": [
    "### 2.1.3 Validation curve for min_samples_split parameter"
   ]
  },
  {
   "cell_type": "code",
   "execution_count": 14,
   "metadata": {},
   "outputs": [
    {
     "name": "stdout",
     "output_type": "stream",
     "text": [
      "Train scores:  [0.99625019 0.9907646  0.9763188  0.96437555]\n",
      "Validation scores:  [0.81007585 0.82562864 0.83891349 0.81883065]\n"
     ]
    },
    {
     "data": {
      "image/png": "[encoded data removed]",
      "text/plain": [
       "<Figure size 432x288 with 1 Axes>"
      ]
     },
     "metadata": {
      "needs_background": "light"
     },
     "output_type": "display_data"
    }
   ],
   "source": [
    "min_samples_split = (2,5,10,15)\n",
    "train_scores, test_scores = validation_curve(\n",
    "    rfc, x_train, y_train, param_name=\"min_samples_split\", param_range=min_samples_split,\n",
    "    cv = 10,scoring=\"accuracy\", n_jobs=1)\n",
    "train_scores_mean = np.mean(train_scores, axis=1)\n",
    "print('Train scores: ',train_scores_mean)\n",
    "test_scores_mean = np.mean(test_scores, axis=1)\n",
    "print('Validation scores: ',test_scores_mean)\n",
    "\n",
    "plt.title(\"Validation Curve with Random Forests\")\n",
    "plt.xlabel(\"min_sample_split\")\n",
    "plt.ylabel(\"Score\")\n",
    "plt.ylim(0.0, 1.1)\n",
    "plt.semilogx(min_samples_split, train_scores_mean, label=\"Training score\",\n",
    "             color=\"darkorange\", lw=lw)\n",
    "plt.semilogx(min_samples_split, test_scores_mean, label=\"Cross-validation score\",\n",
    "             color=\"navy\", lw=lw)\n",
    "\n",
    "plt.legend(loc=\"best\")\n",
    "plt.show()"
   ]
  },
  {
   "cell_type": "markdown",
   "metadata": {},
   "source": [
    "### 2.1.4 Validation curve for min_samples_leaf parameter"
   ]
  },
  {
   "cell_type": "code",
   "execution_count": 15,
   "metadata": {},
   "outputs": [
    {
     "name": "stdout",
     "output_type": "stream",
     "text": [
      "Train scores:  [0.99625019 0.99013874 0.96152533 0.92277515]\n",
      "Validation scores:  [0.81007585 0.83314786 0.83706907 0.81193585]\n"
     ]
    },
    {
     "data": {
      "image/png": "[encoded data removed]",
      "text/plain": [
       "<Figure size 432x288 with 1 Axes>"
      ]
     },
     "metadata": {
      "needs_background": "light"
     },
     "output_type": "display_data"
    }
   ],
   "source": [
    "min_samples_leaf = (1,2,5,10)\n",
    "train_scores, test_scores = validation_curve(\n",
    "    rfc, x_train, y_train, param_name=\"min_samples_leaf\", param_range=min_samples_leaf,\n",
    "    cv = 10,scoring=\"accuracy\", n_jobs=1)\n",
    "train_scores_mean = np.mean(train_scores, axis=1)\n",
    "print('Train scores: ',train_scores_mean)\n",
    "test_scores_mean = np.mean(test_scores, axis=1)\n",
    "print('Validation scores: ',test_scores_mean)\n",
    "\n",
    "plt.title(\"Validation Curve with Random Forests\")\n",
    "plt.xlabel(\"min_sample_leaf\")\n",
    "plt.ylabel(\"Score\")\n",
    "plt.ylim(0.0, 1.1)\n",
    "plt.semilogx(min_samples_leaf, train_scores_mean, label=\"Training score\",\n",
    "             color=\"darkorange\", lw=lw)\n",
    "plt.semilogx(min_samples_leaf, test_scores_mean, label=\"Cross-validation score\",\n",
    "             color=\"navy\", lw=lw)\n",
    "\n",
    "plt.legend(loc=\"best\")\n",
    "plt.show()"
   ]
  },
  {
   "cell_type": "markdown",
   "metadata": {},
   "source": [
    "**Retraining a model for n_estimators = 40, max_depth = 10, min_samples_split = 2 and min_samples_leaf = 2 gave us an accuracy of 0.996% accuracy on training set and 0.86% on the test set which means we are overfitting.\n",
    "Using the attribute feature_importances_ of the fitted model we did a ranking of each feature’s importance represented with a score. This is illustrated in the below figure and we can observe that feature number 12 which corresponds to the ram column is predominantly more important than the others.**"
   ]
  },
  {
   "cell_type": "code",
   "execution_count": 16,
   "metadata": {},
   "outputs": [
    {
     "name": "stdout",
     "output_type": "stream",
     "text": [
      "\n",
      " [[99  1  0  0]\n",
      " [ 6 79 12  0]\n",
      " [ 0 15 76 15]\n",
      " [ 0  0  7 90]] \n",
      "\n",
      "              precision    recall  f1-score   support\n",
      "\n",
      "           0       0.94      0.99      0.97       100\n",
      "           1       0.83      0.81      0.82        97\n",
      "           2       0.80      0.72      0.76       106\n",
      "           3       0.86      0.93      0.89        97\n",
      "\n",
      "   micro avg       0.86      0.86      0.86       400\n",
      "   macro avg       0.86      0.86      0.86       400\n",
      "weighted avg       0.86      0.86      0.86       400\n",
      "\n",
      "Training set score for Random Forest: 0.996875\n",
      "Testing  set score for Random Forest: 0.860000\n",
      "\n",
      "\n",
      "Feature ranking:\n",
      "1. feature ram (0.590689)\n",
      "2. feature battery_power (0.076483)\n",
      "3. feature px_height (0.053725)\n",
      "4. feature px_width (0.053550)\n",
      "5. feature int_memory (0.030254)\n",
      "6. feature mobile_wt (0.028710)\n",
      "7. feature talk_time (0.023672)\n",
      "8. feature clock_speed (0.022797)\n",
      "9. feature sc_w (0.022689)\n",
      "10. feature sc_h (0.020765)\n",
      "11. feature m_dep (0.018862)\n",
      "12. feature n_cores (0.017050)\n",
      "13. feature fc (0.016544)\n",
      "14. feature dual_sim (0.005637)\n",
      "15. feature four_g (0.005457)\n",
      "16. feature touch_screen (0.004777)\n",
      "17. feature wifi (0.004483)\n",
      "18. feature blue (0.003855)\n"
     ]
    },
    {
     "data": {
      "image/png": "[encoded data removed]",
      "text/plain": [
       "<Figure size 432x288 with 1 Axes>"
      ]
     },
     "metadata": {
      "needs_background": "light"
     },
     "output_type": "display_data"
    }
   ],
   "source": [
    "rf_clf_best = RandomForestClassifier(n_estimators = 40, max_depth = 10, min_samples_split = 2, min_samples_leaf = 2,\n",
    "                                     bootstrap = True,random_state=0)\n",
    "rf_clf_best.fit(x_train, y_train)\n",
    "y_pred_rf = rf_clf_best.predict(x_test)\n",
    "\n",
    "print('\\n',confusion_matrix(y_test, y_pred_rf), '\\n')\n",
    "print(classification_report(y_test, y_pred_rf))\n",
    "print(\"Training set score for Random Forest: %f\" % rf_clf_best.score(x_train , y_train))\n",
    "print(\"Testing  set score for Random Forest: %f\" % rf_clf_best.score(x_test, y_test ))\n",
    "\n",
    "importances = rf_clf_best.feature_importances_\n",
    "std = np.std([tree.feature_importances_ for tree in rf_clf_best.estimators_],\n",
    "             axis=0)\n",
    "indices = np.argsort(importances)[::-1]\n",
    "\n",
    "print(\"\\n\\nFeature ranking:\")\n",
    "\n",
    "for f in range(x_train.shape[1]):\n",
    "    print(\"%d. feature %s (%f)\" % (f + 1, x.columns[indices[f]], importances[indices[f]]))\n",
    "\n",
    "plt.figure()\n",
    "plt.title(\"Feature importances\")\n",
    "plt.bar(range(x_train.shape[1]), importances[indices],\n",
    "       color=\"r\", yerr=std[indices], align=\"center\")\n",
    "plt.xticks(range(x_train.shape[1]), indices)\n",
    "plt.xlim([-1, x_train.shape[1]])\n",
    "plt.show()"
   ]
  },
  {
   "cell_type": "markdown",
   "metadata": {},
   "source": [
    "**Fitting the same model, but dropping from the dataset the last 5 features with the lowest score in importance, we obtain 0.993% accuracy on training set and 0.87% on the test set, however we got a worse precision and f1-score. (only 0.29)**"
   ]
  },
  {
   "cell_type": "code",
   "execution_count": 17,
   "metadata": {},
   "outputs": [
    {
     "name": "stdout",
     "output_type": "stream",
     "text": [
      "              precision    recall  f1-score   support\n",
      "\n",
      "           0       0.32      0.33      0.33       100\n",
      "           1       0.23      0.23      0.23        97\n",
      "           2       0.31      0.27      0.29       106\n",
      "           3       0.30      0.33      0.31        97\n",
      "\n",
      "   micro avg       0.29      0.29      0.29       400\n",
      "   macro avg       0.29      0.29      0.29       400\n",
      "weighted avg       0.29      0.29      0.29       400\n",
      "\n",
      "Training set score for Random Forest: 0.993750\n",
      "Testing  set score for Random Forest: 0.870000\n"
     ]
    }
   ],
   "source": [
    "x_reduced = x.drop('touch_screen', axis = 1).drop('four_g', axis = 1).drop('wifi', axis = 1).drop('blue', axis = 1).drop('dual_sim', axis = 1)\n",
    "x_train_reduced, x_test_reduced, y_train_reduced, y_test_reduced = train_test_split(x_reduced, y, test_size = 0.2)\n",
    "\n",
    "rf_clf_best = RandomForestClassifier(n_estimators = 50, max_depth = 10, min_samples_split = 2, min_samples_leaf = 2,\n",
    "                                     random_state=0)\n",
    "rf_clf_best.fit(x_train_reduced, y_train_reduced)\n",
    "y_pred_rf = rf_clf_best.predict(x_test_reduced)\n",
    "\n",
    "print(classification_report(y_test, y_pred_rf))\n",
    "print(\"Training set score for Random Forest: %f\" % rf_clf_best.score(x_train_reduced , y_train_reduced))\n",
    "print(\"Testing  set score for Random Forest: %f\" % rf_clf_best.score(x_test_reduced, y_test_reduced ))"
   ]
  },
  {
   "cell_type": "markdown",
   "metadata": {},
   "source": [
    "**Below it's a heatmap plot of the obtained confusion matrix**"
   ]
  },
  {
   "cell_type": "code",
   "execution_count": 18,
   "metadata": {},
   "outputs": [
    {
     "data": {
      "image/png": "[encoded data removed]",
      "text/plain": [
       "<Figure size 432x288 with 2 Axes>"
      ]
     },
     "metadata": {},
     "output_type": "display_data"
    }
   ],
   "source": [
    "cm = confusion_matrix(y_test_reduced, y_pred_rf)\n",
    "df_cm = pd.DataFrame(cm, range(cm.shape[0]),\n",
    "                  range(cm.shape[1]))\n",
    "\n",
    "sns.set(font_scale=.9)\n",
    "sns.heatmap(df_cm, annot=True,annot_kws={\"size\": 16}, fmt = \"d\")\n",
    "\n",
    "plt.show()"
   ]
  },
  {
   "cell_type": "markdown",
   "metadata": {},
   "source": [
    "**I also tried a grid search over the param_grid dictionary containing a range of values for each parameter combined with a 10 split cross validation obtaining 0.88% accuracy (which is still overfitting) on a model fitted with the hyper parameters which got the best mean test accuracy.**"
   ]
  },
  {
   "cell_type": "code",
   "execution_count": 19,
   "metadata": {},
   "outputs": [
    {
     "data": {
      "text/plain": [
       "{'max_depth': 15,\n",
       " 'min_samples_leaf': 2,\n",
       " 'min_samples_split': 2,\n",
       " 'n_estimators': 40}"
      ]
     },
     "execution_count": 19,
     "metadata": {},
     "output_type": "execute_result"
    }
   ],
   "source": [
    "param_grid = { \n",
    "    'n_estimators': [10,20,30,40],\n",
    "    'max_depth' : [5,10,15,20],\n",
    "    'min_samples_split' : [2, 5, 10, 15],\n",
    "    'min_samples_leaf' : [1, 2, 5, 10]\n",
    "}\n",
    "\n",
    "rf_grid_search = GridSearchCV(estimator = rfc, param_grid = param_grid, cv = 10)\n",
    "rf_grid_search.fit(x_train_reduced, y_train_reduced)\n",
    "\n",
    "rf_grid_search.best_params_\n"
   ]
  },
  {
   "cell_type": "code",
   "execution_count": 20,
   "metadata": {},
   "outputs": [
    {
     "data": {
      "text/plain": [
       "0.8775"
      ]
     },
     "execution_count": 20,
     "metadata": {},
     "output_type": "execute_result"
    }
   ],
   "source": [
    "max(pd.DataFrame(rf_grid_search.cv_results_)['mean_test_score'])"
   ]
  },
  {
   "cell_type": "code",
   "execution_count": 21,
   "metadata": {},
   "outputs": [
    {
     "name": "stdout",
     "output_type": "stream",
     "text": [
      "              precision    recall  f1-score   support\n",
      "\n",
      "           0       0.32      0.33      0.33       100\n",
      "           1       0.21      0.21      0.21        97\n",
      "           2       0.30      0.27      0.29       106\n",
      "           3       0.30      0.33      0.31        97\n",
      "\n",
      "   micro avg       0.28      0.28      0.28       400\n",
      "   macro avg       0.28      0.28      0.28       400\n",
      "weighted avg       0.28      0.28      0.28       400\n",
      "\n",
      "Training set score for Random Forest: 0.998750\n",
      "Testing  set score for Random Forest: 0.880000\n"
     ]
    }
   ],
   "source": [
    "rf_clf_best_gd = RandomForestClassifier(n_estimators = 40, max_depth = 15, min_samples_split = 2, min_samples_leaf = 2,\n",
    "                                     bootstrap = True, random_state=0)\n",
    "rf_clf_best_gd.fit(x_train_reduced, y_train_reduced)\n",
    "y_pred_rf_gd = rf_clf_best_gd.predict(x_test_reduced)\n",
    "\n",
    "print(classification_report(y_test, y_pred_rf_gd))\n",
    "print(\"Training set score for Random Forest: %f\" % rf_clf_best_gd.score(x_train_reduced , y_train_reduced))\n",
    "print(\"Testing  set score for Random Forest: %f\" % rf_clf_best_gd.score(x_test_reduced, y_test_reduced ))"
   ]
  },
  {
   "cell_type": "markdown",
   "metadata": {},
   "source": [
    "**Heatmap plot of the confusion matrix of RF's gridsearch model**"
   ]
  },
  {
   "cell_type": "code",
   "execution_count": 22,
   "metadata": {},
   "outputs": [
    {
     "data": {
      "image/png": "[encoded data removed]",
      "text/plain": [
       "<Figure size 432x288 with 2 Axes>"
      ]
     },
     "metadata": {},
     "output_type": "display_data"
    }
   ],
   "source": [
    "cm = confusion_matrix(y_test_reduced, y_pred_rf_gd)\n",
    "df_cm = pd.DataFrame(cm, range(cm.shape[0]),\n",
    "                  range(cm.shape[1]))\n",
    "\n",
    "sns.set(font_scale=.9)\n",
    "sns.heatmap(df_cm, annot=True,annot_kws={\"size\": 16}, fmt = \"d\")\n",
    "\n",
    "plt.show()"
   ]
  },
  {
   "cell_type": "markdown",
   "metadata": {},
   "source": [
    "# 2.2 Support Vector Machines\n",
    "\n",
    "SVMs or Support Vector Machines is a linear model which can be used in regression and/or classification tasks. It can also be used for solving non-linear problems by applying kernel functions. For example, if we consider a binary classification problem, what SVMs does is it tries to find a hyperplane that correctly separates the two classes. \n",
    "SVMs have a few important parameters that need to be tuned in order to obtain good results: <b>C</b> , acts like a regularization parameter and controls the trade-off between bias and variance. A large value of C means a high bias and low variance, whereas a small value of C means a low bias and high variance. \n",
    "The **kernel function** which can be a linear, polynomial or Gaussian kernel and **gamma** which is a parameter of the Gaussian kernel. "
   ]
  },
  {
   "cell_type": "markdown",
   "metadata": {},
   "source": [
    "### 2.2.1 Validation curve for C parameter"
   ]
  },
  {
   "cell_type": "code",
   "execution_count": 28,
   "metadata": {},
   "outputs": [
    {
     "name": "stdout",
     "output_type": "stream",
     "text": [
      "Train scores:  [0.96000059 0.97694399 0.98638835 0.99229176]\n",
      "Test scores:  [0.94317144 0.9538011  0.96942727 0.97190412]\n"
     ]
    },
    {
     "data": {
      "image/png": "[encoded data removed]",
      "text/plain": [
       "<Figure size 432x288 with 1 Axes>"
      ]
     },
     "metadata": {},
     "output_type": "display_data"
    }
   ],
   "source": [
    "C = (.1,  1,10, 100)\n",
    "\n",
    "train_scores, test_scores = validation_curve(\n",
    "    svm.SVC(kernel='linear'), x_train, y_train, param_name=\"C\", param_range=C, cv = 10,\n",
    "    scoring=\"accuracy\", n_jobs=1)\n",
    "train_scores_mean = np.mean(train_scores, axis=1)\n",
    "print('Train scores: ',train_scores_mean)\n",
    "train_scores_std = np.std(train_scores, axis=1)\n",
    "test_scores_mean = np.mean(test_scores, axis=1)\n",
    "print('Test scores: ',test_scores_mean)\n",
    "test_scores_std = np.std(test_scores, axis=1)\n",
    "\n",
    "plt.title(\"Validation Curve with SVM\")\n",
    "plt.xlabel(\"C\")\n",
    "plt.ylabel(\"Score\")\n",
    "plt.ylim(0.0, 1.1)\n",
    "lw = 2\n",
    "plt.semilogx(C, train_scores_mean, label=\"Training score\",\n",
    "             color=\"darkorange\", lw=lw)\n",
    "\n",
    "plt.semilogx(C, test_scores_mean, label=\"Cross-validation score\",\n",
    "             color=\"navy\", lw=lw)\n",
    "\n",
    "plt.legend(loc=\"best\")\n",
    "plt.show()"
   ]
  },
  {
   "cell_type": "markdown",
   "metadata": {},
   "source": [
    "### 2.2.2 Validation curve for gamma parameter\n"
   ]
  },
  {
   "cell_type": "code",
   "execution_count": 29,
   "metadata": {},
   "outputs": [
    {
     "name": "stdout",
     "output_type": "stream",
     "text": [
      "Train scores:  [0.49763869 0.75271106 0.94611135 0.99819411]\n",
      "Test scores:  [0.49749985 0.71118332 0.91067697 0.83007731]\n"
     ]
    },
    {
     "data": {
      "image/png": "[encoded data removed]",
      "text/plain": [
       "<Figure size 432x288 with 1 Axes>"
      ]
     },
     "metadata": {},
     "output_type": "display_data"
    }
   ],
   "source": [
    "gamma = (.0001,.001,.01, 0.1)\n",
    "train_scores, test_scores = validation_curve(\n",
    "    svm.SVC(kernel='rbf'), x_train, y_train, param_name=\"gamma\", param_range=gamma, cv = 10,\n",
    "    scoring=\"accuracy\", n_jobs=1)\n",
    "train_scores_mean = np.mean(train_scores, axis=1)\n",
    "print('Train scores: ',train_scores_mean)\n",
    "train_scores_std = np.std(train_scores, axis=1)\n",
    "test_scores_mean = np.mean(test_scores, axis=1)\n",
    "print('Test scores: ',test_scores_mean)\n",
    "test_scores_std = np.std(test_scores, axis=1)\n",
    "\n",
    "plt.title(\"Validation Curve with SVM\")\n",
    "plt.xlabel(\"Gamma\")\n",
    "plt.ylabel(\"Score\")\n",
    "plt.ylim(0.0, 1.1)\n",
    "lw = 2\n",
    "plt.semilogx(gamma, train_scores_mean, label=\"Training score\",\n",
    "             color=\"darkorange\", lw=lw)\n",
    "\n",
    "plt.semilogx(gamma, test_scores_mean, label=\"Cross-validation score\",\n",
    "             color=\"navy\", lw=lw)\n",
    "\n",
    "plt.legend(loc=\"best\")\n",
    "plt.show()"
   ]
  },
  {
   "cell_type": "markdown",
   "metadata": {},
   "source": [
    "### 2.2.3 Validation curve for kernel parameter\n"
   ]
  },
  {
   "cell_type": "code",
   "execution_count": 30,
   "metadata": {},
   "outputs": [
    {
     "name": "stdout",
     "output_type": "stream",
     "text": [
      "Train scores:  [0.97694399 0.98493006 0.96583369 0.86986056]\n",
      "Test scores:  [0.9538011  0.87263481 0.76938563 0.91881406]\n"
     ]
    },
    {
     "data": {
      "image/png": "[encoded data removed]",
      "text/plain": [
       "<Figure size 432x288 with 1 Axes>"
      ]
     },
     "metadata": {},
     "output_type": "display_data"
    }
   ],
   "source": [
    "kernel = ('linear', 'rbf', 'poly', 'sigmoid')\n",
    "train_scores, test_scores = validation_curve(\n",
    "    svm.SVC(), x_train, y_train, param_name=\"kernel\", param_range=kernel, cv = 10,\n",
    "    scoring=\"accuracy\", n_jobs=1)\n",
    "train_scores_mean = np.mean(train_scores, axis=1)\n",
    "print('Train scores: ',train_scores_mean)\n",
    "train_scores_std = np.std(train_scores, axis=1)\n",
    "test_scores_mean = np.mean(test_scores, axis=1)\n",
    "print('Test scores: ',test_scores_mean)\n",
    "test_scores_std = np.std(test_scores, axis=1)\n",
    "\n",
    "plt.title(\"Validation Curve with SVM\")\n",
    "plt.xlabel(\"kernel\")\n",
    "plt.ylabel(\"Score\")\n",
    "plt.ylim(0.0, 1.1)\n",
    "lw = 2\n",
    "plt.semilogx(kernel, train_scores_mean, label=\"Training score\",\n",
    "             color=\"darkorange\", lw=lw)\n",
    "\n",
    "plt.semilogx(kernel, test_scores_mean, label=\"Cross-validation score\",\n",
    "             color=\"navy\", lw=lw)\n",
    "\n",
    "plt.legend(loc=\"best\")\n",
    "plt.show()"
   ]
  },
  {
   "cell_type": "markdown",
   "metadata": {},
   "source": [
    "**I retrained the model with the hyper parameters which obtained the best mean test accuracy. Retraining the model for C = 100, Gamma = 0.01 and kernel = 'linear' gave us an accuracy of 0.987% on training set and 0.977% on test set, which is the best result so far.**"
   ]
  },
  {
   "cell_type": "code",
   "execution_count": 8,
   "metadata": {},
   "outputs": [
    {
     "name": "stdout",
     "output_type": "stream",
     "text": [
      "\n",
      " [[ 93   1   0   0]\n",
      " [  2 101   3   0]\n",
      " [  0   2  91   1]\n",
      " [  0   0   0 106]] \n",
      "\n",
      "              precision    recall  f1-score   support\n",
      "\n",
      "           0       0.98      0.99      0.98        94\n",
      "           1       0.97      0.95      0.96       106\n",
      "           2       0.97      0.97      0.97        94\n",
      "           3       0.99      1.00      1.00       106\n",
      "\n",
      "   micro avg       0.98      0.98      0.98       400\n",
      "   macro avg       0.98      0.98      0.98       400\n",
      "weighted avg       0.98      0.98      0.98       400\n",
      "\n",
      "Training set score for SVM: 0.987500\n",
      "Testing  set score for SVM: 0.977500\n"
     ]
    }
   ],
   "source": [
    "best_model_svm = svm.SVC(kernel='linear', C = 100, gamma = 0.01)\n",
    "best_model_svm.fit(x_train, y_train)\n",
    "y_pred_svm = best_model_svm.predict(x_test)\n",
    "\n",
    "print('\\n',confusion_matrix(y_test, y_pred_svm), '\\n')\n",
    "print(classification_report(y_test, y_pred_svm))\n",
    "print(\"Training set score for SVM: %f\" % best_model_svm.score(x_train , y_train))\n",
    "print(\"Testing  set score for SVM: %f\" % best_model_svm.score(x_test, y_test ))"
   ]
  },
  {
   "cell_type": "markdown",
   "metadata": {},
   "source": [
    "**Below there's a heatmap plot of the confusion matrix of the above model**"
   ]
  },
  {
   "cell_type": "code",
   "execution_count": 19,
   "metadata": {},
   "outputs": [
    {
     "data": {
      "image/png": "[encoded data removed]",
      "text/plain": [
       "<Figure size 432x288 with 2 Axes>"
      ]
     },
     "metadata": {},
     "output_type": "display_data"
    }
   ],
   "source": [
    "\n",
    "cm = confusion_matrix(y_test, y_pred_svm)\n",
    "df_cm = pd.DataFrame(cm, range(cm.shape[0]),\n",
    "                  range(cm.shape[1]))\n",
    "\n",
    "sns.set(font_scale=.9)\n",
    "sns.heatmap(df_cm, annot=True,annot_kws={\"size\": 16}, fmt = \"d\")\n",
    "\n",
    "plt.show()"
   ]
  },
  {
   "cell_type": "markdown",
   "metadata": {},
   "source": [
    "**I then tried a grid search over the param_grid dictionary containing the hyper parameters and their values to see if we can get a better result. I obtained: C = 100, Gamma = 0.00001, kernel = 'linear' and a test accuracy of 0.977%.**"
   ]
  },
  {
   "cell_type": "code",
   "execution_count": 10,
   "metadata": {},
   "outputs": [
    {
     "data": {
      "text/plain": [
       "GridSearchCV(cv=10, error_score='raise-deprecating',\n",
       "       estimator=SVC(C=1.0, cache_size=200, class_weight=None, coef0=0.0,\n",
       "  decision_function_shape='ovr', degree=3, gamma='auto_deprecated',\n",
       "  kernel='rbf', max_iter=-1, probability=False, random_state=None,\n",
       "  shrinking=True, tol=0.001, verbose=False),\n",
       "       fit_params=None, iid='warn', n_jobs=None,\n",
       "       param_grid={'kernel': ['linear', 'rbf', 'poly', 'sigmoid'], 'C': [0.1, 1, 10, 100], 'gamma': array([1.00000e-06, 1.77828e-05, 3.16228e-04, 5.62341e-03, 1.00000e-01])},\n",
       "       pre_dispatch='2*n_jobs', refit=True, return_train_score='warn',\n",
       "       scoring=None, verbose=0)"
      ]
     },
     "execution_count": 10,
     "metadata": {},
     "output_type": "execute_result"
    }
   ],
   "source": [
    "param_grid = { \n",
    "    'kernel': ['linear', 'rbf','poly','sigmoid'],\n",
    "    'C' : [.1,1,10,100],\n",
    "    'gamma' : np.logspace(-6,-1,5)\n",
    "}\n",
    "svm_clf_best = svm.SVC()\n",
    "svm_grid_search = GridSearchCV(estimator = svm_clf_best, param_grid = param_grid, cv = 10)\n",
    "svm_grid_search.fit(x_train, y_train)"
   ]
  },
  {
   "cell_type": "code",
   "execution_count": 11,
   "metadata": {},
   "outputs": [
    {
     "data": {
      "text/plain": [
       "{'C': 100, 'gamma': 1e-06, 'kernel': 'linear'}"
      ]
     },
     "execution_count": 11,
     "metadata": {},
     "output_type": "execute_result"
    }
   ],
   "source": [
    "svm_grid_search.best_params_"
   ]
  },
  {
   "cell_type": "code",
   "execution_count": 13,
   "metadata": {},
   "outputs": [
    {
     "data": {
      "text/plain": [
       "0.969375"
      ]
     },
     "execution_count": 13,
     "metadata": {},
     "output_type": "execute_result"
    }
   ],
   "source": [
    "max(pd.DataFrame(svm_grid_search.cv_results_)['mean_test_score'])"
   ]
  },
  {
   "cell_type": "code",
   "execution_count": 14,
   "metadata": {},
   "outputs": [
    {
     "name": "stdout",
     "output_type": "stream",
     "text": [
      "\n",
      " [[ 93   1   0   0]\n",
      " [  2 101   3   0]\n",
      " [  0   2  91   1]\n",
      " [  0   0   0 106]] \n",
      "\n",
      "              precision    recall  f1-score   support\n",
      "\n",
      "           0       0.98      0.99      0.98        94\n",
      "           1       0.97      0.95      0.96       106\n",
      "           2       0.97      0.97      0.97        94\n",
      "           3       0.99      1.00      1.00       106\n",
      "\n",
      "   micro avg       0.98      0.98      0.98       400\n",
      "   macro avg       0.98      0.98      0.98       400\n",
      "weighted avg       0.98      0.98      0.98       400\n",
      "\n",
      "Training set score for SVM: 0.987500\n",
      "Testing  set score for SVM: 0.977500\n"
     ]
    }
   ],
   "source": [
    "best_model_svm_gd = svm.SVC(kernel='linear', C = 100, gamma = 1e-06)\n",
    "best_model_svm_gd.fit(x_train, y_train)\n",
    "y_pred_svm_gd = best_model_svm_gd.predict(x_test)\n",
    "\n",
    "print('\\n',confusion_matrix(y_test, y_pred_svm_gd), '\\n')\n",
    "print(classification_report(y_test, y_pred_svm_gd))\n",
    "print(\"Training set score for SVM: %f\" % best_model_svm_gd.score(x_train , y_train))\n",
    "print(\"Testing  set score for SVM: %f\" % best_model_svm_gd.score(x_test, y_test ))"
   ]
  },
  {
   "cell_type": "markdown",
   "metadata": {},
   "source": [
    "**Heatmap plot of the confusion matrix of SVM's gridsearch model**"
   ]
  },
  {
   "cell_type": "code",
   "execution_count": 15,
   "metadata": {},
   "outputs": [
    {
     "data": {
      "image/png": "[encoded data removed]",
      "text/plain": [
       "<Figure size 432x288 with 2 Axes>"
      ]
     },
     "metadata": {},
     "output_type": "display_data"
    }
   ],
   "source": [
    "\n",
    "cm = confusion_matrix(y_test, y_pred_svm_gd)\n",
    "df_cm = pd.DataFrame(cm, range(cm.shape[0]),\n",
    "                  range(cm.shape[1]))\n",
    "\n",
    "sns.set(font_scale=.9)\n",
    "sns.heatmap(df_cm, annot=True,annot_kws={\"size\": 16}, fmt = \"d\")\n",
    "\n",
    "plt.show()"
   ]
  },
  {
   "cell_type": "markdown",
   "metadata": {},
   "source": [
    "# 3. Conclusion"
   ]
  },
  {
   "cell_type": "markdown",
   "metadata": {},
   "source": [
    "We  can observe in the below table that SVMs with a linear kernel outperforms Random Forests in terms of test accuracy, precision and F1-score. This is an indicator that our data is linearly separable and this is true since SVM with a linear kernel obtains better results than other kernel functions. SVMs are also better suited for small datasets, whereas tree based methods tend to overfit when we have a small number of examples.  "
   ]
  },
  {
   "cell_type": "markdown",
   "metadata": {},
   "source": [
    "\n",
    "<table width=\"500\" height=\"1000\">\n",
    "    <tr>\n",
    "        <th><b>Model</b></th>\n",
    "        <th><b>Test accuracy</b></th>\n",
    "        <th><b>Precision</b></th>\n",
    "        <th><b>F1-score</b></th>\n",
    "    </tr>\n",
    "    <tr>\n",
    "        <td>Random Forests</td>\n",
    "        <td>0.88</td>\n",
    "        <td>0.28</td>\n",
    "        <td>0.28</td>\n",
    "    </tr>\n",
    "    <tr>\n",
    "        <td>SVMs</td>\n",
    "        <td>0.977</td>\n",
    "        <td>0.98</td>\n",
    "        <td>0.98</td>\n",
    "    </tr>\n",
    "</table>"
   ]
  },
  {
   "cell_type": "code",
   "execution_count": null,
   "metadata": {},
   "outputs": [],
   "source": []
  }
 ],
 "metadata": {
  "kernelspec": {
   "display_name": "Python 3",
   "language": "python",
   "name": "python3"
  },
  "language_info": {
   "codemirror_mode": {
    "name": "ipython",
    "version": 3
   },
   "file_extension": ".py",
   "mimetype": "text/x-python",
   "name": "python",
   "nbconvert_exporter": "python",
   "pygments_lexer": "ipython3",
   "version": "3.7.1"
  }
 },
 "nbformat": 4,
 "nbformat_minor": 2
}
